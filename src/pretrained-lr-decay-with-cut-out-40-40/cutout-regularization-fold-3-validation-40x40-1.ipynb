{
 "cells": [
  {
   "cell_type": "code",
   "execution_count": 1,
   "metadata": {
    "_cell_guid": "b1076dfc-b9ad-4769-8c92-a6c4dae69d19",
    "_uuid": "8f2839f25d086af736a60e9eeb907d3b93b6e0e5",
    "execution": {
     "iopub.execute_input": "2020-11-22T11:53:56.179292Z",
     "iopub.status.busy": "2020-11-22T11:53:56.178394Z",
     "iopub.status.idle": "2020-11-22T11:54:02.127766Z",
     "shell.execute_reply": "2020-11-22T11:54:02.126797Z"
    },
    "papermill": {
     "duration": 5.970017,
     "end_time": "2020-11-22T11:54:02.127899",
     "exception": false,
     "start_time": "2020-11-22T11:53:56.157882",
     "status": "completed"
    },
    "tags": []
   },
   "outputs": [],
   "source": [
    "import pandas as pd\n",
    "import numpy as np   \n",
    "import matplotlib.pyplot as plt\n",
    "plt.style.use('ggplot')\n",
    "from sklearn.metrics import f1_score\n",
    "\n",
    "import keras, math\n",
    "import tensorflow as tf\n",
    "from keras_preprocessing.image import ImageDataGenerator\n",
    "from keras.applications.inception_v3 import InceptionV3, preprocess_input\n",
    "from keras.models import Sequential, Model, load_model\n",
    "from keras.layers import Dropout, Flatten, Dense, GlobalAveragePooling2D\n",
    "from keras.optimizers import SGD\n",
    "from keras.callbacks import ModelCheckpoint, LearningRateScheduler"
   ]
  },
  {
   "cell_type": "markdown",
   "metadata": {
    "papermill": {
     "duration": 0.010735,
     "end_time": "2020-11-22T11:54:02.150485",
     "exception": false,
     "start_time": "2020-11-22T11:54:02.139750",
     "status": "completed"
    },
    "tags": []
   },
   "source": [
    "## Preprocessing Functions for Adience Dataset"
   ]
  },
  {
   "cell_type": "code",
   "execution_count": 2,
   "metadata": {
    "_cell_guid": "79c7e3d0-c299-4dcb-8224-4455121ee9b0",
    "_uuid": "d629ff2d2480ee46fbb7e2d37f6b5fab8052498a",
    "execution": {
     "iopub.execute_input": "2020-11-22T11:54:02.186143Z",
     "iopub.status.busy": "2020-11-22T11:54:02.184166Z",
     "iopub.status.idle": "2020-11-22T11:54:02.186897Z",
     "shell.execute_reply": "2020-11-22T11:54:02.187444Z"
    },
    "papermill": {
     "duration": 0.025146,
     "end_time": "2020-11-22T11:54:02.187572",
     "exception": false,
     "start_time": "2020-11-22T11:54:02.162426",
     "status": "completed"
    },
    "tags": []
   },
   "outputs": [],
   "source": [
    "def create_path(df, basepath):\n",
    "    \"\"\"\n",
    "    this function creates column of image file path for each image\n",
    "    \"\"\"\n",
    "    df['path'] = df.apply(lambda x: f\"{basepath}{x['user_id']}/landmark_aligned_face.{x['face_id']}.{x['original_image']}\", axis=1)\n",
    "    return df\n",
    "\n",
    "def filter_df(df):\n",
    "    \"\"\"\n",
    "    this function removes images with unknown gender from the dataset\n",
    "    \"\"\"\n",
    "    df['valid'] = df['gender'].apply(lambda x: int(x in ['f', 'm']))\n",
    "    df = df[df['valid'] == 1]\n",
    "    return df.reset_index(drop=True)\n",
    "\n",
    "def flow_ready(df):\n",
    "    \"\"\"\n",
    "    this function will make a dataframe ready for flow with cols: [image_path, category]\n",
    "    \"\"\"\n",
    "    df = pd.concat([df['path'],df['gender']],axis=1)\n",
    "    return df"
   ]
  },
  {
   "cell_type": "markdown",
   "metadata": {
    "papermill": {
     "duration": 0.011142,
     "end_time": "2020-11-22T11:54:02.210438",
     "exception": false,
     "start_time": "2020-11-22T11:54:02.199296",
     "status": "completed"
    },
    "tags": []
   },
   "source": [
    "## Loading Dataset"
   ]
  },
  {
   "cell_type": "code",
   "execution_count": 3,
   "metadata": {
    "execution": {
     "iopub.execute_input": "2020-11-22T11:54:02.250294Z",
     "iopub.status.busy": "2020-11-22T11:54:02.249545Z",
     "iopub.status.idle": "2020-11-22T11:54:03.125401Z",
     "shell.execute_reply": "2020-11-22T11:54:03.124156Z"
    },
    "papermill": {
     "duration": 0.903111,
     "end_time": "2020-11-22T11:54:03.125575",
     "exception": false,
     "start_time": "2020-11-22T11:54:02.222464",
     "status": "completed"
    },
    "tags": []
   },
   "outputs": [
    {
     "data": {
      "text/html": [
       "<div>\n",
       "<style scoped>\n",
       "    .dataframe tbody tr th:only-of-type {\n",
       "        vertical-align: middle;\n",
       "    }\n",
       "\n",
       "    .dataframe tbody tr th {\n",
       "        vertical-align: top;\n",
       "    }\n",
       "\n",
       "    .dataframe thead th {\n",
       "        text-align: right;\n",
       "    }\n",
       "</style>\n",
       "<table border=\"1\" class=\"dataframe\">\n",
       "  <thead>\n",
       "    <tr style=\"text-align: right;\">\n",
       "      <th></th>\n",
       "      <th>path</th>\n",
       "      <th>gender</th>\n",
       "    </tr>\n",
       "  </thead>\n",
       "  <tbody>\n",
       "    <tr>\n",
       "      <th>0</th>\n",
       "      <td>../input/adience-age-gender-prediction-aligned...</td>\n",
       "      <td>f</td>\n",
       "    </tr>\n",
       "    <tr>\n",
       "      <th>1</th>\n",
       "      <td>../input/adience-age-gender-prediction-aligned...</td>\n",
       "      <td>m</td>\n",
       "    </tr>\n",
       "    <tr>\n",
       "      <th>2</th>\n",
       "      <td>../input/adience-age-gender-prediction-aligned...</td>\n",
       "      <td>f</td>\n",
       "    </tr>\n",
       "    <tr>\n",
       "      <th>3</th>\n",
       "      <td>../input/adience-age-gender-prediction-aligned...</td>\n",
       "      <td>m</td>\n",
       "    </tr>\n",
       "    <tr>\n",
       "      <th>4</th>\n",
       "      <td>../input/adience-age-gender-prediction-aligned...</td>\n",
       "      <td>m</td>\n",
       "    </tr>\n",
       "  </tbody>\n",
       "</table>\n",
       "</div>"
      ],
      "text/plain": [
       "                                                path gender\n",
       "0  ../input/adience-age-gender-prediction-aligned...      f\n",
       "1  ../input/adience-age-gender-prediction-aligned...      m\n",
       "2  ../input/adience-age-gender-prediction-aligned...      f\n",
       "3  ../input/adience-age-gender-prediction-aligned...      m\n",
       "4  ../input/adience-age-gender-prediction-aligned...      m"
      ]
     },
     "execution_count": 3,
     "metadata": {},
     "output_type": "execute_result"
    }
   ],
   "source": [
    "data_folder = \"../input/adience-age-gender-prediction-aligned-faces/age-gender-data/\"\n",
    "img_folder = \"../input/adience-age-gender-prediction-aligned-faces/age-gender-data/aligned/\"\n",
    "\n",
    "fold0_df = pd.read_csv(f\"{data_folder}fold_{0}_data.txt\", sep=\"\\t\")\n",
    "fold1_df = pd.read_csv(f\"{data_folder}fold_{1}_data.txt\", sep=\"\\t\")\n",
    "fold2_df = pd.read_csv(f\"{data_folder}fold_{2}_data.txt\", sep=\"\\t\")\n",
    "fold3_df = pd.read_csv(f\"{data_folder}fold_{3}_data.txt\", sep=\"\\t\")\n",
    "fold4_df = pd.read_csv(f\"{data_folder}fold_{4}_data.txt\", sep=\"\\t\")\n",
    "\n",
    "# remove unknown genders\n",
    "fold0_df = filter_df(fold0_df)\n",
    "fold1_df = filter_df(fold1_df)\n",
    "fold2_df = filter_df(fold2_df)\n",
    "fold3_df = filter_df(fold3_df)\n",
    "fold4_df = filter_df(fold4_df)\n",
    "\n",
    "# create image file path for each image in dataset\n",
    "# create image_path, label dataframe for image generator\n",
    "fold0_df = flow_ready(create_path(fold0_df, img_folder))\n",
    "fold1_df = flow_ready(create_path(fold1_df, img_folder))\n",
    "fold2_df = flow_ready(create_path(fold2_df, img_folder))\n",
    "fold3_df = flow_ready(create_path(fold3_df, img_folder))\n",
    "fold4_df = flow_ready(create_path(fold4_df, img_folder))\n",
    "\n",
    "# initial train test set\n",
    "train_df = pd.concat([fold0_df, fold1_df, fold2_df, fold4_df])\n",
    "test_df = fold3_df\n",
    "\n",
    "train_df.head()"
   ]
  },
  {
   "cell_type": "markdown",
   "metadata": {
    "papermill": {
     "duration": 0.011785,
     "end_time": "2020-11-22T11:54:03.149751",
     "exception": false,
     "start_time": "2020-11-22T11:54:03.137966",
     "status": "completed"
    },
    "tags": []
   },
   "source": [
    "## Data Augmentation"
   ]
  },
  {
   "cell_type": "code",
   "execution_count": 4,
   "metadata": {
    "execution": {
     "iopub.execute_input": "2020-11-22T11:54:03.188557Z",
     "iopub.status.busy": "2020-11-22T11:54:03.186847Z",
     "iopub.status.idle": "2020-11-22T11:54:03.189540Z",
     "shell.execute_reply": "2020-11-22T11:54:03.190012Z"
    },
    "papermill": {
     "duration": 0.028632,
     "end_time": "2020-11-22T11:54:03.190141",
     "exception": false,
     "start_time": "2020-11-22T11:54:03.161509",
     "status": "completed"
    },
    "tags": []
   },
   "outputs": [],
   "source": [
    "class CutOutDataGenerator(ImageDataGenerator):\n",
    "    def __init__(self,\n",
    "                 cutout_size=None,\n",
    "                 n_squares=None,\n",
    "                 **kwargs):\n",
    "        '''\n",
    "        Custom image data generator for cutout regularization.\n",
    "        Behaves like ImageDataGenerator, but allows color augmentation.\n",
    "        '''\n",
    "        super().__init__(\n",
    "            preprocessing_function=self.augment_cutout,\n",
    "            **kwargs)\n",
    "\n",
    "        self.cutout_size = cutout_size\n",
    "        self.n_squares = n_squares\n",
    "    \n",
    "    def augment_cutout(self, image):\n",
    "        '''Takes an input image and returns a cutout version of it'''\n",
    "        h, w, channels = image.shape\n",
    "        new_image = image\n",
    "        for _ in range(self.n_squares):\n",
    "            y = tf.random.uniform([1], minval=0, maxval=h, dtype=tf.int32).numpy()[0]\n",
    "            x = tf.random.uniform([1], minval=0, maxval=w, dtype=tf.int32).numpy()[0]\n",
    "            y1 = tf.clip_by_value(y - self.cutout_size // 2, 0, h).numpy()\n",
    "            y2 = tf.clip_by_value(y + self.cutout_size // 2, 0, h).numpy()\n",
    "            x1 = tf.clip_by_value(x - self.cutout_size // 2, 0, w).numpy()\n",
    "            x2 = tf.clip_by_value(x + self.cutout_size // 2, 0, w).numpy()\n",
    "            new_image[y1:y2,x1:x2,:] = 0\n",
    "        return new_image"
   ]
  },
  {
   "cell_type": "code",
   "execution_count": 5,
   "metadata": {
    "execution": {
     "iopub.execute_input": "2020-11-22T11:54:03.219783Z",
     "iopub.status.busy": "2020-11-22T11:54:03.219083Z",
     "iopub.status.idle": "2020-11-22T11:54:03.222310Z",
     "shell.execute_reply": "2020-11-22T11:54:03.222799Z"
    },
    "papermill": {
     "duration": 0.020559,
     "end_time": "2020-11-22T11:54:03.222923",
     "exception": false,
     "start_time": "2020-11-22T11:54:03.202364",
     "status": "completed"
    },
    "tags": []
   },
   "outputs": [],
   "source": [
    "# based on pre-trained base\n",
    "image_size = (218, 178)\n",
    "batch_size = 32"
   ]
  },
  {
   "cell_type": "code",
   "execution_count": 6,
   "metadata": {
    "execution": {
     "iopub.execute_input": "2020-11-22T11:54:03.255541Z",
     "iopub.status.busy": "2020-11-22T11:54:03.253518Z",
     "iopub.status.idle": "2020-11-22T11:54:03.256352Z",
     "shell.execute_reply": "2020-11-22T11:54:03.256848Z"
    },
    "papermill": {
     "duration": 0.021592,
     "end_time": "2020-11-22T11:54:03.256960",
     "exception": false,
     "start_time": "2020-11-22T11:54:03.235368",
     "status": "completed"
    },
    "tags": []
   },
   "outputs": [],
   "source": [
    "train_datagen = CutOutDataGenerator(rotation_range = 6,\n",
    "                                   width_shift_range = 0.2,\n",
    "                                   height_shift_range = 0.2,\n",
    "                                   rescale = 1./255.,\n",
    "                                   horizontal_flip = True,\n",
    "                                   cutout_size=40, n_squares=1)\n",
    "\n",
    "val_datagen = ImageDataGenerator(rescale = 1./255.)"
   ]
  },
  {
   "cell_type": "code",
   "execution_count": 7,
   "metadata": {
    "execution": {
     "iopub.execute_input": "2020-11-22T11:54:03.331594Z",
     "iopub.status.busy": "2020-11-22T11:54:03.316261Z",
     "iopub.status.idle": "2020-11-22T11:54:07.629806Z",
     "shell.execute_reply": "2020-11-22T11:54:07.630540Z"
    },
    "papermill": {
     "duration": 4.360358,
     "end_time": "2020-11-22T11:54:07.630730",
     "exception": false,
     "start_time": "2020-11-22T11:54:03.270372",
     "status": "completed"
    },
    "tags": []
   },
   "outputs": [
    {
     "name": "stdout",
     "output_type": "stream",
     "text": [
      "Found 14186 validated image filenames belonging to 2 classes.\n",
      "Found 3306 validated image filenames belonging to 2 classes.\n"
     ]
    }
   ],
   "source": [
    "train_generator = train_datagen.flow_from_dataframe(dataframe=train_df,\n",
    "                                            x_col=train_df.columns[0],\n",
    "                                            y_col=train_df.columns[1],\n",
    "                                            batch_size=batch_size,\n",
    "                                            seed=42,\n",
    "                                            shuffle=True,\n",
    "                                            class_mode=\"categorical\",\n",
    "                                            target_size=image_size,\n",
    "                                            color_mode='rgb')\n",
    "\n",
    "val_generator = val_datagen.flow_from_dataframe(dataframe=test_df,\n",
    "                                            x_col=test_df.columns[0],\n",
    "                                            y_col=test_df.columns[1],\n",
    "                                            batch_size=batch_size,\n",
    "                                            seed=42,\n",
    "                                            shuffle=True,\n",
    "                                            class_mode=\"categorical\",\n",
    "                                            target_size=image_size,\n",
    "                                            color_mode='rgb')"
   ]
  },
  {
   "cell_type": "code",
   "execution_count": 8,
   "metadata": {
    "execution": {
     "iopub.execute_input": "2020-11-22T11:54:07.667313Z",
     "iopub.status.busy": "2020-11-22T11:54:07.666541Z",
     "iopub.status.idle": "2020-11-22T11:54:15.767675Z",
     "shell.execute_reply": "2020-11-22T11:54:15.766528Z"
    },
    "papermill": {
     "duration": 8.121416,
     "end_time": "2020-11-22T11:54:15.767809",
     "exception": false,
     "start_time": "2020-11-22T11:54:07.646393",
     "status": "completed"
    },
    "tags": []
   },
   "outputs": [],
   "source": [
    "inceptionv3_celeba = \"../input/image-recognition-gender-detection-inceptionv3/weights.best.inc.male.hdf5\"\n",
    "pretrained_model = load_model(inceptionv3_celeba)"
   ]
  },
  {
   "cell_type": "markdown",
   "metadata": {
    "papermill": {
     "duration": 0.014881,
     "end_time": "2020-11-22T11:54:15.797537",
     "exception": false,
     "start_time": "2020-11-22T11:54:15.782656",
     "status": "completed"
    },
    "tags": []
   },
   "source": [
    "## Callbacks"
   ]
  },
  {
   "cell_type": "code",
   "execution_count": 9,
   "metadata": {
    "execution": {
     "iopub.execute_input": "2020-11-22T11:54:15.838546Z",
     "iopub.status.busy": "2020-11-22T11:54:15.837664Z",
     "iopub.status.idle": "2020-11-22T11:54:15.841645Z",
     "shell.execute_reply": "2020-11-22T11:54:15.842173Z"
    },
    "papermill": {
     "duration": 0.02905,
     "end_time": "2020-11-22T11:54:15.842318",
     "exception": false,
     "start_time": "2020-11-22T11:54:15.813268",
     "status": "completed"
    },
    "tags": []
   },
   "outputs": [],
   "source": [
    "checkpoint = ModelCheckpoint('cutout_model_fold3.h5',\n",
    "                             monitor='val_accuracy', \n",
    "                             verbose=1, \n",
    "                             save_best_only=True, \n",
    "                             mode='max')\n",
    "\n",
    "def step_decay(epoch):\n",
    "    if epoch < 10:\n",
    "        lrate = 0.01\n",
    "    else:\n",
    "        initial_lrate = 0.005\n",
    "        drop = 0.5\n",
    "        epochs_drop = 10.0\n",
    "        lrate = initial_lrate * math.pow(drop, \n",
    "                math.floor((1+epoch)/epochs_drop))\n",
    "    return lrate\n",
    "  \n",
    "lrate = LearningRateScheduler(step_decay)\n",
    "callbacks_list= [checkpoint, lrate]"
   ]
  },
  {
   "cell_type": "code",
   "execution_count": 10,
   "metadata": {
    "execution": {
     "iopub.execute_input": "2020-11-22T11:54:15.877878Z",
     "iopub.status.busy": "2020-11-22T11:54:15.877227Z",
     "iopub.status.idle": "2020-11-22T11:54:15.882020Z",
     "shell.execute_reply": "2020-11-22T11:54:15.881348Z"
    },
    "papermill": {
     "duration": 0.023653,
     "end_time": "2020-11-22T11:54:15.882148",
     "exception": false,
     "start_time": "2020-11-22T11:54:15.858495",
     "status": "completed"
    },
    "tags": []
   },
   "outputs": [],
   "source": [
    "TRAIN_STEP_SIZE = train_generator.n//train_generator.batch_size\n",
    "VAL_STEP_SIZE = val_generator.n//val_generator.batch_size"
   ]
  },
  {
   "cell_type": "code",
   "execution_count": 11,
   "metadata": {
    "execution": {
     "iopub.execute_input": "2020-11-22T11:54:15.918827Z",
     "iopub.status.busy": "2020-11-22T11:54:15.917857Z",
     "iopub.status.idle": "2020-11-22T15:05:43.106566Z",
     "shell.execute_reply": "2020-11-22T15:05:43.105909Z"
    },
    "papermill": {
     "duration": 11487.210244,
     "end_time": "2020-11-22T15:05:43.106708",
     "exception": false,
     "start_time": "2020-11-22T11:54:15.896464",
     "status": "completed"
    },
    "tags": []
   },
   "outputs": [
    {
     "name": "stdout",
     "output_type": "stream",
     "text": [
      "Epoch 1/30\n",
      "443/443 [==============================] - ETA: 0s - loss: 0.3145 - accuracy: 0.8629\n",
      "Epoch 00001: val_accuracy improved from -inf to 0.87894, saving model to cutout_model_fold3.h5\n",
      "443/443 [==============================] - 425s 959ms/step - loss: 0.3145 - accuracy: 0.8629 - val_loss: 0.3345 - val_accuracy: 0.8789\n",
      "Epoch 2/30\n",
      "443/443 [==============================] - ETA: 0s - loss: 0.1835 - accuracy: 0.9291\n",
      "Epoch 00002: val_accuracy improved from 0.87894 to 0.92385, saving model to cutout_model_fold3.h5\n",
      "443/443 [==============================] - 382s 863ms/step - loss: 0.1835 - accuracy: 0.9291 - val_loss: 0.2097 - val_accuracy: 0.9238\n",
      "Epoch 3/30\n",
      "443/443 [==============================] - ETA: 0s - loss: 0.1486 - accuracy: 0.9443\n",
      "Epoch 00003: val_accuracy did not improve from 0.92385\n",
      "443/443 [==============================] - 378s 853ms/step - loss: 0.1486 - accuracy: 0.9443 - val_loss: 0.3207 - val_accuracy: 0.8856\n",
      "Epoch 4/30\n",
      "443/443 [==============================] - ETA: 0s - loss: 0.1234 - accuracy: 0.9539\n",
      "Epoch 00004: val_accuracy did not improve from 0.92385\n",
      "443/443 [==============================] - 371s 837ms/step - loss: 0.1234 - accuracy: 0.9539 - val_loss: 0.2455 - val_accuracy: 0.9072\n",
      "Epoch 5/30\n",
      "443/443 [==============================] - ETA: 0s - loss: 0.1003 - accuracy: 0.9618\n",
      "Epoch 00005: val_accuracy did not improve from 0.92385\n",
      "443/443 [==============================] - 368s 830ms/step - loss: 0.1003 - accuracy: 0.9618 - val_loss: 0.2541 - val_accuracy: 0.9059\n",
      "Epoch 6/30\n",
      "443/443 [==============================] - ETA: 0s - loss: 0.0860 - accuracy: 0.9691\n",
      "Epoch 00006: val_accuracy did not improve from 0.92385\n",
      "443/443 [==============================] - 365s 824ms/step - loss: 0.0860 - accuracy: 0.9691 - val_loss: 0.2401 - val_accuracy: 0.9175\n",
      "Epoch 7/30\n",
      "443/443 [==============================] - ETA: 0s - loss: 0.0790 - accuracy: 0.9703\n",
      "Epoch 00007: val_accuracy did not improve from 0.92385\n",
      "443/443 [==============================] - 371s 838ms/step - loss: 0.0790 - accuracy: 0.9703 - val_loss: 0.2177 - val_accuracy: 0.9238\n",
      "Epoch 8/30\n",
      "443/443 [==============================] - ETA: 0s - loss: 0.0661 - accuracy: 0.9764\n",
      "Epoch 00008: val_accuracy improved from 0.92385 to 0.92870, saving model to cutout_model_fold3.h5\n",
      "443/443 [==============================] - 372s 841ms/step - loss: 0.0661 - accuracy: 0.9764 - val_loss: 0.2550 - val_accuracy: 0.9287\n",
      "Epoch 9/30\n",
      "443/443 [==============================] - ETA: 0s - loss: 0.0603 - accuracy: 0.9794\n",
      "Epoch 00009: val_accuracy did not improve from 0.92870\n",
      "443/443 [==============================] - 371s 838ms/step - loss: 0.0603 - accuracy: 0.9794 - val_loss: 0.2510 - val_accuracy: 0.9281\n",
      "Epoch 10/30\n",
      "443/443 [==============================] - ETA: 0s - loss: 0.0568 - accuracy: 0.9783\n",
      "Epoch 00010: val_accuracy improved from 0.92870 to 0.93932, saving model to cutout_model_fold3.h5\n",
      "443/443 [==============================] - 374s 845ms/step - loss: 0.0568 - accuracy: 0.9783 - val_loss: 0.2264 - val_accuracy: 0.9393\n",
      "Epoch 11/30\n",
      "443/443 [==============================] - ETA: 0s - loss: 0.0341 - accuracy: 0.9881\n",
      "Epoch 00011: val_accuracy improved from 0.93932 to 0.93993, saving model to cutout_model_fold3.h5\n",
      "443/443 [==============================] - 374s 844ms/step - loss: 0.0341 - accuracy: 0.9881 - val_loss: 0.2332 - val_accuracy: 0.9399\n",
      "Epoch 12/30\n",
      "443/443 [==============================] - ETA: 0s - loss: 0.0240 - accuracy: 0.9923\n",
      "Epoch 00012: val_accuracy improved from 0.93993 to 0.94084, saving model to cutout_model_fold3.h5\n",
      "443/443 [==============================] - 377s 851ms/step - loss: 0.0240 - accuracy: 0.9923 - val_loss: 0.2395 - val_accuracy: 0.9408\n",
      "Epoch 13/30\n",
      "443/443 [==============================] - ETA: 0s - loss: 0.0235 - accuracy: 0.9917\n",
      "Epoch 00013: val_accuracy did not improve from 0.94084\n",
      "443/443 [==============================] - 375s 847ms/step - loss: 0.0235 - accuracy: 0.9917 - val_loss: 0.2529 - val_accuracy: 0.9360\n",
      "Epoch 14/30\n",
      "443/443 [==============================] - ETA: 0s - loss: 0.0221 - accuracy: 0.9928\n",
      "Epoch 00014: val_accuracy did not improve from 0.94084\n",
      "443/443 [==============================] - 373s 841ms/step - loss: 0.0221 - accuracy: 0.9928 - val_loss: 0.2884 - val_accuracy: 0.9345\n",
      "Epoch 15/30\n",
      "443/443 [==============================] - ETA: 0s - loss: 0.0179 - accuracy: 0.9939\n",
      "Epoch 00015: val_accuracy improved from 0.94084 to 0.94235, saving model to cutout_model_fold3.h5\n",
      "443/443 [==============================] - 377s 851ms/step - loss: 0.0179 - accuracy: 0.9939 - val_loss: 0.2639 - val_accuracy: 0.9424\n",
      "Epoch 16/30\n",
      "443/443 [==============================] - ETA: 0s - loss: 0.0184 - accuracy: 0.9932\n",
      "Epoch 00016: val_accuracy did not improve from 0.94235\n",
      "443/443 [==============================] - 372s 840ms/step - loss: 0.0184 - accuracy: 0.9932 - val_loss: 0.2938 - val_accuracy: 0.9345\n",
      "Epoch 17/30\n",
      "443/443 [==============================] - ETA: 0s - loss: 0.0160 - accuracy: 0.9940\n",
      "Epoch 00017: val_accuracy improved from 0.94235 to 0.94266, saving model to cutout_model_fold3.h5\n",
      "443/443 [==============================] - 368s 832ms/step - loss: 0.0160 - accuracy: 0.9940 - val_loss: 0.2735 - val_accuracy: 0.9427\n",
      "Epoch 18/30\n",
      "443/443 [==============================] - ETA: 0s - loss: 0.0153 - accuracy: 0.9947\n",
      "Epoch 00018: val_accuracy improved from 0.94266 to 0.94296, saving model to cutout_model_fold3.h5\n",
      "443/443 [==============================] - 374s 845ms/step - loss: 0.0153 - accuracy: 0.9947 - val_loss: 0.2762 - val_accuracy: 0.9430\n",
      "Epoch 19/30\n",
      "443/443 [==============================] - ETA: 0s - loss: 0.0170 - accuracy: 0.9933\n",
      "Epoch 00019: val_accuracy improved from 0.94296 to 0.94417, saving model to cutout_model_fold3.h5\n",
      "443/443 [==============================] - 377s 851ms/step - loss: 0.0170 - accuracy: 0.9933 - val_loss: 0.2504 - val_accuracy: 0.9442\n",
      "Epoch 20/30\n",
      "443/443 [==============================] - ETA: 0s - loss: 0.0136 - accuracy: 0.9955\n",
      "Epoch 00020: val_accuracy did not improve from 0.94417\n",
      "443/443 [==============================] - 379s 856ms/step - loss: 0.0136 - accuracy: 0.9955 - val_loss: 0.2804 - val_accuracy: 0.9414\n",
      "Epoch 21/30\n",
      "443/443 [==============================] - ETA: 0s - loss: 0.0118 - accuracy: 0.9960\n",
      "Epoch 00021: val_accuracy did not improve from 0.94417\n",
      "443/443 [==============================] - 382s 863ms/step - loss: 0.0118 - accuracy: 0.9960 - val_loss: 0.2865 - val_accuracy: 0.9433\n",
      "Epoch 22/30\n",
      "443/443 [==============================] - ETA: 0s - loss: 0.0108 - accuracy: 0.9964\n",
      "Epoch 00022: val_accuracy improved from 0.94417 to 0.94508, saving model to cutout_model_fold3.h5\n",
      "443/443 [==============================] - 387s 873ms/step - loss: 0.0108 - accuracy: 0.9964 - val_loss: 0.2895 - val_accuracy: 0.9451\n",
      "Epoch 23/30\n",
      "443/443 [==============================] - ETA: 0s - loss: 0.0098 - accuracy: 0.9965\n",
      "Epoch 00023: val_accuracy improved from 0.94508 to 0.94660, saving model to cutout_model_fold3.h5\n",
      "443/443 [==============================] - 386s 871ms/step - loss: 0.0098 - accuracy: 0.9965 - val_loss: 0.2792 - val_accuracy: 0.9466\n",
      "Epoch 24/30\n",
      "443/443 [==============================] - ETA: 0s - loss: 0.0115 - accuracy: 0.9953\n",
      "Epoch 00024: val_accuracy did not improve from 0.94660\n",
      "443/443 [==============================] - 387s 874ms/step - loss: 0.0115 - accuracy: 0.9953 - val_loss: 0.2693 - val_accuracy: 0.9430\n",
      "Epoch 25/30\n",
      "443/443 [==============================] - ETA: 0s - loss: 0.0080 - accuracy: 0.9976\n",
      "Epoch 00025: val_accuracy did not improve from 0.94660\n",
      "443/443 [==============================] - 395s 892ms/step - loss: 0.0080 - accuracy: 0.9976 - val_loss: 0.3106 - val_accuracy: 0.9405\n",
      "Epoch 26/30\n",
      "443/443 [==============================] - ETA: 0s - loss: 0.0087 - accuracy: 0.9972\n",
      "Epoch 00026: val_accuracy did not improve from 0.94660\n",
      "443/443 [==============================] - 396s 893ms/step - loss: 0.0087 - accuracy: 0.9972 - val_loss: 0.3147 - val_accuracy: 0.9405\n",
      "Epoch 27/30\n",
      "443/443 [==============================] - ETA: 0s - loss: 0.0075 - accuracy: 0.9970\n",
      "Epoch 00027: val_accuracy did not improve from 0.94660\n",
      "443/443 [==============================] - 399s 900ms/step - loss: 0.0075 - accuracy: 0.9970 - val_loss: 0.3217 - val_accuracy: 0.9414\n",
      "Epoch 28/30\n",
      "443/443 [==============================] - ETA: 0s - loss: 0.0072 - accuracy: 0.9976\n",
      "Epoch 00028: val_accuracy did not improve from 0.94660\n",
      "443/443 [==============================] - 395s 892ms/step - loss: 0.0072 - accuracy: 0.9976 - val_loss: 0.3069 - val_accuracy: 0.9445\n",
      "Epoch 29/30\n",
      "443/443 [==============================] - ETA: 0s - loss: 0.0085 - accuracy: 0.9972\n",
      "Epoch 00029: val_accuracy did not improve from 0.94660\n",
      "443/443 [==============================] - 390s 881ms/step - loss: 0.0085 - accuracy: 0.9972 - val_loss: 0.3326 - val_accuracy: 0.9393\n",
      "Epoch 30/30\n",
      "443/443 [==============================] - ETA: 0s - loss: 0.0060 - accuracy: 0.9979\n",
      "Epoch 00030: val_accuracy did not improve from 0.94660\n",
      "443/443 [==============================] - 397s 896ms/step - loss: 0.0060 - accuracy: 0.9979 - val_loss: 0.3178 - val_accuracy: 0.9393\n"
     ]
    }
   ],
   "source": [
    "history = pretrained_model.fit(train_generator,\n",
    "          steps_per_epoch=TRAIN_STEP_SIZE,\n",
    "          epochs=30,\n",
    "          validation_data=val_generator,\n",
    "          validation_steps=VAL_STEP_SIZE,\n",
    "          callbacks=callbacks_list)"
   ]
  },
  {
   "cell_type": "code",
   "execution_count": 12,
   "metadata": {
    "execution": {
     "iopub.execute_input": "2020-11-22T15:05:53.025098Z",
     "iopub.status.busy": "2020-11-22T15:05:53.024075Z",
     "iopub.status.idle": "2020-11-22T15:05:53.027250Z",
     "shell.execute_reply": "2020-11-22T15:05:53.026660Z"
    },
    "papermill": {
     "duration": 4.769967,
     "end_time": "2020-11-22T15:05:53.027366",
     "exception": false,
     "start_time": "2020-11-22T15:05:48.257399",
     "status": "completed"
    },
    "tags": []
   },
   "outputs": [],
   "source": [
    "np.save(\"fold3_validation.npy\", history.history)"
   ]
  }
 ],
 "metadata": {
  "kernelspec": {
   "display_name": "Python 3",
   "language": "python",
   "name": "python3"
  },
  "language_info": {
   "codemirror_mode": {
    "name": "ipython",
    "version": 3
   },
   "file_extension": ".py",
   "mimetype": "text/x-python",
   "name": "python",
   "nbconvert_exporter": "python",
   "pygments_lexer": "ipython3",
   "version": "3.7.6"
  },
  "papermill": {
   "duration": 11528.53301,
   "end_time": "2020-11-22T15:06:00.057846",
   "environment_variables": {},
   "exception": null,
   "input_path": "__notebook__.ipynb",
   "output_path": "__notebook__.ipynb",
   "parameters": {},
   "start_time": "2020-11-22T11:53:51.524836",
   "version": "2.1.0"
  }
 },
 "nbformat": 4,
 "nbformat_minor": 4
}
