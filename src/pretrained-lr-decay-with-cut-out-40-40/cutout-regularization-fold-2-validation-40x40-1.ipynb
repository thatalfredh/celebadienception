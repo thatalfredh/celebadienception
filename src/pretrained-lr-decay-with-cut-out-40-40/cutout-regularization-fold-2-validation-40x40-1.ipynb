{
 "cells": [
  {
   "cell_type": "code",
   "execution_count": 1,
   "metadata": {
    "_cell_guid": "b1076dfc-b9ad-4769-8c92-a6c4dae69d19",
    "_uuid": "8f2839f25d086af736a60e9eeb907d3b93b6e0e5",
    "execution": {
     "iopub.execute_input": "2020-11-22T11:38:21.265843Z",
     "iopub.status.busy": "2020-11-22T11:38:21.264904Z",
     "iopub.status.idle": "2020-11-22T11:38:26.782860Z",
     "shell.execute_reply": "2020-11-22T11:38:26.783672Z"
    },
    "papermill": {
     "duration": 5.540957,
     "end_time": "2020-11-22T11:38:26.783911",
     "exception": false,
     "start_time": "2020-11-22T11:38:21.242954",
     "status": "completed"
    },
    "tags": []
   },
   "outputs": [],
   "source": [
    "import pandas as pd\n",
    "import numpy as np   \n",
    "import matplotlib.pyplot as plt\n",
    "plt.style.use('ggplot')\n",
    "from sklearn.metrics import f1_score\n",
    "\n",
    "import keras, math\n",
    "import tensorflow as tf\n",
    "from keras_preprocessing.image import ImageDataGenerator\n",
    "from keras.applications.inception_v3 import InceptionV3, preprocess_input\n",
    "from keras.models import Sequential, Model, load_model\n",
    "from keras.layers import Dropout, Flatten, Dense, GlobalAveragePooling2D\n",
    "from keras.optimizers import SGD\n",
    "from keras.callbacks import ModelCheckpoint, LearningRateScheduler"
   ]
  },
  {
   "cell_type": "markdown",
   "metadata": {
    "papermill": {
     "duration": 0.015251,
     "end_time": "2020-11-22T11:38:26.815828",
     "exception": false,
     "start_time": "2020-11-22T11:38:26.800577",
     "status": "completed"
    },
    "tags": []
   },
   "source": [
    "## Preprocessing Functions for Adience Dataset"
   ]
  },
  {
   "cell_type": "code",
   "execution_count": 2,
   "metadata": {
    "_cell_guid": "79c7e3d0-c299-4dcb-8224-4455121ee9b0",
    "_uuid": "d629ff2d2480ee46fbb7e2d37f6b5fab8052498a",
    "execution": {
     "iopub.execute_input": "2020-11-22T11:38:26.860513Z",
     "iopub.status.busy": "2020-11-22T11:38:26.859531Z",
     "iopub.status.idle": "2020-11-22T11:38:26.864172Z",
     "shell.execute_reply": "2020-11-22T11:38:26.865325Z"
    },
    "papermill": {
     "duration": 0.034474,
     "end_time": "2020-11-22T11:38:26.865529",
     "exception": false,
     "start_time": "2020-11-22T11:38:26.831055",
     "status": "completed"
    },
    "tags": []
   },
   "outputs": [],
   "source": [
    "def create_path(df, basepath):\n",
    "    \"\"\"\n",
    "    this function creates column of image file path for each image\n",
    "    \"\"\"\n",
    "    df['path'] = df.apply(lambda x: f\"{basepath}{x['user_id']}/landmark_aligned_face.{x['face_id']}.{x['original_image']}\", axis=1)\n",
    "    return df\n",
    "\n",
    "def filter_df(df):\n",
    "    \"\"\"\n",
    "    this function removes images with unknown gender from the dataset\n",
    "    \"\"\"\n",
    "    df['valid'] = df['gender'].apply(lambda x: int(x in ['f', 'm']))\n",
    "    df = df[df['valid'] == 1]\n",
    "    return df.reset_index(drop=True)\n",
    "\n",
    "def flow_ready(df):\n",
    "    \"\"\"\n",
    "    this function will make a dataframe ready for flow with cols: [image_path, category]\n",
    "    \"\"\"\n",
    "    df = pd.concat([df['path'],df['gender']],axis=1)\n",
    "    return df"
   ]
  },
  {
   "cell_type": "markdown",
   "metadata": {
    "papermill": {
     "duration": 0.015833,
     "end_time": "2020-11-22T11:38:26.897788",
     "exception": false,
     "start_time": "2020-11-22T11:38:26.881955",
     "status": "completed"
    },
    "tags": []
   },
   "source": [
    "## Loading Dataset"
   ]
  },
  {
   "cell_type": "code",
   "execution_count": 3,
   "metadata": {
    "execution": {
     "iopub.execute_input": "2020-11-22T11:38:26.942925Z",
     "iopub.status.busy": "2020-11-22T11:38:26.942039Z",
     "iopub.status.idle": "2020-11-22T11:38:27.796445Z",
     "shell.execute_reply": "2020-11-22T11:38:27.795909Z"
    },
    "papermill": {
     "duration": 0.883015,
     "end_time": "2020-11-22T11:38:27.796559",
     "exception": false,
     "start_time": "2020-11-22T11:38:26.913544",
     "status": "completed"
    },
    "tags": []
   },
   "outputs": [
    {
     "data": {
      "text/html": [
       "<div>\n",
       "<style scoped>\n",
       "    .dataframe tbody tr th:only-of-type {\n",
       "        vertical-align: middle;\n",
       "    }\n",
       "\n",
       "    .dataframe tbody tr th {\n",
       "        vertical-align: top;\n",
       "    }\n",
       "\n",
       "    .dataframe thead th {\n",
       "        text-align: right;\n",
       "    }\n",
       "</style>\n",
       "<table border=\"1\" class=\"dataframe\">\n",
       "  <thead>\n",
       "    <tr style=\"text-align: right;\">\n",
       "      <th></th>\n",
       "      <th>path</th>\n",
       "      <th>gender</th>\n",
       "    </tr>\n",
       "  </thead>\n",
       "  <tbody>\n",
       "    <tr>\n",
       "      <th>0</th>\n",
       "      <td>../input/adience-age-gender-prediction-aligned...</td>\n",
       "      <td>f</td>\n",
       "    </tr>\n",
       "    <tr>\n",
       "      <th>1</th>\n",
       "      <td>../input/adience-age-gender-prediction-aligned...</td>\n",
       "      <td>m</td>\n",
       "    </tr>\n",
       "    <tr>\n",
       "      <th>2</th>\n",
       "      <td>../input/adience-age-gender-prediction-aligned...</td>\n",
       "      <td>f</td>\n",
       "    </tr>\n",
       "    <tr>\n",
       "      <th>3</th>\n",
       "      <td>../input/adience-age-gender-prediction-aligned...</td>\n",
       "      <td>m</td>\n",
       "    </tr>\n",
       "    <tr>\n",
       "      <th>4</th>\n",
       "      <td>../input/adience-age-gender-prediction-aligned...</td>\n",
       "      <td>m</td>\n",
       "    </tr>\n",
       "  </tbody>\n",
       "</table>\n",
       "</div>"
      ],
      "text/plain": [
       "                                                path gender\n",
       "0  ../input/adience-age-gender-prediction-aligned...      f\n",
       "1  ../input/adience-age-gender-prediction-aligned...      m\n",
       "2  ../input/adience-age-gender-prediction-aligned...      f\n",
       "3  ../input/adience-age-gender-prediction-aligned...      m\n",
       "4  ../input/adience-age-gender-prediction-aligned...      m"
      ]
     },
     "execution_count": 3,
     "metadata": {},
     "output_type": "execute_result"
    }
   ],
   "source": [
    "data_folder = \"../input/adience-age-gender-prediction-aligned-faces/age-gender-data/\"\n",
    "img_folder = \"../input/adience-age-gender-prediction-aligned-faces/age-gender-data/aligned/\"\n",
    "\n",
    "fold0_df = pd.read_csv(f\"{data_folder}fold_{0}_data.txt\", sep=\"\\t\")\n",
    "fold1_df = pd.read_csv(f\"{data_folder}fold_{1}_data.txt\", sep=\"\\t\")\n",
    "fold2_df = pd.read_csv(f\"{data_folder}fold_{2}_data.txt\", sep=\"\\t\")\n",
    "fold3_df = pd.read_csv(f\"{data_folder}fold_{3}_data.txt\", sep=\"\\t\")\n",
    "fold4_df = pd.read_csv(f\"{data_folder}fold_{4}_data.txt\", sep=\"\\t\")\n",
    "\n",
    "# remove unknown genders\n",
    "fold0_df = filter_df(fold0_df)\n",
    "fold1_df = filter_df(fold1_df)\n",
    "fold2_df = filter_df(fold2_df)\n",
    "fold3_df = filter_df(fold3_df)\n",
    "fold4_df = filter_df(fold4_df)\n",
    "\n",
    "# create image file path for each image in dataset\n",
    "# create image_path, label dataframe for image generator\n",
    "fold0_df = flow_ready(create_path(fold0_df, img_folder))\n",
    "fold1_df = flow_ready(create_path(fold1_df, img_folder))\n",
    "fold2_df = flow_ready(create_path(fold2_df, img_folder))\n",
    "fold3_df = flow_ready(create_path(fold3_df, img_folder))\n",
    "fold4_df = flow_ready(create_path(fold4_df, img_folder))\n",
    "\n",
    "# initial train test set\n",
    "train_df = pd.concat([fold0_df, fold1_df, fold3_df, fold4_df])\n",
    "test_df = fold2_df\n",
    "\n",
    "train_df.head()"
   ]
  },
  {
   "cell_type": "markdown",
   "metadata": {
    "papermill": {
     "duration": 0.011628,
     "end_time": "2020-11-22T11:38:27.820786",
     "exception": false,
     "start_time": "2020-11-22T11:38:27.809158",
     "status": "completed"
    },
    "tags": []
   },
   "source": [
    "## Data Augmentation"
   ]
  },
  {
   "cell_type": "code",
   "execution_count": 4,
   "metadata": {
    "execution": {
     "iopub.execute_input": "2020-11-22T11:38:27.858710Z",
     "iopub.status.busy": "2020-11-22T11:38:27.857371Z",
     "iopub.status.idle": "2020-11-22T11:38:27.860541Z",
     "shell.execute_reply": "2020-11-22T11:38:27.860066Z"
    },
    "papermill": {
     "duration": 0.028284,
     "end_time": "2020-11-22T11:38:27.860634",
     "exception": false,
     "start_time": "2020-11-22T11:38:27.832350",
     "status": "completed"
    },
    "tags": []
   },
   "outputs": [],
   "source": [
    "class CutOutDataGenerator(ImageDataGenerator):\n",
    "    def __init__(self,\n",
    "                 cutout_size=None,\n",
    "                 n_squares=None,\n",
    "                 **kwargs):\n",
    "        '''\n",
    "        Custom image data generator for cutout regularization.\n",
    "        Behaves like ImageDataGenerator, but allows color augmentation.\n",
    "        '''\n",
    "        super().__init__(\n",
    "            preprocessing_function=self.augment_cutout,\n",
    "            **kwargs)\n",
    "\n",
    "        self.cutout_size = cutout_size\n",
    "        self.n_squares = n_squares\n",
    "    \n",
    "    def augment_cutout(self, image):\n",
    "        '''Takes an input image and returns a cutout version of it'''\n",
    "        h, w, channels = image.shape\n",
    "        new_image = image\n",
    "        for _ in range(self.n_squares):\n",
    "            y = tf.random.uniform([1], minval=0, maxval=h, dtype=tf.int32).numpy()[0]\n",
    "            x = tf.random.uniform([1], minval=0, maxval=w, dtype=tf.int32).numpy()[0]\n",
    "            y1 = tf.clip_by_value(y - self.cutout_size // 2, 0, h).numpy()\n",
    "            y2 = tf.clip_by_value(y + self.cutout_size // 2, 0, h).numpy()\n",
    "            x1 = tf.clip_by_value(x - self.cutout_size // 2, 0, w).numpy()\n",
    "            x2 = tf.clip_by_value(x + self.cutout_size // 2, 0, w).numpy()\n",
    "            new_image[y1:y2,x1:x2,:] = 0\n",
    "        return new_image"
   ]
  },
  {
   "cell_type": "code",
   "execution_count": 5,
   "metadata": {
    "execution": {
     "iopub.execute_input": "2020-11-22T11:38:27.889605Z",
     "iopub.status.busy": "2020-11-22T11:38:27.888678Z",
     "iopub.status.idle": "2020-11-22T11:38:27.892689Z",
     "shell.execute_reply": "2020-11-22T11:38:27.893155Z"
    },
    "papermill": {
     "duration": 0.020733,
     "end_time": "2020-11-22T11:38:27.893294",
     "exception": false,
     "start_time": "2020-11-22T11:38:27.872561",
     "status": "completed"
    },
    "tags": []
   },
   "outputs": [],
   "source": [
    "# based on pre-trained base\n",
    "image_size = (218, 178)\n",
    "batch_size = 32"
   ]
  },
  {
   "cell_type": "code",
   "execution_count": 6,
   "metadata": {
    "execution": {
     "iopub.execute_input": "2020-11-22T11:38:27.925575Z",
     "iopub.status.busy": "2020-11-22T11:38:27.923717Z",
     "iopub.status.idle": "2020-11-22T11:38:27.926283Z",
     "shell.execute_reply": "2020-11-22T11:38:27.926777Z"
    },
    "papermill": {
     "duration": 0.021108,
     "end_time": "2020-11-22T11:38:27.926888",
     "exception": false,
     "start_time": "2020-11-22T11:38:27.905780",
     "status": "completed"
    },
    "tags": []
   },
   "outputs": [],
   "source": [
    "train_datagen = CutOutDataGenerator(rotation_range = 6,\n",
    "                                   width_shift_range = 0.2,\n",
    "                                   height_shift_range = 0.2,\n",
    "                                   rescale = 1./255.,\n",
    "                                   horizontal_flip = True,\n",
    "                                   cutout_size=40, n_squares=1)\n",
    "\n",
    "val_datagen = ImageDataGenerator(rescale = 1./255.)"
   ]
  },
  {
   "cell_type": "code",
   "execution_count": 7,
   "metadata": {
    "execution": {
     "iopub.execute_input": "2020-11-22T11:38:27.998133Z",
     "iopub.status.busy": "2020-11-22T11:38:27.987968Z",
     "iopub.status.idle": "2020-11-22T11:38:32.790808Z",
     "shell.execute_reply": "2020-11-22T11:38:32.789839Z"
    },
    "papermill": {
     "duration": 4.851912,
     "end_time": "2020-11-22T11:38:32.790935",
     "exception": false,
     "start_time": "2020-11-22T11:38:27.939023",
     "status": "completed"
    },
    "tags": []
   },
   "outputs": [
    {
     "name": "stdout",
     "output_type": "stream",
     "text": [
      "Found 14355 validated image filenames belonging to 2 classes.\n",
      "Found 3137 validated image filenames belonging to 2 classes.\n"
     ]
    }
   ],
   "source": [
    "train_generator = train_datagen.flow_from_dataframe(dataframe=train_df,\n",
    "                                            x_col=train_df.columns[0],\n",
    "                                            y_col=train_df.columns[1],\n",
    "                                            batch_size=batch_size,\n",
    "                                            seed=42,\n",
    "                                            shuffle=True,\n",
    "                                            class_mode=\"categorical\",\n",
    "                                            target_size=image_size,\n",
    "                                            color_mode='rgb')\n",
    "\n",
    "val_generator = val_datagen.flow_from_dataframe(dataframe=test_df,\n",
    "                                            x_col=test_df.columns[0],\n",
    "                                            y_col=test_df.columns[1],\n",
    "                                            batch_size=batch_size,\n",
    "                                            seed=42,\n",
    "                                            shuffle=True,\n",
    "                                            class_mode=\"categorical\",\n",
    "                                            target_size=image_size,\n",
    "                                            color_mode='rgb')"
   ]
  },
  {
   "cell_type": "code",
   "execution_count": 8,
   "metadata": {
    "execution": {
     "iopub.execute_input": "2020-11-22T11:38:32.824700Z",
     "iopub.status.busy": "2020-11-22T11:38:32.823887Z",
     "iopub.status.idle": "2020-11-22T11:38:40.669315Z",
     "shell.execute_reply": "2020-11-22T11:38:40.670078Z"
    },
    "papermill": {
     "duration": 7.864904,
     "end_time": "2020-11-22T11:38:40.670270",
     "exception": false,
     "start_time": "2020-11-22T11:38:32.805366",
     "status": "completed"
    },
    "tags": []
   },
   "outputs": [],
   "source": [
    "inceptionv3_celeba = \"../input/image-recognition-gender-detection-inceptionv3/weights.best.inc.male.hdf5\"\n",
    "pretrained_model = load_model(inceptionv3_celeba)"
   ]
  },
  {
   "cell_type": "markdown",
   "metadata": {
    "papermill": {
     "duration": 0.013982,
     "end_time": "2020-11-22T11:38:40.698055",
     "exception": false,
     "start_time": "2020-11-22T11:38:40.684073",
     "status": "completed"
    },
    "tags": []
   },
   "source": [
    "## Callbacks"
   ]
  },
  {
   "cell_type": "code",
   "execution_count": 9,
   "metadata": {
    "execution": {
     "iopub.execute_input": "2020-11-22T11:38:40.738651Z",
     "iopub.status.busy": "2020-11-22T11:38:40.737322Z",
     "iopub.status.idle": "2020-11-22T11:38:40.741110Z",
     "shell.execute_reply": "2020-11-22T11:38:40.740521Z"
    },
    "papermill": {
     "duration": 0.028164,
     "end_time": "2020-11-22T11:38:40.741252",
     "exception": false,
     "start_time": "2020-11-22T11:38:40.713088",
     "status": "completed"
    },
    "tags": []
   },
   "outputs": [],
   "source": [
    "checkpoint = ModelCheckpoint('cutout_model_fold2.h5',\n",
    "                             monitor='val_accuracy', \n",
    "                             verbose=1, \n",
    "                             save_best_only=True, \n",
    "                             mode='max')\n",
    "\n",
    "def step_decay(epoch):\n",
    "    if epoch < 10:\n",
    "        lrate = 0.01\n",
    "    else:\n",
    "        initial_lrate = 0.005\n",
    "        drop = 0.5\n",
    "        epochs_drop = 10.0\n",
    "        lrate = initial_lrate * math.pow(drop, \n",
    "                math.floor((1+epoch)/epochs_drop))\n",
    "    return lrate\n",
    "  \n",
    "lrate = LearningRateScheduler(step_decay)\n",
    "callbacks_list= [checkpoint, lrate]"
   ]
  },
  {
   "cell_type": "code",
   "execution_count": 10,
   "metadata": {
    "execution": {
     "iopub.execute_input": "2020-11-22T11:38:40.776102Z",
     "iopub.status.busy": "2020-11-22T11:38:40.775459Z",
     "iopub.status.idle": "2020-11-22T11:38:40.780138Z",
     "shell.execute_reply": "2020-11-22T11:38:40.779629Z"
    },
    "papermill": {
     "duration": 0.024118,
     "end_time": "2020-11-22T11:38:40.780284",
     "exception": false,
     "start_time": "2020-11-22T11:38:40.756166",
     "status": "completed"
    },
    "tags": []
   },
   "outputs": [],
   "source": [
    "TRAIN_STEP_SIZE = train_generator.n//train_generator.batch_size\n",
    "VAL_STEP_SIZE = val_generator.n//val_generator.batch_size"
   ]
  },
  {
   "cell_type": "code",
   "execution_count": 11,
   "metadata": {
    "execution": {
     "iopub.execute_input": "2020-11-22T11:38:40.838259Z",
     "iopub.status.busy": "2020-11-22T11:38:40.837051Z",
     "iopub.status.idle": "2020-11-22T14:55:14.507514Z",
     "shell.execute_reply": "2020-11-22T14:55:14.508425Z"
    },
    "papermill": {
     "duration": 11793.714311,
     "end_time": "2020-11-22T14:55:14.508627",
     "exception": false,
     "start_time": "2020-11-22T11:38:40.794316",
     "status": "completed"
    },
    "tags": []
   },
   "outputs": [
    {
     "name": "stdout",
     "output_type": "stream",
     "text": [
      "Epoch 1/30\n",
      "448/448 [==============================] - ETA: 0s - loss: 0.3050 - accuracy: 0.8676\n",
      "Epoch 00001: val_accuracy improved from -inf to 0.89573, saving model to cutout_model_fold2.h5\n",
      "448/448 [==============================] - 439s 979ms/step - loss: 0.3050 - accuracy: 0.8676 - val_loss: 0.2621 - val_accuracy: 0.8957\n",
      "Epoch 2/30\n",
      "448/448 [==============================] - ETA: 0s - loss: 0.1848 - accuracy: 0.9266\n",
      "Epoch 00002: val_accuracy did not improve from 0.89573\n",
      "448/448 [==============================] - 393s 877ms/step - loss: 0.1848 - accuracy: 0.9266 - val_loss: 0.3436 - val_accuracy: 0.8664\n",
      "Epoch 3/30\n",
      "448/448 [==============================] - ETA: 0s - loss: 0.1378 - accuracy: 0.9478\n",
      "Epoch 00003: val_accuracy did not improve from 0.89573\n",
      "448/448 [==============================] - 386s 861ms/step - loss: 0.1378 - accuracy: 0.9478 - val_loss: 0.3432 - val_accuracy: 0.8724\n",
      "Epoch 4/30\n",
      "448/448 [==============================] - ETA: 0s - loss: 0.1200 - accuracy: 0.9566\n",
      "Epoch 00004: val_accuracy improved from 0.89573 to 0.91390, saving model to cutout_model_fold2.h5\n",
      "448/448 [==============================] - 390s 871ms/step - loss: 0.1200 - accuracy: 0.9566 - val_loss: 0.2247 - val_accuracy: 0.9139\n",
      "Epoch 5/30\n",
      "448/448 [==============================] - ETA: 0s - loss: 0.0976 - accuracy: 0.9633\n",
      "Epoch 00005: val_accuracy improved from 0.91390 to 0.91486, saving model to cutout_model_fold2.h5\n",
      "448/448 [==============================] - 386s 862ms/step - loss: 0.0976 - accuracy: 0.9633 - val_loss: 0.2399 - val_accuracy: 0.9149\n",
      "Epoch 6/30\n",
      "448/448 [==============================] - ETA: 0s - loss: 0.0810 - accuracy: 0.9695\n",
      "Epoch 00006: val_accuracy did not improve from 0.91486\n",
      "448/448 [==============================] - 386s 862ms/step - loss: 0.0810 - accuracy: 0.9695 - val_loss: 0.2296 - val_accuracy: 0.9088\n",
      "Epoch 7/30\n",
      "448/448 [==============================] - ETA: 0s - loss: 0.0774 - accuracy: 0.9719\n",
      "Epoch 00007: val_accuracy did not improve from 0.91486\n",
      "448/448 [==============================] - 384s 858ms/step - loss: 0.0774 - accuracy: 0.9719 - val_loss: 0.2906 - val_accuracy: 0.9024\n",
      "Epoch 8/30\n",
      "448/448 [==============================] - ETA: 0s - loss: 0.0695 - accuracy: 0.9733\n",
      "Epoch 00008: val_accuracy did not improve from 0.91486\n",
      "448/448 [==============================] - 388s 867ms/step - loss: 0.0695 - accuracy: 0.9733 - val_loss: 0.5070 - val_accuracy: 0.8626\n",
      "Epoch 9/30\n",
      "448/448 [==============================] - ETA: 0s - loss: 0.0628 - accuracy: 0.9770\n",
      "Epoch 00009: val_accuracy did not improve from 0.91486\n",
      "448/448 [==============================] - 393s 876ms/step - loss: 0.0628 - accuracy: 0.9770 - val_loss: 0.2763 - val_accuracy: 0.9040\n",
      "Epoch 10/30\n",
      "448/448 [==============================] - ETA: 0s - loss: 0.0551 - accuracy: 0.9802\n",
      "Epoch 00010: val_accuracy did not improve from 0.91486\n",
      "448/448 [==============================] - 390s 871ms/step - loss: 0.0551 - accuracy: 0.9802 - val_loss: 0.2728 - val_accuracy: 0.9059\n",
      "Epoch 11/30\n",
      "448/448 [==============================] - ETA: 0s - loss: 0.0323 - accuracy: 0.9890\n",
      "Epoch 00011: val_accuracy improved from 0.91486 to 0.91709, saving model to cutout_model_fold2.h5\n",
      "448/448 [==============================] - 390s 871ms/step - loss: 0.0323 - accuracy: 0.9890 - val_loss: 0.2779 - val_accuracy: 0.9171\n",
      "Epoch 12/30\n",
      "448/448 [==============================] - ETA: 0s - loss: 0.0250 - accuracy: 0.9909\n",
      "Epoch 00012: val_accuracy improved from 0.91709 to 0.92188, saving model to cutout_model_fold2.h5\n",
      "448/448 [==============================] - 394s 880ms/step - loss: 0.0250 - accuracy: 0.9909 - val_loss: 0.2790 - val_accuracy: 0.9219\n",
      "Epoch 13/30\n",
      "448/448 [==============================] - ETA: 0s - loss: 0.0203 - accuracy: 0.9920\n",
      "Epoch 00013: val_accuracy improved from 0.92188 to 0.93176, saving model to cutout_model_fold2.h5\n",
      "448/448 [==============================] - 393s 876ms/step - loss: 0.0203 - accuracy: 0.9920 - val_loss: 0.2608 - val_accuracy: 0.9318\n",
      "Epoch 14/30\n",
      "448/448 [==============================] - ETA: 0s - loss: 0.0199 - accuracy: 0.9920\n",
      "Epoch 00014: val_accuracy did not improve from 0.93176\n",
      "448/448 [==============================] - 405s 905ms/step - loss: 0.0199 - accuracy: 0.9920 - val_loss: 0.2935 - val_accuracy: 0.9168\n",
      "Epoch 15/30\n",
      "448/448 [==============================] - ETA: 0s - loss: 0.0157 - accuracy: 0.9942\n",
      "Epoch 00015: val_accuracy did not improve from 0.93176\n",
      "448/448 [==============================] - 399s 890ms/step - loss: 0.0157 - accuracy: 0.9942 - val_loss: 0.2891 - val_accuracy: 0.9289\n",
      "Epoch 16/30\n",
      "448/448 [==============================] - ETA: 0s - loss: 0.0189 - accuracy: 0.9940\n",
      "Epoch 00016: val_accuracy did not improve from 0.93176\n",
      "448/448 [==============================] - 400s 892ms/step - loss: 0.0189 - accuracy: 0.9940 - val_loss: 0.2642 - val_accuracy: 0.9298\n",
      "Epoch 17/30\n",
      "448/448 [==============================] - ETA: 0s - loss: 0.0171 - accuracy: 0.9944\n",
      "Epoch 00017: val_accuracy did not improve from 0.93176\n",
      "448/448 [==============================] - 400s 893ms/step - loss: 0.0171 - accuracy: 0.9944 - val_loss: 0.2930 - val_accuracy: 0.9257\n",
      "Epoch 18/30\n",
      "448/448 [==============================] - ETA: 0s - loss: 0.0123 - accuracy: 0.9953\n",
      "Epoch 00018: val_accuracy did not improve from 0.93176\n",
      "448/448 [==============================] - 398s 888ms/step - loss: 0.0123 - accuracy: 0.9953 - val_loss: 0.3021 - val_accuracy: 0.9273\n",
      "Epoch 19/30\n",
      "448/448 [==============================] - ETA: 0s - loss: 0.0131 - accuracy: 0.9950\n",
      "Epoch 00019: val_accuracy improved from 0.93176 to 0.93304, saving model to cutout_model_fold2.h5\n",
      "448/448 [==============================] - 399s 890ms/step - loss: 0.0131 - accuracy: 0.9950 - val_loss: 0.3048 - val_accuracy: 0.9330\n",
      "Epoch 20/30\n",
      "448/448 [==============================] - ETA: 0s - loss: 0.0115 - accuracy: 0.9960\n",
      "Epoch 00020: val_accuracy did not improve from 0.93304\n",
      "448/448 [==============================] - 396s 884ms/step - loss: 0.0115 - accuracy: 0.9960 - val_loss: 0.3280 - val_accuracy: 0.9219\n",
      "Epoch 21/30\n",
      "448/448 [==============================] - ETA: 0s - loss: 0.0129 - accuracy: 0.9953\n",
      "Epoch 00021: val_accuracy did not improve from 0.93304\n",
      "448/448 [==============================] - 393s 878ms/step - loss: 0.0129 - accuracy: 0.9953 - val_loss: 0.3175 - val_accuracy: 0.9270\n",
      "Epoch 22/30\n",
      "448/448 [==============================] - ETA: 0s - loss: 0.0100 - accuracy: 0.9964\n",
      "Epoch 00022: val_accuracy did not improve from 0.93304\n",
      "448/448 [==============================] - 392s 875ms/step - loss: 0.0100 - accuracy: 0.9964 - val_loss: 0.2949 - val_accuracy: 0.9295\n",
      "Epoch 23/30\n",
      "448/448 [==============================] - ETA: 0s - loss: 0.0115 - accuracy: 0.9964\n",
      "Epoch 00023: val_accuracy did not improve from 0.93304\n",
      "448/448 [==============================] - 396s 884ms/step - loss: 0.0115 - accuracy: 0.9964 - val_loss: 0.3074 - val_accuracy: 0.9279\n",
      "Epoch 24/30\n",
      "448/448 [==============================] - ETA: 0s - loss: 0.0091 - accuracy: 0.9967\n",
      "Epoch 00024: val_accuracy did not improve from 0.93304\n",
      "448/448 [==============================] - 393s 877ms/step - loss: 0.0091 - accuracy: 0.9967 - val_loss: 0.3122 - val_accuracy: 0.9273\n",
      "Epoch 25/30\n",
      "448/448 [==============================] - ETA: 0s - loss: 0.0110 - accuracy: 0.9963\n",
      "Epoch 00025: val_accuracy did not improve from 0.93304\n",
      "448/448 [==============================] - 384s 856ms/step - loss: 0.0110 - accuracy: 0.9963 - val_loss: 0.2975 - val_accuracy: 0.9302\n",
      "Epoch 26/30\n",
      "448/448 [==============================] - ETA: 0s - loss: 0.0085 - accuracy: 0.9969\n",
      "Epoch 00026: val_accuracy did not improve from 0.93304\n",
      "448/448 [==============================] - 377s 841ms/step - loss: 0.0085 - accuracy: 0.9969 - val_loss: 0.3017 - val_accuracy: 0.9311\n",
      "Epoch 27/30\n",
      "448/448 [==============================] - ETA: 0s - loss: 0.0101 - accuracy: 0.9964\n",
      "Epoch 00027: val_accuracy did not improve from 0.93304\n",
      "448/448 [==============================] - 377s 842ms/step - loss: 0.0101 - accuracy: 0.9964 - val_loss: 0.3136 - val_accuracy: 0.9273\n",
      "Epoch 28/30\n",
      "448/448 [==============================] - ETA: 0s - loss: 0.0085 - accuracy: 0.9969\n",
      "Epoch 00028: val_accuracy did not improve from 0.93304\n",
      "448/448 [==============================] - 373s 832ms/step - loss: 0.0085 - accuracy: 0.9969 - val_loss: 0.3195 - val_accuracy: 0.9260\n",
      "Epoch 29/30\n",
      "448/448 [==============================] - ETA: 0s - loss: 0.0074 - accuracy: 0.9969\n",
      "Epoch 00029: val_accuracy did not improve from 0.93304\n",
      "448/448 [==============================] - 376s 839ms/step - loss: 0.0074 - accuracy: 0.9969 - val_loss: 0.3123 - val_accuracy: 0.9283\n",
      "Epoch 30/30\n",
      "448/448 [==============================] - ETA: 0s - loss: 0.0079 - accuracy: 0.9973\n",
      "Epoch 00030: val_accuracy did not improve from 0.93304\n",
      "448/448 [==============================] - 372s 831ms/step - loss: 0.0079 - accuracy: 0.9973 - val_loss: 0.3203 - val_accuracy: 0.9263\n"
     ]
    }
   ],
   "source": [
    "history = pretrained_model.fit(train_generator,\n",
    "          steps_per_epoch=TRAIN_STEP_SIZE,\n",
    "          epochs=30,\n",
    "          validation_data=val_generator,\n",
    "          validation_steps=VAL_STEP_SIZE,\n",
    "          callbacks=callbacks_list)"
   ]
  },
  {
   "cell_type": "code",
   "execution_count": 12,
   "metadata": {
    "execution": {
     "iopub.execute_input": "2020-11-22T14:55:24.413565Z",
     "iopub.status.busy": "2020-11-22T14:55:24.412619Z",
     "iopub.status.idle": "2020-11-22T14:55:24.419672Z",
     "shell.execute_reply": "2020-11-22T14:55:24.420542Z"
    },
    "papermill": {
     "duration": 4.951719,
     "end_time": "2020-11-22T14:55:24.420723",
     "exception": false,
     "start_time": "2020-11-22T14:55:19.469004",
     "status": "completed"
    },
    "tags": []
   },
   "outputs": [],
   "source": [
    "np.save(\"fold2_validation.npy\", history.history)"
   ]
  }
 ],
 "metadata": {
  "kernelspec": {
   "display_name": "Python 3",
   "language": "python",
   "name": "python3"
  },
  "language_info": {
   "codemirror_mode": {
    "name": "ipython",
    "version": 3
   },
   "file_extension": ".py",
   "mimetype": "text/x-python",
   "name": "python",
   "nbconvert_exporter": "python",
   "pygments_lexer": "ipython3",
   "version": "3.7.6"
  },
  "papermill": {
   "duration": 11834.063745,
   "end_time": "2020-11-22T14:55:30.718275",
   "environment_variables": {},
   "exception": null,
   "input_path": "__notebook__.ipynb",
   "output_path": "__notebook__.ipynb",
   "parameters": {},
   "start_time": "2020-11-22T11:38:16.654530",
   "version": "2.1.0"
  }
 },
 "nbformat": 4,
 "nbformat_minor": 4
}
