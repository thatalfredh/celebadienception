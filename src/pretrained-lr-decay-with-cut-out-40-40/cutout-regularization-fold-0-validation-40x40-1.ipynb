{
 "cells": [
  {
   "cell_type": "code",
   "execution_count": 1,
   "metadata": {
    "_cell_guid": "b1076dfc-b9ad-4769-8c92-a6c4dae69d19",
    "_uuid": "8f2839f25d086af736a60e9eeb907d3b93b6e0e5",
    "execution": {
     "iopub.execute_input": "2020-11-22T07:31:48.950051Z",
     "iopub.status.busy": "2020-11-22T07:31:48.949234Z",
     "iopub.status.idle": "2020-11-22T07:31:53.646728Z",
     "shell.execute_reply": "2020-11-22T07:31:53.645624Z"
    },
    "papermill": {
     "duration": 4.716912,
     "end_time": "2020-11-22T07:31:53.646870",
     "exception": false,
     "start_time": "2020-11-22T07:31:48.929958",
     "status": "completed"
    },
    "tags": []
   },
   "outputs": [],
   "source": [
    "import pandas as pd\n",
    "import numpy as np   \n",
    "import matplotlib.pyplot as plt\n",
    "plt.style.use('ggplot')\n",
    "from sklearn.metrics import f1_score\n",
    "\n",
    "import keras, math\n",
    "import tensorflow as tf\n",
    "from keras_preprocessing.image import ImageDataGenerator\n",
    "from keras.applications.inception_v3 import InceptionV3, preprocess_input\n",
    "from keras.models import Sequential, Model, load_model\n",
    "from keras.layers import Dropout, Flatten, Dense, GlobalAveragePooling2D\n",
    "from keras.optimizers import SGD\n",
    "from keras.callbacks import ModelCheckpoint, LearningRateScheduler"
   ]
  },
  {
   "cell_type": "markdown",
   "metadata": {
    "papermill": {
     "duration": 0.010332,
     "end_time": "2020-11-22T07:31:53.668524",
     "exception": false,
     "start_time": "2020-11-22T07:31:53.658192",
     "status": "completed"
    },
    "tags": []
   },
   "source": [
    "## Preprocessing Functions for Adience Dataset"
   ]
  },
  {
   "cell_type": "code",
   "execution_count": 2,
   "metadata": {
    "_cell_guid": "79c7e3d0-c299-4dcb-8224-4455121ee9b0",
    "_uuid": "d629ff2d2480ee46fbb7e2d37f6b5fab8052498a",
    "execution": {
     "iopub.execute_input": "2020-11-22T07:31:53.699369Z",
     "iopub.status.busy": "2020-11-22T07:31:53.698493Z",
     "iopub.status.idle": "2020-11-22T07:31:53.700874Z",
     "shell.execute_reply": "2020-11-22T07:31:53.701395Z"
    },
    "papermill": {
     "duration": 0.0224,
     "end_time": "2020-11-22T07:31:53.701508",
     "exception": false,
     "start_time": "2020-11-22T07:31:53.679108",
     "status": "completed"
    },
    "tags": []
   },
   "outputs": [],
   "source": [
    "def create_path(df, basepath):\n",
    "    \"\"\"\n",
    "    this function creates column of image file path for each image\n",
    "    \"\"\"\n",
    "    df['path'] = df.apply(lambda x: f\"{basepath}{x['user_id']}/landmark_aligned_face.{x['face_id']}.{x['original_image']}\", axis=1)\n",
    "    return df\n",
    "\n",
    "def filter_df(df):\n",
    "    \"\"\"\n",
    "    this function removes images with unknown gender from the dataset\n",
    "    \"\"\"\n",
    "    df['valid'] = df['gender'].apply(lambda x: int(x in ['f', 'm']))\n",
    "    df = df[df['valid'] == 1]\n",
    "    return df.reset_index(drop=True)\n",
    "\n",
    "def flow_ready(df):\n",
    "    \"\"\"\n",
    "    this function will make a dataframe ready for flow with cols: [image_path, category]\n",
    "    \"\"\"\n",
    "    df = pd.concat([df['path'],df['gender']],axis=1)\n",
    "    return df"
   ]
  },
  {
   "cell_type": "markdown",
   "metadata": {
    "papermill": {
     "duration": 0.010363,
     "end_time": "2020-11-22T07:31:53.722343",
     "exception": false,
     "start_time": "2020-11-22T07:31:53.711980",
     "status": "completed"
    },
    "tags": []
   },
   "source": [
    "## Loading Dataset"
   ]
  },
  {
   "cell_type": "code",
   "execution_count": 3,
   "metadata": {
    "execution": {
     "iopub.execute_input": "2020-11-22T07:31:53.762441Z",
     "iopub.status.busy": "2020-11-22T07:31:53.761740Z",
     "iopub.status.idle": "2020-11-22T07:31:54.440594Z",
     "shell.execute_reply": "2020-11-22T07:31:54.442300Z"
    },
    "papermill": {
     "duration": 0.709551,
     "end_time": "2020-11-22T07:31:54.442477",
     "exception": false,
     "start_time": "2020-11-22T07:31:53.732926",
     "status": "completed"
    },
    "tags": []
   },
   "outputs": [
    {
     "data": {
      "text/html": [
       "<div>\n",
       "<style scoped>\n",
       "    .dataframe tbody tr th:only-of-type {\n",
       "        vertical-align: middle;\n",
       "    }\n",
       "\n",
       "    .dataframe tbody tr th {\n",
       "        vertical-align: top;\n",
       "    }\n",
       "\n",
       "    .dataframe thead th {\n",
       "        text-align: right;\n",
       "    }\n",
       "</style>\n",
       "<table border=\"1\" class=\"dataframe\">\n",
       "  <thead>\n",
       "    <tr style=\"text-align: right;\">\n",
       "      <th></th>\n",
       "      <th>path</th>\n",
       "      <th>gender</th>\n",
       "    </tr>\n",
       "  </thead>\n",
       "  <tbody>\n",
       "    <tr>\n",
       "      <th>0</th>\n",
       "      <td>../input/adience-age-gender-prediction-aligned...</td>\n",
       "      <td>f</td>\n",
       "    </tr>\n",
       "    <tr>\n",
       "      <th>1</th>\n",
       "      <td>../input/adience-age-gender-prediction-aligned...</td>\n",
       "      <td>m</td>\n",
       "    </tr>\n",
       "    <tr>\n",
       "      <th>2</th>\n",
       "      <td>../input/adience-age-gender-prediction-aligned...</td>\n",
       "      <td>f</td>\n",
       "    </tr>\n",
       "    <tr>\n",
       "      <th>3</th>\n",
       "      <td>../input/adience-age-gender-prediction-aligned...</td>\n",
       "      <td>f</td>\n",
       "    </tr>\n",
       "    <tr>\n",
       "      <th>4</th>\n",
       "      <td>../input/adience-age-gender-prediction-aligned...</td>\n",
       "      <td>f</td>\n",
       "    </tr>\n",
       "  </tbody>\n",
       "</table>\n",
       "</div>"
      ],
      "text/plain": [
       "                                                path gender\n",
       "0  ../input/adience-age-gender-prediction-aligned...      f\n",
       "1  ../input/adience-age-gender-prediction-aligned...      m\n",
       "2  ../input/adience-age-gender-prediction-aligned...      f\n",
       "3  ../input/adience-age-gender-prediction-aligned...      f\n",
       "4  ../input/adience-age-gender-prediction-aligned...      f"
      ]
     },
     "execution_count": 3,
     "metadata": {},
     "output_type": "execute_result"
    }
   ],
   "source": [
    "data_folder = \"../input/adience-age-gender-prediction-aligned-faces/age-gender-data/\"\n",
    "img_folder = \"../input/adience-age-gender-prediction-aligned-faces/age-gender-data/aligned/\"\n",
    "\n",
    "fold0_df = pd.read_csv(f\"{data_folder}fold_{0}_data.txt\", sep=\"\\t\")\n",
    "fold1_df = pd.read_csv(f\"{data_folder}fold_{1}_data.txt\", sep=\"\\t\")\n",
    "fold2_df = pd.read_csv(f\"{data_folder}fold_{2}_data.txt\", sep=\"\\t\")\n",
    "fold3_df = pd.read_csv(f\"{data_folder}fold_{3}_data.txt\", sep=\"\\t\")\n",
    "fold4_df = pd.read_csv(f\"{data_folder}fold_{4}_data.txt\", sep=\"\\t\")\n",
    "\n",
    "# remove unknown genders\n",
    "fold0_df = filter_df(fold0_df)\n",
    "fold1_df = filter_df(fold1_df)\n",
    "fold2_df = filter_df(fold2_df)\n",
    "fold3_df = filter_df(fold3_df)\n",
    "fold4_df = filter_df(fold4_df)\n",
    "\n",
    "# create image file path for each image in dataset\n",
    "# create image_path, label dataframe for image generator\n",
    "fold0_df = flow_ready(create_path(fold0_df, img_folder))\n",
    "fold1_df = flow_ready(create_path(fold1_df, img_folder))\n",
    "fold2_df = flow_ready(create_path(fold2_df, img_folder))\n",
    "fold3_df = flow_ready(create_path(fold3_df, img_folder))\n",
    "fold4_df = flow_ready(create_path(fold4_df, img_folder))\n",
    "\n",
    "# initial train test set\n",
    "train_df = pd.concat([fold1_df, fold2_df, fold3_df, fold4_df])\n",
    "test_df = fold0_df\n",
    "\n",
    "train_df.head()"
   ]
  },
  {
   "cell_type": "markdown",
   "metadata": {
    "papermill": {
     "duration": 0.017359,
     "end_time": "2020-11-22T07:31:54.478058",
     "exception": false,
     "start_time": "2020-11-22T07:31:54.460699",
     "status": "completed"
    },
    "tags": []
   },
   "source": [
    "## Data Augmentation"
   ]
  },
  {
   "cell_type": "code",
   "execution_count": 4,
   "metadata": {
    "execution": {
     "iopub.execute_input": "2020-11-22T07:31:54.529027Z",
     "iopub.status.busy": "2020-11-22T07:31:54.527993Z",
     "iopub.status.idle": "2020-11-22T07:31:54.532000Z",
     "shell.execute_reply": "2020-11-22T07:31:54.533062Z"
    },
    "papermill": {
     "duration": 0.038294,
     "end_time": "2020-11-22T07:31:54.533206",
     "exception": false,
     "start_time": "2020-11-22T07:31:54.494912",
     "status": "completed"
    },
    "tags": []
   },
   "outputs": [],
   "source": [
    "class CutOutDataGenerator(ImageDataGenerator):\n",
    "    def __init__(self,\n",
    "                 cutout_size=None,\n",
    "                 n_squares=None,\n",
    "                 **kwargs):\n",
    "        '''\n",
    "        Custom image data generator for cutout regularization.\n",
    "        Behaves like ImageDataGenerator, but allows color augmentation.\n",
    "        '''\n",
    "        super().__init__(\n",
    "            preprocessing_function=self.augment_cutout,\n",
    "            **kwargs)\n",
    "\n",
    "        self.cutout_size = cutout_size\n",
    "        self.n_squares = n_squares\n",
    "    \n",
    "    def augment_cutout(self, image):\n",
    "        '''Takes an input image and returns a cutout version of it'''\n",
    "        h, w, channels = image.shape\n",
    "        new_image = image\n",
    "        for _ in range(self.n_squares):\n",
    "            y = tf.random.uniform([1], minval=0, maxval=h, dtype=tf.int32).numpy()[0]\n",
    "            x = tf.random.uniform([1], minval=0, maxval=w, dtype=tf.int32).numpy()[0]\n",
    "            y1 = tf.clip_by_value(y - self.cutout_size // 2, 0, h).numpy()\n",
    "            y2 = tf.clip_by_value(y + self.cutout_size // 2, 0, h).numpy()\n",
    "            x1 = tf.clip_by_value(x - self.cutout_size // 2, 0, w).numpy()\n",
    "            x2 = tf.clip_by_value(x + self.cutout_size // 2, 0, w).numpy()\n",
    "            new_image[y1:y2,x1:x2,:] = 0\n",
    "        return new_image"
   ]
  },
  {
   "cell_type": "code",
   "execution_count": 5,
   "metadata": {
    "execution": {
     "iopub.execute_input": "2020-11-22T07:31:54.574778Z",
     "iopub.status.busy": "2020-11-22T07:31:54.573888Z",
     "iopub.status.idle": "2020-11-22T07:31:54.576310Z",
     "shell.execute_reply": "2020-11-22T07:31:54.575536Z"
    },
    "papermill": {
     "duration": 0.02604,
     "end_time": "2020-11-22T07:31:54.576469",
     "exception": false,
     "start_time": "2020-11-22T07:31:54.550429",
     "status": "completed"
    },
    "tags": []
   },
   "outputs": [],
   "source": [
    "# based on pre-trained base\n",
    "image_size = (218, 178)\n",
    "batch_size = 32"
   ]
  },
  {
   "cell_type": "code",
   "execution_count": 6,
   "metadata": {
    "execution": {
     "iopub.execute_input": "2020-11-22T07:31:54.619009Z",
     "iopub.status.busy": "2020-11-22T07:31:54.618121Z",
     "iopub.status.idle": "2020-11-22T07:31:54.620705Z",
     "shell.execute_reply": "2020-11-22T07:31:54.619923Z"
    },
    "papermill": {
     "duration": 0.027463,
     "end_time": "2020-11-22T07:31:54.620833",
     "exception": false,
     "start_time": "2020-11-22T07:31:54.593370",
     "status": "completed"
    },
    "tags": []
   },
   "outputs": [],
   "source": [
    "train_datagen = CutOutDataGenerator(rotation_range = 6,\n",
    "                                   width_shift_range = 0.2,\n",
    "                                   height_shift_range = 0.2,\n",
    "                                   rescale = 1./255.,\n",
    "                                   horizontal_flip = True,\n",
    "                                   cutout_size=40, n_squares=1)\n",
    "\n",
    "val_datagen = ImageDataGenerator(rescale = 1./255.)"
   ]
  },
  {
   "cell_type": "code",
   "execution_count": 7,
   "metadata": {
    "execution": {
     "iopub.execute_input": "2020-11-22T07:31:54.670488Z",
     "iopub.status.busy": "2020-11-22T07:31:54.669845Z",
     "iopub.status.idle": "2020-11-22T07:31:58.703905Z",
     "shell.execute_reply": "2020-11-22T07:31:58.704378Z"
    },
    "papermill": {
     "duration": 4.06704,
     "end_time": "2020-11-22T07:31:58.704535",
     "exception": false,
     "start_time": "2020-11-22T07:31:54.637495",
     "status": "completed"
    },
    "tags": []
   },
   "outputs": [
    {
     "name": "stdout",
     "output_type": "stream",
     "text": [
      "Found 13497 validated image filenames belonging to 2 classes.\n",
      "Found 3995 validated image filenames belonging to 2 classes.\n"
     ]
    }
   ],
   "source": [
    "train_generator = train_datagen.flow_from_dataframe(dataframe=train_df,\n",
    "                                            x_col=train_df.columns[0],\n",
    "                                            y_col=train_df.columns[1],\n",
    "                                            batch_size=batch_size,\n",
    "                                            seed=42,\n",
    "                                            shuffle=True,\n",
    "                                            class_mode=\"categorical\",\n",
    "                                            target_size=image_size,\n",
    "                                            color_mode='rgb')\n",
    "\n",
    "val_generator = val_datagen.flow_from_dataframe(dataframe=test_df,\n",
    "                                            x_col=test_df.columns[0],\n",
    "                                            y_col=test_df.columns[1],\n",
    "                                            batch_size=batch_size,\n",
    "                                            seed=42,\n",
    "                                            shuffle=True,\n",
    "                                            class_mode=\"categorical\",\n",
    "                                            target_size=image_size,\n",
    "                                            color_mode='rgb')"
   ]
  },
  {
   "cell_type": "code",
   "execution_count": 8,
   "metadata": {
    "execution": {
     "iopub.execute_input": "2020-11-22T07:31:58.734151Z",
     "iopub.status.busy": "2020-11-22T07:31:58.733532Z",
     "iopub.status.idle": "2020-11-22T07:32:05.107239Z",
     "shell.execute_reply": "2020-11-22T07:32:05.108247Z"
    },
    "papermill": {
     "duration": 6.390844,
     "end_time": "2020-11-22T07:32:05.108486",
     "exception": false,
     "start_time": "2020-11-22T07:31:58.717642",
     "status": "completed"
    },
    "tags": []
   },
   "outputs": [],
   "source": [
    "inceptionv3_celeba = \"../input/image-recognition-gender-detection-inceptionv3/weights.best.inc.male.hdf5\"\n",
    "pretrained_model = load_model(inceptionv3_celeba)"
   ]
  },
  {
   "cell_type": "markdown",
   "metadata": {
    "papermill": {
     "duration": 0.02451,
     "end_time": "2020-11-22T07:32:05.159215",
     "exception": false,
     "start_time": "2020-11-22T07:32:05.134705",
     "status": "completed"
    },
    "tags": []
   },
   "source": [
    "## Callbacks"
   ]
  },
  {
   "cell_type": "code",
   "execution_count": 9,
   "metadata": {
    "execution": {
     "iopub.execute_input": "2020-11-22T07:32:05.211143Z",
     "iopub.status.busy": "2020-11-22T07:32:05.210181Z",
     "iopub.status.idle": "2020-11-22T07:32:05.215630Z",
     "shell.execute_reply": "2020-11-22T07:32:05.216473Z"
    },
    "papermill": {
     "duration": 0.039995,
     "end_time": "2020-11-22T07:32:05.216647",
     "exception": false,
     "start_time": "2020-11-22T07:32:05.176652",
     "status": "completed"
    },
    "tags": []
   },
   "outputs": [],
   "source": [
    "checkpoint = ModelCheckpoint('cutout_model_fold0.h5', \n",
    "                             monitor='val_accuracy', \n",
    "                             verbose=1, \n",
    "                             save_best_only=True, \n",
    "                             mode='max')\n",
    "\n",
    "def step_decay(epoch):\n",
    "    if epoch < 10:\n",
    "        lrate = 0.01\n",
    "    else:\n",
    "        initial_lrate = 0.005\n",
    "        drop = 0.5\n",
    "        epochs_drop = 10.0\n",
    "        lrate = initial_lrate * math.pow(drop, \n",
    "                math.floor((1+epoch)/epochs_drop))\n",
    "    return lrate\n",
    "  \n",
    "lrate = LearningRateScheduler(step_decay)\n",
    "callbacks_list= [checkpoint, lrate]"
   ]
  },
  {
   "cell_type": "code",
   "execution_count": 10,
   "metadata": {
    "execution": {
     "iopub.execute_input": "2020-11-22T07:32:05.268421Z",
     "iopub.status.busy": "2020-11-22T07:32:05.266459Z",
     "iopub.status.idle": "2020-11-22T07:32:05.271130Z",
     "shell.execute_reply": "2020-11-22T07:32:05.269858Z"
    },
    "papermill": {
     "duration": 0.031005,
     "end_time": "2020-11-22T07:32:05.271347",
     "exception": false,
     "start_time": "2020-11-22T07:32:05.240342",
     "status": "completed"
    },
    "tags": []
   },
   "outputs": [],
   "source": [
    "TRAIN_STEP_SIZE = train_generator.n//train_generator.batch_size\n",
    "VAL_STEP_SIZE = val_generator.n//val_generator.batch_size"
   ]
  },
  {
   "cell_type": "code",
   "execution_count": 11,
   "metadata": {
    "execution": {
     "iopub.execute_input": "2020-11-22T07:32:05.330650Z",
     "iopub.status.busy": "2020-11-22T07:32:05.328828Z",
     "iopub.status.idle": "2020-11-22T10:22:30.404578Z",
     "shell.execute_reply": "2020-11-22T10:22:30.405347Z"
    },
    "papermill": {
     "duration": 10225.106668,
     "end_time": "2020-11-22T10:22:30.405580",
     "exception": false,
     "start_time": "2020-11-22T07:32:05.298912",
     "status": "completed"
    },
    "tags": []
   },
   "outputs": [
    {
     "name": "stdout",
     "output_type": "stream",
     "text": [
      "Epoch 1/30\n",
      "421/421 [==============================] - ETA: 0s - loss: 0.3091 - accuracy: 0.8653\n",
      "Epoch 00001: val_accuracy improved from -inf to 0.83997, saving model to cutout_model_fold0.h5\n",
      "421/421 [==============================] - 361s 857ms/step - loss: 0.3091 - accuracy: 0.8653 - val_loss: 0.4080 - val_accuracy: 0.8400\n",
      "Epoch 2/30\n",
      "421/421 [==============================] - ETA: 0s - loss: 0.1865 - accuracy: 0.9271\n",
      "Epoch 00002: val_accuracy improved from 0.83997 to 0.91885, saving model to cutout_model_fold0.h5\n",
      "421/421 [==============================] - 331s 786ms/step - loss: 0.1865 - accuracy: 0.9271 - val_loss: 0.2384 - val_accuracy: 0.9189\n",
      "Epoch 3/30\n",
      "421/421 [==============================] - ETA: 0s - loss: 0.1473 - accuracy: 0.9415\n",
      "Epoch 00003: val_accuracy improved from 0.91885 to 0.93196, saving model to cutout_model_fold0.h5\n",
      "421/421 [==============================] - 332s 788ms/step - loss: 0.1473 - accuracy: 0.9415 - val_loss: 0.1761 - val_accuracy: 0.9320\n",
      "Epoch 4/30\n",
      "421/421 [==============================] - ETA: 0s - loss: 0.1308 - accuracy: 0.9518\n",
      "Epoch 00004: val_accuracy improved from 0.93196 to 0.93246, saving model to cutout_model_fold0.h5\n",
      "421/421 [==============================] - 334s 793ms/step - loss: 0.1308 - accuracy: 0.9518 - val_loss: 0.1893 - val_accuracy: 0.9325\n",
      "Epoch 5/30\n",
      "421/421 [==============================] - ETA: 0s - loss: 0.1066 - accuracy: 0.9612\n",
      "Epoch 00005: val_accuracy improved from 0.93246 to 0.93271, saving model to cutout_model_fold0.h5\n",
      "421/421 [==============================] - 332s 789ms/step - loss: 0.1066 - accuracy: 0.9612 - val_loss: 0.1949 - val_accuracy: 0.9327\n",
      "Epoch 6/30\n",
      "421/421 [==============================] - ETA: 0s - loss: 0.0875 - accuracy: 0.9664\n",
      "Epoch 00006: val_accuracy did not improve from 0.93271\n",
      "421/421 [==============================] - 334s 793ms/step - loss: 0.0875 - accuracy: 0.9664 - val_loss: 0.2330 - val_accuracy: 0.9229\n",
      "Epoch 7/30\n",
      "421/421 [==============================] - ETA: 0s - loss: 0.0889 - accuracy: 0.9671\n",
      "Epoch 00007: val_accuracy did not improve from 0.93271\n",
      "421/421 [==============================] - 333s 792ms/step - loss: 0.0889 - accuracy: 0.9671 - val_loss: 0.7823 - val_accuracy: 0.8274\n",
      "Epoch 8/30\n",
      "421/421 [==============================] - ETA: 0s - loss: 0.0746 - accuracy: 0.9729\n",
      "Epoch 00008: val_accuracy did not improve from 0.93271\n",
      "421/421 [==============================] - 335s 795ms/step - loss: 0.0746 - accuracy: 0.9729 - val_loss: 0.3936 - val_accuracy: 0.8931\n",
      "Epoch 9/30\n",
      "421/421 [==============================] - ETA: 0s - loss: 0.0695 - accuracy: 0.9734\n",
      "Epoch 00009: val_accuracy did not improve from 0.93271\n",
      "421/421 [==============================] - 336s 798ms/step - loss: 0.0695 - accuracy: 0.9734 - val_loss: 0.3701 - val_accuracy: 0.8942\n",
      "Epoch 10/30\n",
      "421/421 [==============================] - ETA: 0s - loss: 0.0603 - accuracy: 0.9785\n",
      "Epoch 00010: val_accuracy did not improve from 0.93271\n",
      "421/421 [==============================] - 337s 799ms/step - loss: 0.0603 - accuracy: 0.9785 - val_loss: 0.2707 - val_accuracy: 0.9219\n",
      "Epoch 11/30\n",
      "421/421 [==============================] - ETA: 0s - loss: 0.0392 - accuracy: 0.9865\n",
      "Epoch 00011: val_accuracy improved from 0.93271 to 0.94078, saving model to cutout_model_fold0.h5\n",
      "421/421 [==============================] - 337s 800ms/step - loss: 0.0392 - accuracy: 0.9865 - val_loss: 0.2044 - val_accuracy: 0.9408\n",
      "Epoch 12/30\n",
      "421/421 [==============================] - ETA: 0s - loss: 0.0307 - accuracy: 0.9894\n",
      "Epoch 00012: val_accuracy improved from 0.94078 to 0.94304, saving model to cutout_model_fold0.h5\n",
      "421/421 [==============================] - 335s 796ms/step - loss: 0.0307 - accuracy: 0.9894 - val_loss: 0.1925 - val_accuracy: 0.9430\n",
      "Epoch 13/30\n",
      "421/421 [==============================] - ETA: 0s - loss: 0.0224 - accuracy: 0.9924\n",
      "Epoch 00013: val_accuracy did not improve from 0.94304\n",
      "421/421 [==============================] - 335s 795ms/step - loss: 0.0224 - accuracy: 0.9924 - val_loss: 0.2212 - val_accuracy: 0.9430\n",
      "Epoch 14/30\n",
      "421/421 [==============================] - ETA: 0s - loss: 0.0205 - accuracy: 0.9927\n",
      "Epoch 00014: val_accuracy improved from 0.94304 to 0.94430, saving model to cutout_model_fold0.h5\n",
      "421/421 [==============================] - 339s 804ms/step - loss: 0.0205 - accuracy: 0.9927 - val_loss: 0.2143 - val_accuracy: 0.9443\n",
      "Epoch 15/30\n",
      "421/421 [==============================] - ETA: 0s - loss: 0.0202 - accuracy: 0.9931\n",
      "Epoch 00015: val_accuracy improved from 0.94430 to 0.94506, saving model to cutout_model_fold0.h5\n",
      "421/421 [==============================] - 341s 810ms/step - loss: 0.0202 - accuracy: 0.9931 - val_loss: 0.2151 - val_accuracy: 0.9451\n",
      "Epoch 16/30\n",
      "421/421 [==============================] - ETA: 0s - loss: 0.0164 - accuracy: 0.9939\n",
      "Epoch 00016: val_accuracy did not improve from 0.94506\n",
      "421/421 [==============================] - 337s 801ms/step - loss: 0.0164 - accuracy: 0.9939 - val_loss: 0.2504 - val_accuracy: 0.9395\n",
      "Epoch 17/30\n",
      "421/421 [==============================] - ETA: 0s - loss: 0.0164 - accuracy: 0.9932\n",
      "Epoch 00017: val_accuracy did not improve from 0.94506\n",
      "421/421 [==============================] - 338s 803ms/step - loss: 0.0164 - accuracy: 0.9932 - val_loss: 0.2389 - val_accuracy: 0.9435\n",
      "Epoch 18/30\n",
      "421/421 [==============================] - ETA: 0s - loss: 0.0173 - accuracy: 0.9936\n",
      "Epoch 00018: val_accuracy did not improve from 0.94506\n",
      "421/421 [==============================] - 339s 806ms/step - loss: 0.0173 - accuracy: 0.9936 - val_loss: 0.2343 - val_accuracy: 0.9418\n",
      "Epoch 19/30\n",
      "421/421 [==============================] - ETA: 0s - loss: 0.0144 - accuracy: 0.9946\n",
      "Epoch 00019: val_accuracy did not improve from 0.94506\n",
      "421/421 [==============================] - 339s 805ms/step - loss: 0.0144 - accuracy: 0.9946 - val_loss: 0.2347 - val_accuracy: 0.9423\n",
      "Epoch 20/30\n",
      "421/421 [==============================] - ETA: 0s - loss: 0.0123 - accuracy: 0.9963\n",
      "Epoch 00020: val_accuracy improved from 0.94506 to 0.94531, saving model to cutout_model_fold0.h5\n",
      "421/421 [==============================] - 341s 809ms/step - loss: 0.0123 - accuracy: 0.9963 - val_loss: 0.2430 - val_accuracy: 0.9453\n",
      "Epoch 21/30\n",
      "421/421 [==============================] - ETA: 0s - loss: 0.0119 - accuracy: 0.9952\n",
      "Epoch 00021: val_accuracy did not improve from 0.94531\n",
      "421/421 [==============================] - 340s 808ms/step - loss: 0.0119 - accuracy: 0.9952 - val_loss: 0.2474 - val_accuracy: 0.9438\n",
      "Epoch 22/30\n",
      "421/421 [==============================] - ETA: 0s - loss: 0.0102 - accuracy: 0.9964\n",
      "Epoch 00022: val_accuracy did not improve from 0.94531\n",
      "421/421 [==============================] - 340s 809ms/step - loss: 0.0102 - accuracy: 0.9964 - val_loss: 0.2530 - val_accuracy: 0.9423\n",
      "Epoch 23/30\n",
      "421/421 [==============================] - ETA: 0s - loss: 0.0113 - accuracy: 0.9953\n",
      "Epoch 00023: val_accuracy improved from 0.94531 to 0.94682, saving model to cutout_model_fold0.h5\n",
      "421/421 [==============================] - 344s 818ms/step - loss: 0.0113 - accuracy: 0.9953 - val_loss: 0.2426 - val_accuracy: 0.9468\n",
      "Epoch 24/30\n",
      "421/421 [==============================] - ETA: 0s - loss: 0.0113 - accuracy: 0.9961\n",
      "Epoch 00024: val_accuracy did not improve from 0.94682\n",
      "421/421 [==============================] - 343s 815ms/step - loss: 0.0113 - accuracy: 0.9961 - val_loss: 0.2542 - val_accuracy: 0.9405\n",
      "Epoch 25/30\n",
      "421/421 [==============================] - ETA: 0s - loss: 0.0096 - accuracy: 0.9967\n",
      "Epoch 00025: val_accuracy did not improve from 0.94682\n",
      "421/421 [==============================] - 342s 813ms/step - loss: 0.0096 - accuracy: 0.9967 - val_loss: 0.2529 - val_accuracy: 0.9448\n",
      "Epoch 26/30\n",
      "421/421 [==============================] - ETA: 0s - loss: 0.0103 - accuracy: 0.9961\n",
      "Epoch 00026: val_accuracy did not improve from 0.94682\n",
      "421/421 [==============================] - 344s 818ms/step - loss: 0.0103 - accuracy: 0.9961 - val_loss: 0.2556 - val_accuracy: 0.9433\n",
      "Epoch 27/30\n",
      "421/421 [==============================] - ETA: 0s - loss: 0.0083 - accuracy: 0.9968\n",
      "Epoch 00027: val_accuracy did not improve from 0.94682\n",
      "421/421 [==============================] - 343s 815ms/step - loss: 0.0083 - accuracy: 0.9968 - val_loss: 0.2577 - val_accuracy: 0.9456\n",
      "Epoch 28/30\n",
      "421/421 [==============================] - ETA: 0s - loss: 0.0066 - accuracy: 0.9976\n",
      "Epoch 00028: val_accuracy improved from 0.94682 to 0.94934, saving model to cutout_model_fold0.h5\n",
      "421/421 [==============================] - 345s 819ms/step - loss: 0.0066 - accuracy: 0.9976 - val_loss: 0.2594 - val_accuracy: 0.9493\n",
      "Epoch 29/30\n",
      "421/421 [==============================] - ETA: 0s - loss: 0.0077 - accuracy: 0.9970\n",
      "Epoch 00029: val_accuracy did not improve from 0.94934\n",
      "421/421 [==============================] - 345s 820ms/step - loss: 0.0077 - accuracy: 0.9970 - val_loss: 0.2665 - val_accuracy: 0.9481\n",
      "Epoch 30/30\n",
      "421/421 [==============================] - ETA: 0s - loss: 0.0081 - accuracy: 0.9970\n",
      "Epoch 00030: val_accuracy did not improve from 0.94934\n",
      "421/421 [==============================] - 347s 824ms/step - loss: 0.0081 - accuracy: 0.9970 - val_loss: 0.2712 - val_accuracy: 0.9486\n"
     ]
    }
   ],
   "source": [
    "history = pretrained_model.fit(train_generator,\n",
    "          steps_per_epoch=TRAIN_STEP_SIZE,\n",
    "          epochs=30,\n",
    "          validation_data=val_generator,\n",
    "          validation_steps=VAL_STEP_SIZE,\n",
    "          callbacks=callbacks_list)"
   ]
  },
  {
   "cell_type": "code",
   "execution_count": 12,
   "metadata": {
    "execution": {
     "iopub.execute_input": "2020-11-22T10:22:39.852721Z",
     "iopub.status.busy": "2020-11-22T10:22:39.851697Z",
     "iopub.status.idle": "2020-11-22T10:22:39.857861Z",
     "shell.execute_reply": "2020-11-22T10:22:39.857182Z"
    },
    "papermill": {
     "duration": 4.884553,
     "end_time": "2020-11-22T10:22:39.857978",
     "exception": false,
     "start_time": "2020-11-22T10:22:34.973425",
     "status": "completed"
    },
    "tags": []
   },
   "outputs": [],
   "source": [
    "np.save(\"fold0_validation.npy\", history.history)"
   ]
  }
 ],
 "metadata": {
  "kernelspec": {
   "display_name": "Python 3",
   "language": "python",
   "name": "python3"
  },
  "language_info": {
   "codemirror_mode": {
    "name": "ipython",
    "version": 3
   },
   "file_extension": ".py",
   "mimetype": "text/x-python",
   "name": "python",
   "nbconvert_exporter": "python",
   "pygments_lexer": "ipython3",
   "version": "3.7.6"
  },
  "papermill": {
   "duration": 10261.01095,
   "end_time": "2020-11-22T10:22:46.094857",
   "environment_variables": {},
   "exception": null,
   "input_path": "__notebook__.ipynb",
   "output_path": "__notebook__.ipynb",
   "parameters": {},
   "start_time": "2020-11-22T07:31:45.083907",
   "version": "2.1.0"
  }
 },
 "nbformat": 4,
 "nbformat_minor": 4
}
