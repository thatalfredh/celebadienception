{
 "cells": [
  {
   "cell_type": "code",
   "execution_count": 1,
   "metadata": {
    "_cell_guid": "b1076dfc-b9ad-4769-8c92-a6c4dae69d19",
    "_uuid": "8f2839f25d086af736a60e9eeb907d3b93b6e0e5",
    "execution": {
     "iopub.execute_input": "2020-11-22T15:13:24.016696Z",
     "iopub.status.busy": "2020-11-22T15:13:24.015734Z",
     "iopub.status.idle": "2020-11-22T15:13:29.253226Z",
     "shell.execute_reply": "2020-11-22T15:13:29.251907Z"
    },
    "papermill": {
     "duration": 5.257925,
     "end_time": "2020-11-22T15:13:29.253361",
     "exception": false,
     "start_time": "2020-11-22T15:13:23.995436",
     "status": "completed"
    },
    "tags": []
   },
   "outputs": [],
   "source": [
    "import pandas as pd\n",
    "import numpy as np   \n",
    "import matplotlib.pyplot as plt\n",
    "plt.style.use('ggplot')\n",
    "from sklearn.metrics import f1_score\n",
    "\n",
    "import keras, math\n",
    "import tensorflow as tf\n",
    "from keras_preprocessing.image import ImageDataGenerator\n",
    "from keras.applications.inception_v3 import InceptionV3, preprocess_input\n",
    "from keras.models import Sequential, Model, load_model\n",
    "from keras.layers import Dropout, Flatten, Dense, GlobalAveragePooling2D\n",
    "from keras.optimizers import SGD\n",
    "from keras.callbacks import ModelCheckpoint, LearningRateScheduler"
   ]
  },
  {
   "cell_type": "markdown",
   "metadata": {
    "papermill": {
     "duration": 0.011025,
     "end_time": "2020-11-22T15:13:29.275857",
     "exception": false,
     "start_time": "2020-11-22T15:13:29.264832",
     "status": "completed"
    },
    "tags": []
   },
   "source": [
    "## Preprocessing Functions for Adience Dataset"
   ]
  },
  {
   "cell_type": "code",
   "execution_count": 2,
   "metadata": {
    "_cell_guid": "79c7e3d0-c299-4dcb-8224-4455121ee9b0",
    "_uuid": "d629ff2d2480ee46fbb7e2d37f6b5fab8052498a",
    "execution": {
     "iopub.execute_input": "2020-11-22T15:13:29.310081Z",
     "iopub.status.busy": "2020-11-22T15:13:29.308464Z",
     "iopub.status.idle": "2020-11-22T15:13:29.311402Z",
     "shell.execute_reply": "2020-11-22T15:13:29.311934Z"
    },
    "papermill": {
     "duration": 0.024939,
     "end_time": "2020-11-22T15:13:29.312052",
     "exception": false,
     "start_time": "2020-11-22T15:13:29.287113",
     "status": "completed"
    },
    "tags": []
   },
   "outputs": [],
   "source": [
    "def create_path(df, basepath):\n",
    "    \"\"\"\n",
    "    this function creates column of image file path for each image\n",
    "    \"\"\"\n",
    "    df['path'] = df.apply(lambda x: f\"{basepath}{x['user_id']}/landmark_aligned_face.{x['face_id']}.{x['original_image']}\", axis=1)\n",
    "    return df\n",
    "\n",
    "def filter_df(df):\n",
    "    \"\"\"\n",
    "    this function removes images with unknown gender from the dataset\n",
    "    \"\"\"\n",
    "    df['valid'] = df['gender'].apply(lambda x: int(x in ['f', 'm']))\n",
    "    df = df[df['valid'] == 1]\n",
    "    return df.reset_index(drop=True)\n",
    "\n",
    "def flow_ready(df):\n",
    "    \"\"\"\n",
    "    this function will make a dataframe ready for flow with cols: [image_path, category]\n",
    "    \"\"\"\n",
    "    df = pd.concat([df['path'],df['gender']],axis=1)\n",
    "    return df"
   ]
  },
  {
   "cell_type": "markdown",
   "metadata": {
    "papermill": {
     "duration": 0.011992,
     "end_time": "2020-11-22T15:13:29.335999",
     "exception": false,
     "start_time": "2020-11-22T15:13:29.324007",
     "status": "completed"
    },
    "tags": []
   },
   "source": [
    "## Loading Dataset"
   ]
  },
  {
   "cell_type": "code",
   "execution_count": 3,
   "metadata": {
    "execution": {
     "iopub.execute_input": "2020-11-22T15:13:29.380818Z",
     "iopub.status.busy": "2020-11-22T15:13:29.380180Z",
     "iopub.status.idle": "2020-11-22T15:13:29.996105Z",
     "shell.execute_reply": "2020-11-22T15:13:29.995490Z"
    },
    "papermill": {
     "duration": 0.648862,
     "end_time": "2020-11-22T15:13:29.996237",
     "exception": false,
     "start_time": "2020-11-22T15:13:29.347375",
     "status": "completed"
    },
    "tags": []
   },
   "outputs": [
    {
     "data": {
      "text/html": [
       "<div>\n",
       "<style scoped>\n",
       "    .dataframe tbody tr th:only-of-type {\n",
       "        vertical-align: middle;\n",
       "    }\n",
       "\n",
       "    .dataframe tbody tr th {\n",
       "        vertical-align: top;\n",
       "    }\n",
       "\n",
       "    .dataframe thead th {\n",
       "        text-align: right;\n",
       "    }\n",
       "</style>\n",
       "<table border=\"1\" class=\"dataframe\">\n",
       "  <thead>\n",
       "    <tr style=\"text-align: right;\">\n",
       "      <th></th>\n",
       "      <th>path</th>\n",
       "      <th>gender</th>\n",
       "    </tr>\n",
       "  </thead>\n",
       "  <tbody>\n",
       "    <tr>\n",
       "      <th>0</th>\n",
       "      <td>../input/adience-age-gender-prediction-aligned...</td>\n",
       "      <td>f</td>\n",
       "    </tr>\n",
       "    <tr>\n",
       "      <th>1</th>\n",
       "      <td>../input/adience-age-gender-prediction-aligned...</td>\n",
       "      <td>m</td>\n",
       "    </tr>\n",
       "    <tr>\n",
       "      <th>2</th>\n",
       "      <td>../input/adience-age-gender-prediction-aligned...</td>\n",
       "      <td>f</td>\n",
       "    </tr>\n",
       "    <tr>\n",
       "      <th>3</th>\n",
       "      <td>../input/adience-age-gender-prediction-aligned...</td>\n",
       "      <td>m</td>\n",
       "    </tr>\n",
       "    <tr>\n",
       "      <th>4</th>\n",
       "      <td>../input/adience-age-gender-prediction-aligned...</td>\n",
       "      <td>m</td>\n",
       "    </tr>\n",
       "  </tbody>\n",
       "</table>\n",
       "</div>"
      ],
      "text/plain": [
       "                                                path gender\n",
       "0  ../input/adience-age-gender-prediction-aligned...      f\n",
       "1  ../input/adience-age-gender-prediction-aligned...      m\n",
       "2  ../input/adience-age-gender-prediction-aligned...      f\n",
       "3  ../input/adience-age-gender-prediction-aligned...      m\n",
       "4  ../input/adience-age-gender-prediction-aligned...      m"
      ]
     },
     "execution_count": 3,
     "metadata": {},
     "output_type": "execute_result"
    }
   ],
   "source": [
    "data_folder = \"../input/adience-age-gender-prediction-aligned-faces/age-gender-data/\"\n",
    "img_folder = \"../input/adience-age-gender-prediction-aligned-faces/age-gender-data/aligned/\"\n",
    "\n",
    "fold0_df = pd.read_csv(f\"{data_folder}fold_{0}_data.txt\", sep=\"\\t\")\n",
    "fold1_df = pd.read_csv(f\"{data_folder}fold_{1}_data.txt\", sep=\"\\t\")\n",
    "fold2_df = pd.read_csv(f\"{data_folder}fold_{2}_data.txt\", sep=\"\\t\")\n",
    "fold3_df = pd.read_csv(f\"{data_folder}fold_{3}_data.txt\", sep=\"\\t\")\n",
    "fold4_df = pd.read_csv(f\"{data_folder}fold_{4}_data.txt\", sep=\"\\t\")\n",
    "\n",
    "# remove unknown genders\n",
    "fold0_df = filter_df(fold0_df)\n",
    "fold1_df = filter_df(fold1_df)\n",
    "fold2_df = filter_df(fold2_df)\n",
    "fold3_df = filter_df(fold3_df)\n",
    "fold4_df = filter_df(fold4_df)\n",
    "\n",
    "# create image file path for each image in dataset\n",
    "# create image_path, label dataframe for image generator\n",
    "fold0_df = flow_ready(create_path(fold0_df, img_folder))\n",
    "fold1_df = flow_ready(create_path(fold1_df, img_folder))\n",
    "fold2_df = flow_ready(create_path(fold2_df, img_folder))\n",
    "fold3_df = flow_ready(create_path(fold3_df, img_folder))\n",
    "fold4_df = flow_ready(create_path(fold4_df, img_folder))\n",
    "\n",
    "# initial train test set\n",
    "train_df = pd.concat([fold0_df, fold1_df, fold2_df, fold3_df])\n",
    "test_df = fold4_df\n",
    "\n",
    "train_df.head()"
   ]
  },
  {
   "cell_type": "markdown",
   "metadata": {
    "papermill": {
     "duration": 0.012346,
     "end_time": "2020-11-22T15:13:30.021579",
     "exception": false,
     "start_time": "2020-11-22T15:13:30.009233",
     "status": "completed"
    },
    "tags": []
   },
   "source": [
    "## Data Augmentation"
   ]
  },
  {
   "cell_type": "code",
   "execution_count": 4,
   "metadata": {
    "execution": {
     "iopub.execute_input": "2020-11-22T15:13:30.057879Z",
     "iopub.status.busy": "2020-11-22T15:13:30.057026Z",
     "iopub.status.idle": "2020-11-22T15:13:30.079602Z",
     "shell.execute_reply": "2020-11-22T15:13:30.080279Z"
    },
    "papermill": {
     "duration": 0.045739,
     "end_time": "2020-11-22T15:13:30.080468",
     "exception": false,
     "start_time": "2020-11-22T15:13:30.034729",
     "status": "completed"
    },
    "tags": []
   },
   "outputs": [],
   "source": [
    "class CutOutDataGenerator(ImageDataGenerator):\n",
    "    def __init__(self,\n",
    "                 cutout_size=None,\n",
    "                 n_squares=None,\n",
    "                 **kwargs):\n",
    "        '''\n",
    "        Custom image data generator for cutout regularization.\n",
    "        Behaves like ImageDataGenerator, but allows color augmentation.\n",
    "        '''\n",
    "        super().__init__(\n",
    "            preprocessing_function=self.augment_cutout,\n",
    "            **kwargs)\n",
    "\n",
    "        self.cutout_size = cutout_size\n",
    "        self.n_squares = n_squares\n",
    "    \n",
    "    def augment_cutout(self, image):\n",
    "        '''Takes an input image and returns a cutout version of it'''\n",
    "        h, w, channels = image.shape\n",
    "        new_image = image\n",
    "        for _ in range(self.n_squares):\n",
    "            y = tf.random.uniform([1], minval=0, maxval=h, dtype=tf.int32).numpy()[0]\n",
    "            x = tf.random.uniform([1], minval=0, maxval=w, dtype=tf.int32).numpy()[0]\n",
    "            y1 = tf.clip_by_value(y - self.cutout_size // 2, 0, h).numpy()\n",
    "            y2 = tf.clip_by_value(y + self.cutout_size // 2, 0, h).numpy()\n",
    "            x1 = tf.clip_by_value(x - self.cutout_size // 2, 0, w).numpy()\n",
    "            x2 = tf.clip_by_value(x + self.cutout_size // 2, 0, w).numpy()\n",
    "            new_image[y1:y2,x1:x2,:] = 0\n",
    "        return new_image"
   ]
  },
  {
   "cell_type": "code",
   "execution_count": 5,
   "metadata": {
    "execution": {
     "iopub.execute_input": "2020-11-22T15:13:30.125277Z",
     "iopub.status.busy": "2020-11-22T15:13:30.124072Z",
     "iopub.status.idle": "2020-11-22T15:13:30.127141Z",
     "shell.execute_reply": "2020-11-22T15:13:30.126229Z"
    },
    "papermill": {
     "duration": 0.028936,
     "end_time": "2020-11-22T15:13:30.127286",
     "exception": false,
     "start_time": "2020-11-22T15:13:30.098350",
     "status": "completed"
    },
    "tags": []
   },
   "outputs": [],
   "source": [
    "# based on pre-trained base\n",
    "image_size = (218, 178)\n",
    "batch_size = 32"
   ]
  },
  {
   "cell_type": "code",
   "execution_count": 6,
   "metadata": {
    "execution": {
     "iopub.execute_input": "2020-11-22T15:13:30.174601Z",
     "iopub.status.busy": "2020-11-22T15:13:30.173719Z",
     "iopub.status.idle": "2020-11-22T15:13:30.179444Z",
     "shell.execute_reply": "2020-11-22T15:13:30.178783Z"
    },
    "papermill": {
     "duration": 0.033524,
     "end_time": "2020-11-22T15:13:30.179580",
     "exception": false,
     "start_time": "2020-11-22T15:13:30.146056",
     "status": "completed"
    },
    "tags": []
   },
   "outputs": [],
   "source": [
    "train_datagen = CutOutDataGenerator(rotation_range = 6,\n",
    "                                   width_shift_range = 0.2,\n",
    "                                   height_shift_range = 0.2,\n",
    "                                   rescale = 1./255.,\n",
    "                                   horizontal_flip = True,\n",
    "                                   cutout_size=40, n_squares=1)\n",
    "\n",
    "val_datagen = ImageDataGenerator(rescale = 1./255.)"
   ]
  },
  {
   "cell_type": "code",
   "execution_count": 7,
   "metadata": {
    "execution": {
     "iopub.execute_input": "2020-11-22T15:13:30.238850Z",
     "iopub.status.busy": "2020-11-22T15:13:30.238009Z",
     "iopub.status.idle": "2020-11-22T15:13:35.381693Z",
     "shell.execute_reply": "2020-11-22T15:13:35.382250Z"
    },
    "papermill": {
     "duration": 5.180689,
     "end_time": "2020-11-22T15:13:35.382421",
     "exception": false,
     "start_time": "2020-11-22T15:13:30.201732",
     "status": "completed"
    },
    "tags": []
   },
   "outputs": [
    {
     "name": "stdout",
     "output_type": "stream",
     "text": [
      "Found 14047 validated image filenames belonging to 2 classes.\n",
      "Found 3445 validated image filenames belonging to 2 classes.\n"
     ]
    }
   ],
   "source": [
    "train_generator = train_datagen.flow_from_dataframe(dataframe=train_df,\n",
    "                                            x_col=train_df.columns[0],\n",
    "                                            y_col=train_df.columns[1],\n",
    "                                            batch_size=batch_size,\n",
    "                                            seed=42,\n",
    "                                            shuffle=True,\n",
    "                                            class_mode=\"categorical\",\n",
    "                                            target_size=image_size,\n",
    "                                            color_mode='rgb')\n",
    "\n",
    "val_generator = val_datagen.flow_from_dataframe(dataframe=test_df,\n",
    "                                            x_col=test_df.columns[0],\n",
    "                                            y_col=test_df.columns[1],\n",
    "                                            batch_size=batch_size,\n",
    "                                            seed=42,\n",
    "                                            shuffle=True,\n",
    "                                            class_mode=\"categorical\",\n",
    "                                            target_size=image_size,\n",
    "                                            color_mode='rgb')"
   ]
  },
  {
   "cell_type": "code",
   "execution_count": 8,
   "metadata": {
    "execution": {
     "iopub.execute_input": "2020-11-22T15:13:35.413103Z",
     "iopub.status.busy": "2020-11-22T15:13:35.412484Z",
     "iopub.status.idle": "2020-11-22T15:13:42.155068Z",
     "shell.execute_reply": "2020-11-22T15:13:42.154307Z"
    },
    "papermill": {
     "duration": 6.759544,
     "end_time": "2020-11-22T15:13:42.155246",
     "exception": false,
     "start_time": "2020-11-22T15:13:35.395702",
     "status": "completed"
    },
    "tags": []
   },
   "outputs": [],
   "source": [
    "inceptionv3_celeba = \"../input/image-recognition-gender-detection-inceptionv3/weights.best.inc.male.hdf5\"\n",
    "pretrained_model = load_model(inceptionv3_celeba)"
   ]
  },
  {
   "cell_type": "markdown",
   "metadata": {
    "papermill": {
     "duration": 0.013081,
     "end_time": "2020-11-22T15:13:42.181422",
     "exception": false,
     "start_time": "2020-11-22T15:13:42.168341",
     "status": "completed"
    },
    "tags": []
   },
   "source": [
    "## Callbacks"
   ]
  },
  {
   "cell_type": "code",
   "execution_count": 9,
   "metadata": {
    "execution": {
     "iopub.execute_input": "2020-11-22T15:13:42.214286Z",
     "iopub.status.busy": "2020-11-22T15:13:42.213640Z",
     "iopub.status.idle": "2020-11-22T15:13:42.218012Z",
     "shell.execute_reply": "2020-11-22T15:13:42.217514Z"
    },
    "papermill": {
     "duration": 0.024001,
     "end_time": "2020-11-22T15:13:42.218103",
     "exception": false,
     "start_time": "2020-11-22T15:13:42.194102",
     "status": "completed"
    },
    "tags": []
   },
   "outputs": [],
   "source": [
    "checkpoint = ModelCheckpoint('cutout_model_fold4.h5', \n",
    "                             monitor='val_accuracy', \n",
    "                             verbose=1, \n",
    "                             save_best_only=True, \n",
    "                             mode='max')\n",
    "\n",
    "def step_decay(epoch):\n",
    "    if epoch < 10:\n",
    "        lrate = 0.01\n",
    "    else:\n",
    "        initial_lrate = 0.005\n",
    "        drop = 0.5\n",
    "        epochs_drop = 10.0\n",
    "        lrate = initial_lrate * math.pow(drop, \n",
    "                math.floor((1+epoch)/epochs_drop))\n",
    "    return lrate\n",
    "  \n",
    "lrate = LearningRateScheduler(step_decay)\n",
    "callbacks_list= [checkpoint, lrate]"
   ]
  },
  {
   "cell_type": "code",
   "execution_count": 10,
   "metadata": {
    "execution": {
     "iopub.execute_input": "2020-11-22T15:13:42.248336Z",
     "iopub.status.busy": "2020-11-22T15:13:42.247682Z",
     "iopub.status.idle": "2020-11-22T15:13:42.251924Z",
     "shell.execute_reply": "2020-11-22T15:13:42.251455Z"
    },
    "papermill": {
     "duration": 0.020702,
     "end_time": "2020-11-22T15:13:42.252018",
     "exception": false,
     "start_time": "2020-11-22T15:13:42.231316",
     "status": "completed"
    },
    "tags": []
   },
   "outputs": [],
   "source": [
    "TRAIN_STEP_SIZE = train_generator.n//train_generator.batch_size\n",
    "VAL_STEP_SIZE = val_generator.n//val_generator.batch_size"
   ]
  },
  {
   "cell_type": "code",
   "execution_count": 11,
   "metadata": {
    "execution": {
     "iopub.execute_input": "2020-11-22T15:13:42.286338Z",
     "iopub.status.busy": "2020-11-22T15:13:42.285399Z",
     "iopub.status.idle": "2020-11-22T18:28:33.398658Z",
     "shell.execute_reply": "2020-11-22T18:28:33.399447Z"
    },
    "papermill": {
     "duration": 11691.134296,
     "end_time": "2020-11-22T18:28:33.399619",
     "exception": false,
     "start_time": "2020-11-22T15:13:42.265323",
     "status": "completed"
    },
    "tags": []
   },
   "outputs": [
    {
     "name": "stdout",
     "output_type": "stream",
     "text": [
      "Epoch 1/30\n",
      "438/438 [==============================] - ETA: 0s - loss: 0.2931 - accuracy: 0.8705\n",
      "Epoch 00001: val_accuracy improved from -inf to 0.84901, saving model to cutout_model_fold4.h5\n",
      "438/438 [==============================] - 415s 949ms/step - loss: 0.2931 - accuracy: 0.8705 - val_loss: 0.3943 - val_accuracy: 0.8490\n",
      "Epoch 2/30\n",
      "438/438 [==============================] - ETA: 0s - loss: 0.1837 - accuracy: 0.9289\n",
      "Epoch 00002: val_accuracy improved from 0.84901 to 0.88785, saving model to cutout_model_fold4.h5\n",
      "438/438 [==============================] - 362s 828ms/step - loss: 0.1837 - accuracy: 0.9289 - val_loss: 0.2507 - val_accuracy: 0.8879\n",
      "Epoch 3/30\n",
      "438/438 [==============================] - ETA: 0s - loss: 0.1273 - accuracy: 0.9511\n",
      "Epoch 00003: val_accuracy improved from 0.88785 to 0.89369, saving model to cutout_model_fold4.h5\n",
      "438/438 [==============================] - 365s 833ms/step - loss: 0.1273 - accuracy: 0.9511 - val_loss: 0.2751 - val_accuracy: 0.8937\n",
      "Epoch 4/30\n",
      "438/438 [==============================] - ETA: 0s - loss: 0.1136 - accuracy: 0.9604\n",
      "Epoch 00004: val_accuracy did not improve from 0.89369\n",
      "438/438 [==============================] - 368s 840ms/step - loss: 0.1136 - accuracy: 0.9604 - val_loss: 0.4040 - val_accuracy: 0.8604\n",
      "Epoch 5/30\n",
      "438/438 [==============================] - ETA: 0s - loss: 0.0923 - accuracy: 0.9635\n",
      "Epoch 00005: val_accuracy did not improve from 0.89369\n",
      "438/438 [==============================] - 366s 836ms/step - loss: 0.0923 - accuracy: 0.9635 - val_loss: 0.3510 - val_accuracy: 0.8826\n",
      "Epoch 6/30\n",
      "438/438 [==============================] - ETA: 0s - loss: 0.0841 - accuracy: 0.9706\n",
      "Epoch 00006: val_accuracy improved from 0.89369 to 0.89457, saving model to cutout_model_fold4.h5\n",
      "438/438 [==============================] - 374s 853ms/step - loss: 0.0841 - accuracy: 0.9706 - val_loss: 0.2957 - val_accuracy: 0.8946\n",
      "Epoch 7/30\n",
      "438/438 [==============================] - ETA: 0s - loss: 0.0731 - accuracy: 0.9742\n",
      "Epoch 00007: val_accuracy did not improve from 0.89457\n",
      "438/438 [==============================] - 380s 867ms/step - loss: 0.0731 - accuracy: 0.9742 - val_loss: 0.4606 - val_accuracy: 0.8639\n",
      "Epoch 8/30\n",
      "438/438 [==============================] - ETA: 0s - loss: 0.0664 - accuracy: 0.9763\n",
      "Epoch 00008: val_accuracy improved from 0.89457 to 0.89515, saving model to cutout_model_fold4.h5\n",
      "438/438 [==============================] - 379s 866ms/step - loss: 0.0664 - accuracy: 0.9763 - val_loss: 0.3275 - val_accuracy: 0.8952\n",
      "Epoch 9/30\n",
      "438/438 [==============================] - ETA: 0s - loss: 0.0590 - accuracy: 0.9788\n",
      "Epoch 00009: val_accuracy did not improve from 0.89515\n",
      "438/438 [==============================] - 380s 869ms/step - loss: 0.0590 - accuracy: 0.9788 - val_loss: 0.4444 - val_accuracy: 0.8832\n",
      "Epoch 10/30\n",
      "438/438 [==============================] - ETA: 0s - loss: 0.0594 - accuracy: 0.9786\n",
      "Epoch 00010: val_accuracy did not improve from 0.89515\n",
      "438/438 [==============================] - 383s 875ms/step - loss: 0.0594 - accuracy: 0.9786 - val_loss: 0.3359 - val_accuracy: 0.8893\n",
      "Epoch 11/30\n",
      "438/438 [==============================] - ETA: 0s - loss: 0.0337 - accuracy: 0.9883\n",
      "Epoch 00011: val_accuracy improved from 0.89515 to 0.91472, saving model to cutout_model_fold4.h5\n",
      "438/438 [==============================] - 385s 880ms/step - loss: 0.0337 - accuracy: 0.9883 - val_loss: 0.2853 - val_accuracy: 0.9147\n",
      "Epoch 12/30\n",
      "438/438 [==============================] - ETA: 0s - loss: 0.0247 - accuracy: 0.9924\n",
      "Epoch 00012: val_accuracy did not improve from 0.91472\n",
      "438/438 [==============================] - 376s 859ms/step - loss: 0.0247 - accuracy: 0.9924 - val_loss: 0.3294 - val_accuracy: 0.9130\n",
      "Epoch 13/30\n",
      "438/438 [==============================] - ETA: 0s - loss: 0.0227 - accuracy: 0.9924\n",
      "Epoch 00013: val_accuracy improved from 0.91472 to 0.91939, saving model to cutout_model_fold4.h5\n",
      "438/438 [==============================] - 377s 860ms/step - loss: 0.0227 - accuracy: 0.9924 - val_loss: 0.2991 - val_accuracy: 0.9194\n",
      "Epoch 14/30\n",
      "438/438 [==============================] - ETA: 0s - loss: 0.0210 - accuracy: 0.9922\n",
      "Epoch 00014: val_accuracy did not improve from 0.91939\n",
      "438/438 [==============================] - 370s 845ms/step - loss: 0.0210 - accuracy: 0.9922 - val_loss: 0.3056 - val_accuracy: 0.9162\n",
      "Epoch 15/30\n",
      "438/438 [==============================] - ETA: 0s - loss: 0.0172 - accuracy: 0.9931\n",
      "Epoch 00015: val_accuracy did not improve from 0.91939\n",
      "438/438 [==============================] - 372s 849ms/step - loss: 0.0172 - accuracy: 0.9931 - val_loss: 0.3281 - val_accuracy: 0.9159\n",
      "Epoch 16/30\n",
      "438/438 [==============================] - ETA: 0s - loss: 0.0141 - accuracy: 0.9952\n",
      "Epoch 00016: val_accuracy improved from 0.91939 to 0.91968, saving model to cutout_model_fold4.h5\n",
      "438/438 [==============================] - 373s 851ms/step - loss: 0.0141 - accuracy: 0.9952 - val_loss: 0.3362 - val_accuracy: 0.9197\n",
      "Epoch 17/30\n",
      "438/438 [==============================] - ETA: 0s - loss: 0.0160 - accuracy: 0.9944\n",
      "Epoch 00017: val_accuracy improved from 0.91968 to 0.92027, saving model to cutout_model_fold4.h5\n",
      "438/438 [==============================] - 390s 889ms/step - loss: 0.0160 - accuracy: 0.9944 - val_loss: 0.3324 - val_accuracy: 0.9203\n",
      "Epoch 18/30\n",
      "438/438 [==============================] - ETA: 0s - loss: 0.0184 - accuracy: 0.9934\n",
      "Epoch 00018: val_accuracy did not improve from 0.92027\n",
      "438/438 [==============================] - 389s 889ms/step - loss: 0.0184 - accuracy: 0.9934 - val_loss: 0.3322 - val_accuracy: 0.9168\n",
      "Epoch 19/30\n",
      "438/438 [==============================] - ETA: 0s - loss: 0.0121 - accuracy: 0.9959\n",
      "Epoch 00019: val_accuracy did not improve from 0.92027\n",
      "438/438 [==============================] - 420s 958ms/step - loss: 0.0121 - accuracy: 0.9959 - val_loss: 0.3954 - val_accuracy: 0.9068\n",
      "Epoch 20/30\n",
      "438/438 [==============================] - ETA: 0s - loss: 0.0110 - accuracy: 0.9957\n",
      "Epoch 00020: val_accuracy did not improve from 0.92027\n",
      "438/438 [==============================] - 491s 1s/step - loss: 0.0110 - accuracy: 0.9957 - val_loss: 0.3785 - val_accuracy: 0.9133\n",
      "Epoch 21/30\n",
      "438/438 [==============================] - ETA: 0s - loss: 0.0103 - accuracy: 0.9964\n",
      "Epoch 00021: val_accuracy did not improve from 0.92027\n",
      "438/438 [==============================] - 403s 920ms/step - loss: 0.0103 - accuracy: 0.9964 - val_loss: 0.3746 - val_accuracy: 0.9121\n",
      "Epoch 22/30\n",
      "438/438 [==============================] - ETA: 0s - loss: 0.0137 - accuracy: 0.9953\n",
      "Epoch 00022: val_accuracy did not improve from 0.92027\n",
      "438/438 [==============================] - 402s 917ms/step - loss: 0.0137 - accuracy: 0.9953 - val_loss: 0.3597 - val_accuracy: 0.9144\n",
      "Epoch 23/30\n",
      "438/438 [==============================] - ETA: 0s - loss: 0.0102 - accuracy: 0.9964\n",
      "Epoch 00023: val_accuracy did not improve from 0.92027\n",
      "438/438 [==============================] - 400s 914ms/step - loss: 0.0102 - accuracy: 0.9964 - val_loss: 0.3778 - val_accuracy: 0.9112\n",
      "Epoch 24/30\n",
      "438/438 [==============================] - ETA: 0s - loss: 0.0104 - accuracy: 0.9961\n",
      "Epoch 00024: val_accuracy did not improve from 0.92027\n",
      "438/438 [==============================] - 399s 911ms/step - loss: 0.0104 - accuracy: 0.9961 - val_loss: 0.3657 - val_accuracy: 0.9147\n",
      "Epoch 25/30\n",
      "438/438 [==============================] - ETA: 0s - loss: 0.0088 - accuracy: 0.9965\n",
      "Epoch 00025: val_accuracy did not improve from 0.92027\n",
      "438/438 [==============================] - 397s 906ms/step - loss: 0.0088 - accuracy: 0.9965 - val_loss: 0.3897 - val_accuracy: 0.9092\n",
      "Epoch 26/30\n",
      "438/438 [==============================] - ETA: 0s - loss: 0.0083 - accuracy: 0.9971\n",
      "Epoch 00026: val_accuracy did not improve from 0.92027\n",
      "438/438 [==============================] - 387s 884ms/step - loss: 0.0083 - accuracy: 0.9971 - val_loss: 0.4018 - val_accuracy: 0.9100\n",
      "Epoch 27/30\n",
      "438/438 [==============================] - ETA: 0s - loss: 0.0099 - accuracy: 0.9965\n",
      "Epoch 00027: val_accuracy did not improve from 0.92027\n",
      "438/438 [==============================] - 381s 870ms/step - loss: 0.0099 - accuracy: 0.9965 - val_loss: 0.3683 - val_accuracy: 0.9162\n",
      "Epoch 28/30\n",
      "438/438 [==============================] - ETA: 0s - loss: 0.0080 - accuracy: 0.9975\n",
      "Epoch 00028: val_accuracy did not improve from 0.92027\n",
      "438/438 [==============================] - 385s 879ms/step - loss: 0.0080 - accuracy: 0.9975 - val_loss: 0.3747 - val_accuracy: 0.9141\n",
      "Epoch 29/30\n",
      "438/438 [==============================] - ETA: 0s - loss: 0.0079 - accuracy: 0.9974\n",
      "Epoch 00029: val_accuracy did not improve from 0.92027\n",
      "438/438 [==============================] - 386s 881ms/step - loss: 0.0079 - accuracy: 0.9974 - val_loss: 0.3916 - val_accuracy: 0.9124\n",
      "Epoch 30/30\n",
      "438/438 [==============================] - ETA: 0s - loss: 0.0080 - accuracy: 0.9969\n",
      "Epoch 00030: val_accuracy did not improve from 0.92027\n",
      "438/438 [==============================] - 389s 887ms/step - loss: 0.0080 - accuracy: 0.9969 - val_loss: 0.3951 - val_accuracy: 0.9127\n"
     ]
    }
   ],
   "source": [
    "history = pretrained_model.fit(train_generator,\n",
    "          steps_per_epoch=TRAIN_STEP_SIZE,\n",
    "          epochs=30,\n",
    "          validation_data=val_generator,\n",
    "          validation_steps=VAL_STEP_SIZE,\n",
    "          callbacks=callbacks_list)"
   ]
  },
  {
   "cell_type": "code",
   "execution_count": 12,
   "metadata": {
    "execution": {
     "iopub.execute_input": "2020-11-22T18:28:43.283159Z",
     "iopub.status.busy": "2020-11-22T18:28:43.282321Z",
     "iopub.status.idle": "2020-11-22T18:28:43.285808Z",
     "shell.execute_reply": "2020-11-22T18:28:43.285341Z"
    },
    "papermill": {
     "duration": 4.813027,
     "end_time": "2020-11-22T18:28:43.285908",
     "exception": false,
     "start_time": "2020-11-22T18:28:38.472881",
     "status": "completed"
    },
    "tags": []
   },
   "outputs": [],
   "source": [
    "np.save(\"fold4_validation.npy\", history.history)"
   ]
  }
 ],
 "metadata": {
  "kernelspec": {
   "display_name": "Python 3",
   "language": "python",
   "name": "python3"
  },
  "language_info": {
   "codemirror_mode": {
    "name": "ipython",
    "version": 3
   },
   "file_extension": ".py",
   "mimetype": "text/x-python",
   "name": "python",
   "nbconvert_exporter": "python",
   "pygments_lexer": "ipython3",
   "version": "3.7.6"
  },
  "papermill": {
   "duration": 11730.680488,
   "end_time": "2020-11-22T18:28:50.705292",
   "environment_variables": {},
   "exception": null,
   "input_path": "__notebook__.ipynb",
   "output_path": "__notebook__.ipynb",
   "parameters": {},
   "start_time": "2020-11-22T15:13:20.024804",
   "version": "2.1.0"
  }
 },
 "nbformat": 4,
 "nbformat_minor": 4
}
