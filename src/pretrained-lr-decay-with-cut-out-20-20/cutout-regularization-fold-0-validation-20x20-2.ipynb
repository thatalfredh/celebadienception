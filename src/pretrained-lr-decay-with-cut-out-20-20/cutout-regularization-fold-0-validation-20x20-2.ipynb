{
 "cells": [
  {
   "cell_type": "code",
   "execution_count": 1,
   "metadata": {
    "_cell_guid": "b1076dfc-b9ad-4769-8c92-a6c4dae69d19",
    "_uuid": "8f2839f25d086af736a60e9eeb907d3b93b6e0e5",
    "execution": {
     "iopub.execute_input": "2020-11-21T09:39:32.331746Z",
     "iopub.status.busy": "2020-11-21T09:39:32.330789Z",
     "iopub.status.idle": "2020-11-21T09:39:38.133697Z",
     "shell.execute_reply": "2020-11-21T09:39:38.134404Z"
    },
    "papermill": {
     "duration": 5.826326,
     "end_time": "2020-11-21T09:39:38.134634",
     "exception": false,
     "start_time": "2020-11-21T09:39:32.308308",
     "status": "completed"
    },
    "tags": []
   },
   "outputs": [],
   "source": [
    "import pandas as pd\n",
    "import numpy as np   \n",
    "import matplotlib.pyplot as plt\n",
    "plt.style.use('ggplot')\n",
    "from sklearn.metrics import f1_score\n",
    "\n",
    "import keras, math\n",
    "import tensorflow as tf\n",
    "from keras_preprocessing.image import ImageDataGenerator\n",
    "from keras.applications.inception_v3 import InceptionV3, preprocess_input\n",
    "from keras.models import Sequential, Model, load_model\n",
    "from keras.layers import Dropout, Flatten, Dense, GlobalAveragePooling2D\n",
    "from keras.optimizers import SGD\n",
    "from keras.callbacks import ModelCheckpoint, LearningRateScheduler"
   ]
  },
  {
   "cell_type": "markdown",
   "metadata": {
    "papermill": {
     "duration": 0.013954,
     "end_time": "2020-11-21T09:39:38.165369",
     "exception": false,
     "start_time": "2020-11-21T09:39:38.151415",
     "status": "completed"
    },
    "tags": []
   },
   "source": [
    "## Preprocessing Functions for Adience Dataset"
   ]
  },
  {
   "cell_type": "code",
   "execution_count": 2,
   "metadata": {
    "_cell_guid": "79c7e3d0-c299-4dcb-8224-4455121ee9b0",
    "_uuid": "d629ff2d2480ee46fbb7e2d37f6b5fab8052498a",
    "execution": {
     "iopub.execute_input": "2020-11-21T09:39:38.203181Z",
     "iopub.status.busy": "2020-11-21T09:39:38.201044Z",
     "iopub.status.idle": "2020-11-21T09:39:38.203944Z",
     "shell.execute_reply": "2020-11-21T09:39:38.204489Z"
    },
    "papermill": {
     "duration": 0.026712,
     "end_time": "2020-11-21T09:39:38.204638",
     "exception": false,
     "start_time": "2020-11-21T09:39:38.177926",
     "status": "completed"
    },
    "tags": []
   },
   "outputs": [],
   "source": [
    "def create_path(df, basepath):\n",
    "    \"\"\"\n",
    "    this function creates column of image file path for each image\n",
    "    \"\"\"\n",
    "    df['path'] = df.apply(lambda x: f\"{basepath}{x['user_id']}/landmark_aligned_face.{x['face_id']}.{x['original_image']}\", axis=1)\n",
    "    return df\n",
    "\n",
    "def filter_df(df):\n",
    "    \"\"\"\n",
    "    this function removes images with unknown gender from the dataset\n",
    "    \"\"\"\n",
    "    df['valid'] = df['gender'].apply(lambda x: int(x in ['f', 'm']))\n",
    "    df = df[df['valid'] == 1]\n",
    "    return df.reset_index(drop=True)\n",
    "\n",
    "def flow_ready(df):\n",
    "    \"\"\"\n",
    "    this function will make a dataframe ready for flow with cols: [image_path, category]\n",
    "    \"\"\"\n",
    "    df = pd.concat([df['path'],df['gender']],axis=1)\n",
    "    return df"
   ]
  },
  {
   "cell_type": "markdown",
   "metadata": {
    "papermill": {
     "duration": 0.011544,
     "end_time": "2020-11-21T09:39:38.228983",
     "exception": false,
     "start_time": "2020-11-21T09:39:38.217439",
     "status": "completed"
    },
    "tags": []
   },
   "source": [
    "## Loading Dataset"
   ]
  },
  {
   "cell_type": "code",
   "execution_count": 3,
   "metadata": {
    "execution": {
     "iopub.execute_input": "2020-11-21T09:39:38.267175Z",
     "iopub.status.busy": "2020-11-21T09:39:38.266476Z",
     "iopub.status.idle": "2020-11-21T09:39:39.131722Z",
     "shell.execute_reply": "2020-11-21T09:39:39.132375Z"
    },
    "papermill": {
     "duration": 0.892404,
     "end_time": "2020-11-21T09:39:39.132577",
     "exception": false,
     "start_time": "2020-11-21T09:39:38.240173",
     "status": "completed"
    },
    "tags": []
   },
   "outputs": [
    {
     "data": {
      "text/html": [
       "<div>\n",
       "<style scoped>\n",
       "    .dataframe tbody tr th:only-of-type {\n",
       "        vertical-align: middle;\n",
       "    }\n",
       "\n",
       "    .dataframe tbody tr th {\n",
       "        vertical-align: top;\n",
       "    }\n",
       "\n",
       "    .dataframe thead th {\n",
       "        text-align: right;\n",
       "    }\n",
       "</style>\n",
       "<table border=\"1\" class=\"dataframe\">\n",
       "  <thead>\n",
       "    <tr style=\"text-align: right;\">\n",
       "      <th></th>\n",
       "      <th>path</th>\n",
       "      <th>gender</th>\n",
       "    </tr>\n",
       "  </thead>\n",
       "  <tbody>\n",
       "    <tr>\n",
       "      <th>0</th>\n",
       "      <td>../input/adience-age-gender-prediction-aligned...</td>\n",
       "      <td>f</td>\n",
       "    </tr>\n",
       "    <tr>\n",
       "      <th>1</th>\n",
       "      <td>../input/adience-age-gender-prediction-aligned...</td>\n",
       "      <td>m</td>\n",
       "    </tr>\n",
       "    <tr>\n",
       "      <th>2</th>\n",
       "      <td>../input/adience-age-gender-prediction-aligned...</td>\n",
       "      <td>f</td>\n",
       "    </tr>\n",
       "    <tr>\n",
       "      <th>3</th>\n",
       "      <td>../input/adience-age-gender-prediction-aligned...</td>\n",
       "      <td>f</td>\n",
       "    </tr>\n",
       "    <tr>\n",
       "      <th>4</th>\n",
       "      <td>../input/adience-age-gender-prediction-aligned...</td>\n",
       "      <td>f</td>\n",
       "    </tr>\n",
       "  </tbody>\n",
       "</table>\n",
       "</div>"
      ],
      "text/plain": [
       "                                                path gender\n",
       "0  ../input/adience-age-gender-prediction-aligned...      f\n",
       "1  ../input/adience-age-gender-prediction-aligned...      m\n",
       "2  ../input/adience-age-gender-prediction-aligned...      f\n",
       "3  ../input/adience-age-gender-prediction-aligned...      f\n",
       "4  ../input/adience-age-gender-prediction-aligned...      f"
      ]
     },
     "execution_count": 3,
     "metadata": {},
     "output_type": "execute_result"
    }
   ],
   "source": [
    "data_folder = \"../input/adience-age-gender-prediction-aligned-faces/age-gender-data/\"\n",
    "img_folder = \"../input/adience-age-gender-prediction-aligned-faces/age-gender-data/aligned/\"\n",
    "\n",
    "fold0_df = pd.read_csv(f\"{data_folder}fold_{0}_data.txt\", sep=\"\\t\")\n",
    "fold1_df = pd.read_csv(f\"{data_folder}fold_{1}_data.txt\", sep=\"\\t\")\n",
    "fold2_df = pd.read_csv(f\"{data_folder}fold_{2}_data.txt\", sep=\"\\t\")\n",
    "fold3_df = pd.read_csv(f\"{data_folder}fold_{3}_data.txt\", sep=\"\\t\")\n",
    "fold4_df = pd.read_csv(f\"{data_folder}fold_{4}_data.txt\", sep=\"\\t\")\n",
    "\n",
    "# remove unknown genders\n",
    "fold0_df = filter_df(fold0_df)\n",
    "fold1_df = filter_df(fold1_df)\n",
    "fold2_df = filter_df(fold2_df)\n",
    "fold3_df = filter_df(fold3_df)\n",
    "fold4_df = filter_df(fold4_df)\n",
    "\n",
    "# create image file path for each image in dataset\n",
    "# create image_path, label dataframe for image generator\n",
    "fold0_df = flow_ready(create_path(fold0_df, img_folder))\n",
    "fold1_df = flow_ready(create_path(fold1_df, img_folder))\n",
    "fold2_df = flow_ready(create_path(fold2_df, img_folder))\n",
    "fold3_df = flow_ready(create_path(fold3_df, img_folder))\n",
    "fold4_df = flow_ready(create_path(fold4_df, img_folder))\n",
    "\n",
    "# initial train test set\n",
    "train_df = pd.concat([fold1_df, fold2_df, fold3_df, fold4_df])\n",
    "test_df = fold0_df\n",
    "\n",
    "train_df.head()"
   ]
  },
  {
   "cell_type": "markdown",
   "metadata": {
    "papermill": {
     "duration": 0.018229,
     "end_time": "2020-11-21T09:39:39.169692",
     "exception": false,
     "start_time": "2020-11-21T09:39:39.151463",
     "status": "completed"
    },
    "tags": []
   },
   "source": [
    "## Data Augmentation"
   ]
  },
  {
   "cell_type": "code",
   "execution_count": 4,
   "metadata": {
    "execution": {
     "iopub.execute_input": "2020-11-21T09:39:39.220365Z",
     "iopub.status.busy": "2020-11-21T09:39:39.219411Z",
     "iopub.status.idle": "2020-11-21T09:39:39.232026Z",
     "shell.execute_reply": "2020-11-21T09:39:39.233219Z"
    },
    "papermill": {
     "duration": 0.044973,
     "end_time": "2020-11-21T09:39:39.233396",
     "exception": false,
     "start_time": "2020-11-21T09:39:39.188423",
     "status": "completed"
    },
    "tags": []
   },
   "outputs": [],
   "source": [
    "class CutOutDataGenerator(ImageDataGenerator):\n",
    "    def __init__(self,\n",
    "                 cutout_size=None,\n",
    "                 n_squares=None,\n",
    "                 **kwargs):\n",
    "        '''\n",
    "        Custom image data generator for cutout regularization.\n",
    "        Behaves like ImageDataGenerator, but allows color augmentation.\n",
    "        '''\n",
    "        super().__init__(\n",
    "            preprocessing_function=self.augment_cutout,\n",
    "            **kwargs)\n",
    "\n",
    "        self.cutout_size = cutout_size\n",
    "        self.n_squares = n_squares\n",
    "    \n",
    "    def augment_cutout(self, image):\n",
    "        '''Takes an input image and returns a cutout version of it'''\n",
    "        h, w, channels = image.shape\n",
    "        new_image = image\n",
    "        for _ in range(self.n_squares):\n",
    "            y = tf.random.uniform([1], minval=0, maxval=h, dtype=tf.int32).numpy()[0]\n",
    "            x = tf.random.uniform([1], minval=0, maxval=w, dtype=tf.int32).numpy()[0]\n",
    "            y1 = tf.clip_by_value(y - self.cutout_size // 2, 0, h).numpy()\n",
    "            y2 = tf.clip_by_value(y + self.cutout_size // 2, 0, h).numpy()\n",
    "            x1 = tf.clip_by_value(x - self.cutout_size // 2, 0, w).numpy()\n",
    "            x2 = tf.clip_by_value(x + self.cutout_size // 2, 0, w).numpy()\n",
    "            new_image[y1:y2,x1:x2,:] = 0\n",
    "        return new_image"
   ]
  },
  {
   "cell_type": "code",
   "execution_count": 5,
   "metadata": {
    "execution": {
     "iopub.execute_input": "2020-11-21T09:39:39.280030Z",
     "iopub.status.busy": "2020-11-21T09:39:39.279012Z",
     "iopub.status.idle": "2020-11-21T09:39:39.281745Z",
     "shell.execute_reply": "2020-11-21T09:39:39.280945Z"
    },
    "papermill": {
     "duration": 0.028801,
     "end_time": "2020-11-21T09:39:39.281878",
     "exception": false,
     "start_time": "2020-11-21T09:39:39.253077",
     "status": "completed"
    },
    "tags": []
   },
   "outputs": [],
   "source": [
    "# based on pre-trained base\n",
    "image_size = (218, 178)\n",
    "batch_size = 32"
   ]
  },
  {
   "cell_type": "code",
   "execution_count": 6,
   "metadata": {
    "execution": {
     "iopub.execute_input": "2020-11-21T09:39:39.326866Z",
     "iopub.status.busy": "2020-11-21T09:39:39.325974Z",
     "iopub.status.idle": "2020-11-21T09:39:39.329873Z",
     "shell.execute_reply": "2020-11-21T09:39:39.330598Z"
    },
    "papermill": {
     "duration": 0.030177,
     "end_time": "2020-11-21T09:39:39.330777",
     "exception": false,
     "start_time": "2020-11-21T09:39:39.300600",
     "status": "completed"
    },
    "tags": []
   },
   "outputs": [],
   "source": [
    "train_datagen = CutOutDataGenerator(rotation_range = 6,\n",
    "                                   width_shift_range = 0.2,\n",
    "                                   height_shift_range = 0.2,\n",
    "                                   rescale = 1./255.,\n",
    "                                   horizontal_flip = True,\n",
    "                                   cutout_size=20, n_squares=2)\n",
    "\n",
    "val_datagen = ImageDataGenerator(rescale = 1./255.)"
   ]
  },
  {
   "cell_type": "code",
   "execution_count": 7,
   "metadata": {
    "execution": {
     "iopub.execute_input": "2020-11-21T09:39:39.379794Z",
     "iopub.status.busy": "2020-11-21T09:39:39.378883Z",
     "iopub.status.idle": "2020-11-21T09:39:43.580839Z",
     "shell.execute_reply": "2020-11-21T09:39:43.580192Z"
    },
    "papermill": {
     "duration": 4.231217,
     "end_time": "2020-11-21T09:39:43.580968",
     "exception": false,
     "start_time": "2020-11-21T09:39:39.349751",
     "status": "completed"
    },
    "tags": []
   },
   "outputs": [
    {
     "name": "stdout",
     "output_type": "stream",
     "text": [
      "Found 13497 validated image filenames belonging to 2 classes.\n",
      "Found 3995 validated image filenames belonging to 2 classes.\n"
     ]
    }
   ],
   "source": [
    "train_generator = train_datagen.flow_from_dataframe(dataframe=train_df,\n",
    "                                            x_col=train_df.columns[0],\n",
    "                                            y_col=train_df.columns[1],\n",
    "                                            batch_size=batch_size,\n",
    "                                            seed=42,\n",
    "                                            shuffle=True,\n",
    "                                            class_mode=\"categorical\",\n",
    "                                            target_size=image_size,\n",
    "                                            color_mode='rgb')\n",
    "\n",
    "val_generator = val_datagen.flow_from_dataframe(dataframe=test_df,\n",
    "                                            x_col=test_df.columns[0],\n",
    "                                            y_col=test_df.columns[1],\n",
    "                                            batch_size=batch_size,\n",
    "                                            seed=42,\n",
    "                                            shuffle=True,\n",
    "                                            class_mode=\"categorical\",\n",
    "                                            target_size=image_size,\n",
    "                                            color_mode='rgb')"
   ]
  },
  {
   "cell_type": "code",
   "execution_count": 8,
   "metadata": {
    "execution": {
     "iopub.execute_input": "2020-11-21T09:39:43.615281Z",
     "iopub.status.busy": "2020-11-21T09:39:43.614644Z",
     "iopub.status.idle": "2020-11-21T09:39:51.547240Z",
     "shell.execute_reply": "2020-11-21T09:39:51.546248Z"
    },
    "papermill": {
     "duration": 7.951392,
     "end_time": "2020-11-21T09:39:51.547363",
     "exception": false,
     "start_time": "2020-11-21T09:39:43.595971",
     "status": "completed"
    },
    "tags": []
   },
   "outputs": [],
   "source": [
    "inceptionv3_celeba = \"../input/image-recognition-gender-detection-inceptionv3/weights.best.inc.male.hdf5\"\n",
    "pretrained_model = load_model(inceptionv3_celeba)"
   ]
  },
  {
   "cell_type": "markdown",
   "metadata": {
    "papermill": {
     "duration": 0.014238,
     "end_time": "2020-11-21T09:39:51.575835",
     "exception": false,
     "start_time": "2020-11-21T09:39:51.561597",
     "status": "completed"
    },
    "tags": []
   },
   "source": [
    "## Callbacks"
   ]
  },
  {
   "cell_type": "code",
   "execution_count": 9,
   "metadata": {
    "execution": {
     "iopub.execute_input": "2020-11-21T09:39:51.615023Z",
     "iopub.status.busy": "2020-11-21T09:39:51.613026Z",
     "iopub.status.idle": "2020-11-21T09:39:51.615724Z",
     "shell.execute_reply": "2020-11-21T09:39:51.616259Z"
    },
    "papermill": {
     "duration": 0.026398,
     "end_time": "2020-11-21T09:39:51.616377",
     "exception": false,
     "start_time": "2020-11-21T09:39:51.589979",
     "status": "completed"
    },
    "tags": []
   },
   "outputs": [],
   "source": [
    "checkpoint = ModelCheckpoint('cutout_model_fold0.h5', \n",
    "                             monitor='val_accuracy', \n",
    "                             verbose=1, \n",
    "                             save_best_only=True, \n",
    "                             mode='max')\n",
    "\n",
    "def step_decay(epoch):\n",
    "    if epoch < 10:\n",
    "        lrate = 0.01\n",
    "    else:\n",
    "        initial_lrate = 0.005\n",
    "        drop = 0.5\n",
    "        epochs_drop = 10.0\n",
    "        lrate = initial_lrate * math.pow(drop, \n",
    "                math.floor((1+epoch)/epochs_drop))\n",
    "    return lrate\n",
    "  \n",
    "lrate = LearningRateScheduler(step_decay)\n",
    "callbacks_list= [checkpoint, lrate]"
   ]
  },
  {
   "cell_type": "code",
   "execution_count": 10,
   "metadata": {
    "execution": {
     "iopub.execute_input": "2020-11-21T09:39:51.650294Z",
     "iopub.status.busy": "2020-11-21T09:39:51.648410Z",
     "iopub.status.idle": "2020-11-21T09:39:51.651050Z",
     "shell.execute_reply": "2020-11-21T09:39:51.651600Z"
    },
    "papermill": {
     "duration": 0.021532,
     "end_time": "2020-11-21T09:39:51.651738",
     "exception": false,
     "start_time": "2020-11-21T09:39:51.630206",
     "status": "completed"
    },
    "tags": []
   },
   "outputs": [],
   "source": [
    "TRAIN_STEP_SIZE = train_generator.n//train_generator.batch_size\n",
    "VAL_STEP_SIZE = val_generator.n//val_generator.batch_size"
   ]
  },
  {
   "cell_type": "code",
   "execution_count": 11,
   "metadata": {
    "execution": {
     "iopub.execute_input": "2020-11-21T09:39:51.689172Z",
     "iopub.status.busy": "2020-11-21T09:39:51.688065Z",
     "iopub.status.idle": "2020-11-21T13:04:30.599005Z",
     "shell.execute_reply": "2020-11-21T13:04:30.599817Z"
    },
    "papermill": {
     "duration": 12278.933989,
     "end_time": "2020-11-21T13:04:30.600014",
     "exception": false,
     "start_time": "2020-11-21T09:39:51.666025",
     "status": "completed"
    },
    "tags": []
   },
   "outputs": [
    {
     "name": "stdout",
     "output_type": "stream",
     "text": [
      "Epoch 1/30\n",
      "421/421 [==============================] - ETA: 0s - loss: 0.3021 - accuracy: 0.8695\n",
      "Epoch 00001: val_accuracy improved from -inf to 0.74446, saving model to cutout_model_fold0.h5\n",
      "421/421 [==============================] - 487s 1s/step - loss: 0.3021 - accuracy: 0.8695 - val_loss: 0.9368 - val_accuracy: 0.7445\n",
      "Epoch 2/30\n",
      "421/421 [==============================] - ETA: 0s - loss: 0.1854 - accuracy: 0.9280\n",
      "Epoch 00002: val_accuracy improved from 0.74446 to 0.90827, saving model to cutout_model_fold0.h5\n",
      "421/421 [==============================] - 428s 1s/step - loss: 0.1854 - accuracy: 0.9280 - val_loss: 0.2159 - val_accuracy: 0.9083\n",
      "Epoch 3/30\n",
      "421/421 [==============================] - ETA: 0s - loss: 0.1418 - accuracy: 0.9461\n",
      "Epoch 00003: val_accuracy improved from 0.90827 to 0.93221, saving model to cutout_model_fold0.h5\n",
      "421/421 [==============================] - 427s 1s/step - loss: 0.1418 - accuracy: 0.9461 - val_loss: 0.1849 - val_accuracy: 0.9322\n",
      "Epoch 4/30\n",
      "421/421 [==============================] - ETA: 0s - loss: 0.1151 - accuracy: 0.9571\n",
      "Epoch 00004: val_accuracy did not improve from 0.93221\n",
      "421/421 [==============================] - 421s 1s/step - loss: 0.1151 - accuracy: 0.9571 - val_loss: 0.2109 - val_accuracy: 0.9246\n",
      "Epoch 5/30\n",
      "421/421 [==============================] - ETA: 0s - loss: 0.0983 - accuracy: 0.9638\n",
      "Epoch 00005: val_accuracy improved from 0.93221 to 0.93725, saving model to cutout_model_fold0.h5\n",
      "421/421 [==============================] - 403s 958ms/step - loss: 0.0983 - accuracy: 0.9638 - val_loss: 0.1770 - val_accuracy: 0.9372\n",
      "Epoch 6/30\n",
      "421/421 [==============================] - ETA: 0s - loss: 0.0862 - accuracy: 0.9676\n",
      "Epoch 00006: val_accuracy did not improve from 0.93725\n",
      "421/421 [==============================] - 403s 957ms/step - loss: 0.0862 - accuracy: 0.9676 - val_loss: 0.1951 - val_accuracy: 0.9274\n",
      "Epoch 7/30\n",
      "421/421 [==============================] - ETA: 0s - loss: 0.0760 - accuracy: 0.9716\n",
      "Epoch 00007: val_accuracy did not improve from 0.93725\n",
      "421/421 [==============================] - 420s 997ms/step - loss: 0.0760 - accuracy: 0.9716 - val_loss: 0.3270 - val_accuracy: 0.9025\n",
      "Epoch 8/30\n",
      "421/421 [==============================] - ETA: 0s - loss: 0.0631 - accuracy: 0.9774\n",
      "Epoch 00008: val_accuracy did not improve from 0.93725\n",
      "421/421 [==============================] - 423s 1s/step - loss: 0.0631 - accuracy: 0.9774 - val_loss: 0.2779 - val_accuracy: 0.9065\n",
      "Epoch 9/30\n",
      "421/421 [==============================] - ETA: 0s - loss: 0.0584 - accuracy: 0.9788\n",
      "Epoch 00009: val_accuracy did not improve from 0.93725\n",
      "421/421 [==============================] - 424s 1s/step - loss: 0.0584 - accuracy: 0.9788 - val_loss: 0.2711 - val_accuracy: 0.9093\n",
      "Epoch 10/30\n",
      "421/421 [==============================] - ETA: 0s - loss: 0.0556 - accuracy: 0.9792\n",
      "Epoch 00010: val_accuracy did not improve from 0.93725\n",
      "421/421 [==============================] - 420s 997ms/step - loss: 0.0556 - accuracy: 0.9792 - val_loss: 0.1937 - val_accuracy: 0.9277\n",
      "Epoch 11/30\n",
      "421/421 [==============================] - ETA: 0s - loss: 0.0330 - accuracy: 0.9881\n",
      "Epoch 00011: val_accuracy improved from 0.93725 to 0.94229, saving model to cutout_model_fold0.h5\n",
      "421/421 [==============================] - 422s 1s/step - loss: 0.0330 - accuracy: 0.9881 - val_loss: 0.1937 - val_accuracy: 0.9423\n",
      "Epoch 12/30\n",
      "421/421 [==============================] - ETA: 0s - loss: 0.0231 - accuracy: 0.9917\n",
      "Epoch 00012: val_accuracy improved from 0.94229 to 0.94456, saving model to cutout_model_fold0.h5\n",
      "421/421 [==============================] - 429s 1s/step - loss: 0.0231 - accuracy: 0.9917 - val_loss: 0.1971 - val_accuracy: 0.9446\n",
      "Epoch 13/30\n",
      "421/421 [==============================] - ETA: 0s - loss: 0.0207 - accuracy: 0.9927\n",
      "Epoch 00013: val_accuracy did not improve from 0.94456\n",
      "421/421 [==============================] - 427s 1s/step - loss: 0.0207 - accuracy: 0.9927 - val_loss: 0.2254 - val_accuracy: 0.9380\n",
      "Epoch 14/30\n",
      "421/421 [==============================] - ETA: 0s - loss: 0.0163 - accuracy: 0.9944\n",
      "Epoch 00014: val_accuracy did not improve from 0.94456\n",
      "421/421 [==============================] - 427s 1s/step - loss: 0.0163 - accuracy: 0.9944 - val_loss: 0.2147 - val_accuracy: 0.9443\n",
      "Epoch 15/30\n",
      "421/421 [==============================] - ETA: 0s - loss: 0.0143 - accuracy: 0.9945\n",
      "Epoch 00015: val_accuracy did not improve from 0.94456\n",
      "421/421 [==============================] - 432s 1s/step - loss: 0.0143 - accuracy: 0.9945 - val_loss: 0.2349 - val_accuracy: 0.9420\n",
      "Epoch 16/30\n",
      "421/421 [==============================] - ETA: 0s - loss: 0.0134 - accuracy: 0.9952\n",
      "Epoch 00016: val_accuracy did not improve from 0.94456\n",
      "421/421 [==============================] - 433s 1s/step - loss: 0.0134 - accuracy: 0.9952 - val_loss: 0.2297 - val_accuracy: 0.9420\n",
      "Epoch 17/30\n",
      "421/421 [==============================] - ETA: 0s - loss: 0.0179 - accuracy: 0.9935\n",
      "Epoch 00017: val_accuracy did not improve from 0.94456\n",
      "421/421 [==============================] - 405s 962ms/step - loss: 0.0179 - accuracy: 0.9935 - val_loss: 0.2395 - val_accuracy: 0.9415\n",
      "Epoch 18/30\n",
      "421/421 [==============================] - ETA: 0s - loss: 0.0130 - accuracy: 0.9952\n",
      "Epoch 00018: val_accuracy did not improve from 0.94456\n",
      "421/421 [==============================] - 390s 926ms/step - loss: 0.0130 - accuracy: 0.9952 - val_loss: 0.2507 - val_accuracy: 0.9362\n",
      "Epoch 19/30\n",
      "421/421 [==============================] - ETA: 0s - loss: 0.0124 - accuracy: 0.9949\n",
      "Epoch 00019: val_accuracy did not improve from 0.94456\n",
      "421/421 [==============================] - 386s 916ms/step - loss: 0.0124 - accuracy: 0.9949 - val_loss: 0.2330 - val_accuracy: 0.9423\n",
      "Epoch 20/30\n",
      "421/421 [==============================] - ETA: 0s - loss: 0.0101 - accuracy: 0.9959\n",
      "Epoch 00020: val_accuracy did not improve from 0.94456\n",
      "421/421 [==============================] - 377s 897ms/step - loss: 0.0101 - accuracy: 0.9959 - val_loss: 0.2565 - val_accuracy: 0.9410\n",
      "Epoch 21/30\n",
      "421/421 [==============================] - ETA: 0s - loss: 0.0094 - accuracy: 0.9970\n",
      "Epoch 00021: val_accuracy did not improve from 0.94456\n",
      "421/421 [==============================] - 379s 900ms/step - loss: 0.0094 - accuracy: 0.9970 - val_loss: 0.2562 - val_accuracy: 0.9438\n",
      "Epoch 22/30\n",
      "421/421 [==============================] - ETA: 0s - loss: 0.0064 - accuracy: 0.9978\n",
      "Epoch 00022: val_accuracy did not improve from 0.94456\n",
      "421/421 [==============================] - 382s 907ms/step - loss: 0.0064 - accuracy: 0.9978 - val_loss: 0.2570 - val_accuracy: 0.9413\n",
      "Epoch 23/30\n",
      "421/421 [==============================] - ETA: 0s - loss: 0.0085 - accuracy: 0.9970\n",
      "Epoch 00023: val_accuracy did not improve from 0.94456\n",
      "421/421 [==============================] - 382s 908ms/step - loss: 0.0085 - accuracy: 0.9970 - val_loss: 0.2722 - val_accuracy: 0.9403\n",
      "Epoch 24/30\n",
      "421/421 [==============================] - ETA: 0s - loss: 0.0079 - accuracy: 0.9970\n",
      "Epoch 00024: val_accuracy did not improve from 0.94456\n",
      "421/421 [==============================] - 384s 912ms/step - loss: 0.0079 - accuracy: 0.9970 - val_loss: 0.2544 - val_accuracy: 0.9435\n",
      "Epoch 25/30\n",
      "421/421 [==============================] - ETA: 0s - loss: 0.0066 - accuracy: 0.9977\n",
      "Epoch 00025: val_accuracy improved from 0.94456 to 0.94481, saving model to cutout_model_fold0.h5\n",
      "421/421 [==============================] - 389s 924ms/step - loss: 0.0066 - accuracy: 0.9977 - val_loss: 0.2552 - val_accuracy: 0.9448\n",
      "Epoch 26/30\n",
      "421/421 [==============================] - ETA: 0s - loss: 0.0059 - accuracy: 0.9972\n",
      "Epoch 00026: val_accuracy did not improve from 0.94481\n",
      "421/421 [==============================] - 392s 931ms/step - loss: 0.0059 - accuracy: 0.9972 - val_loss: 0.2694 - val_accuracy: 0.9438\n",
      "Epoch 27/30\n",
      "421/421 [==============================] - ETA: 0s - loss: 0.0070 - accuracy: 0.9977\n",
      "Epoch 00027: val_accuracy did not improve from 0.94481\n",
      "421/421 [==============================] - 386s 917ms/step - loss: 0.0070 - accuracy: 0.9977 - val_loss: 0.2833 - val_accuracy: 0.9443\n",
      "Epoch 28/30\n",
      "421/421 [==============================] - ETA: 0s - loss: 0.0060 - accuracy: 0.9978\n",
      "Epoch 00028: val_accuracy did not improve from 0.94481\n",
      "421/421 [==============================] - 389s 923ms/step - loss: 0.0060 - accuracy: 0.9978 - val_loss: 0.2770 - val_accuracy: 0.9443\n",
      "Epoch 29/30\n",
      "421/421 [==============================] - ETA: 0s - loss: 0.0065 - accuracy: 0.9974\n",
      "Epoch 00029: val_accuracy did not improve from 0.94481\n",
      "421/421 [==============================] - 381s 906ms/step - loss: 0.0065 - accuracy: 0.9974 - val_loss: 0.2855 - val_accuracy: 0.9405\n",
      "Epoch 30/30\n",
      "421/421 [==============================] - ETA: 0s - loss: 0.0085 - accuracy: 0.9965\n",
      "Epoch 00030: val_accuracy did not improve from 0.94481\n",
      "421/421 [==============================] - 378s 897ms/step - loss: 0.0085 - accuracy: 0.9965 - val_loss: 0.2920 - val_accuracy: 0.9403\n"
     ]
    }
   ],
   "source": [
    "history = pretrained_model.fit(train_generator,\n",
    "          steps_per_epoch=TRAIN_STEP_SIZE,\n",
    "          epochs=30,\n",
    "          validation_data=val_generator,\n",
    "          validation_steps=VAL_STEP_SIZE,\n",
    "          callbacks=callbacks_list)"
   ]
  },
  {
   "cell_type": "code",
   "execution_count": 12,
   "metadata": {
    "execution": {
     "iopub.execute_input": "2020-11-21T13:04:39.937783Z",
     "iopub.status.busy": "2020-11-21T13:04:39.936850Z",
     "iopub.status.idle": "2020-11-21T13:04:39.939166Z",
     "shell.execute_reply": "2020-11-21T13:04:39.939725Z"
    },
    "papermill": {
     "duration": 5.042554,
     "end_time": "2020-11-21T13:04:39.939862",
     "exception": false,
     "start_time": "2020-11-21T13:04:34.897308",
     "status": "completed"
    },
    "tags": []
   },
   "outputs": [],
   "source": [
    "np.save(\"fold0_validation.npy\", history.history)"
   ]
  }
 ],
 "metadata": {
  "kernelspec": {
   "display_name": "Python 3",
   "language": "python",
   "name": "python3"
  },
  "language_info": {
   "codemirror_mode": {
    "name": "ipython",
    "version": 3
   },
   "file_extension": ".py",
   "mimetype": "text/x-python",
   "name": "python",
   "nbconvert_exporter": "python",
   "pygments_lexer": "ipython3",
   "version": "3.7.6"
  },
  "papermill": {
   "duration": 12317.807058,
   "end_time": "2020-11-21T13:04:45.877113",
   "environment_variables": {},
   "exception": null,
   "input_path": "__notebook__.ipynb",
   "output_path": "__notebook__.ipynb",
   "parameters": {},
   "start_time": "2020-11-21T09:39:28.070055",
   "version": "2.1.0"
  }
 },
 "nbformat": 4,
 "nbformat_minor": 4
}
