{
 "cells": [
  {
   "cell_type": "code",
   "execution_count": 1,
   "metadata": {
    "_cell_guid": "b1076dfc-b9ad-4769-8c92-a6c4dae69d19",
    "_uuid": "8f2839f25d086af736a60e9eeb907d3b93b6e0e5",
    "execution": {
     "iopub.execute_input": "2020-11-21T18:55:49.396798Z",
     "iopub.status.busy": "2020-11-21T18:55:49.396004Z",
     "iopub.status.idle": "2020-11-21T18:55:54.581574Z",
     "shell.execute_reply": "2020-11-21T18:55:54.580465Z"
    },
    "papermill": {
     "duration": 5.205859,
     "end_time": "2020-11-21T18:55:54.581715",
     "exception": false,
     "start_time": "2020-11-21T18:55:49.375856",
     "status": "completed"
    },
    "tags": []
   },
   "outputs": [],
   "source": [
    "import pandas as pd\n",
    "import numpy as np   \n",
    "import matplotlib.pyplot as plt\n",
    "plt.style.use('ggplot')\n",
    "from sklearn.metrics import f1_score\n",
    "\n",
    "import keras, math\n",
    "import tensorflow as tf\n",
    "from keras_preprocessing.image import ImageDataGenerator\n",
    "from keras.applications.inception_v3 import InceptionV3, preprocess_input\n",
    "from keras.models import Sequential, Model, load_model\n",
    "from keras.layers import Dropout, Flatten, Dense, GlobalAveragePooling2D\n",
    "from keras.optimizers import SGD\n",
    "from keras.callbacks import ModelCheckpoint, LearningRateScheduler"
   ]
  },
  {
   "cell_type": "markdown",
   "metadata": {
    "papermill": {
     "duration": 0.010921,
     "end_time": "2020-11-21T18:55:54.604065",
     "exception": false,
     "start_time": "2020-11-21T18:55:54.593144",
     "status": "completed"
    },
    "tags": []
   },
   "source": [
    "## Preprocessing Functions for Adience Dataset"
   ]
  },
  {
   "cell_type": "code",
   "execution_count": 2,
   "metadata": {
    "_cell_guid": "79c7e3d0-c299-4dcb-8224-4455121ee9b0",
    "_uuid": "d629ff2d2480ee46fbb7e2d37f6b5fab8052498a",
    "execution": {
     "iopub.execute_input": "2020-11-21T18:55:54.637045Z",
     "iopub.status.busy": "2020-11-21T18:55:54.635188Z",
     "iopub.status.idle": "2020-11-21T18:55:54.637933Z",
     "shell.execute_reply": "2020-11-21T18:55:54.638458Z"
    },
    "papermill": {
     "duration": 0.023426,
     "end_time": "2020-11-21T18:55:54.638592",
     "exception": false,
     "start_time": "2020-11-21T18:55:54.615166",
     "status": "completed"
    },
    "tags": []
   },
   "outputs": [],
   "source": [
    "def create_path(df, basepath):\n",
    "    \"\"\"\n",
    "    this function creates column of image file path for each image\n",
    "    \"\"\"\n",
    "    df['path'] = df.apply(lambda x: f\"{basepath}{x['user_id']}/landmark_aligned_face.{x['face_id']}.{x['original_image']}\", axis=1)\n",
    "    return df\n",
    "\n",
    "def filter_df(df):\n",
    "    \"\"\"\n",
    "    this function removes images with unknown gender from the dataset\n",
    "    \"\"\"\n",
    "    df['valid'] = df['gender'].apply(lambda x: int(x in ['f', 'm']))\n",
    "    df = df[df['valid'] == 1]\n",
    "    return df.reset_index(drop=True)\n",
    "\n",
    "def flow_ready(df):\n",
    "    \"\"\"\n",
    "    this function will make a dataframe ready for flow with cols: [image_path, category]\n",
    "    \"\"\"\n",
    "    df = pd.concat([df['path'],df['gender']],axis=1)\n",
    "    return df"
   ]
  },
  {
   "cell_type": "markdown",
   "metadata": {
    "papermill": {
     "duration": 0.011091,
     "end_time": "2020-11-21T18:55:54.660791",
     "exception": false,
     "start_time": "2020-11-21T18:55:54.649700",
     "status": "completed"
    },
    "tags": []
   },
   "source": [
    "## Loading Dataset"
   ]
  },
  {
   "cell_type": "code",
   "execution_count": 3,
   "metadata": {
    "execution": {
     "iopub.execute_input": "2020-11-21T18:55:54.712938Z",
     "iopub.status.busy": "2020-11-21T18:55:54.712271Z",
     "iopub.status.idle": "2020-11-21T18:55:55.417196Z",
     "shell.execute_reply": "2020-11-21T18:55:55.418629Z"
    },
    "papermill": {
     "duration": 0.743187,
     "end_time": "2020-11-21T18:55:55.418921",
     "exception": false,
     "start_time": "2020-11-21T18:55:54.675734",
     "status": "completed"
    },
    "tags": []
   },
   "outputs": [
    {
     "data": {
      "text/html": [
       "<div>\n",
       "<style scoped>\n",
       "    .dataframe tbody tr th:only-of-type {\n",
       "        vertical-align: middle;\n",
       "    }\n",
       "\n",
       "    .dataframe tbody tr th {\n",
       "        vertical-align: top;\n",
       "    }\n",
       "\n",
       "    .dataframe thead th {\n",
       "        text-align: right;\n",
       "    }\n",
       "</style>\n",
       "<table border=\"1\" class=\"dataframe\">\n",
       "  <thead>\n",
       "    <tr style=\"text-align: right;\">\n",
       "      <th></th>\n",
       "      <th>path</th>\n",
       "      <th>gender</th>\n",
       "    </tr>\n",
       "  </thead>\n",
       "  <tbody>\n",
       "    <tr>\n",
       "      <th>0</th>\n",
       "      <td>../input/adience-age-gender-prediction-aligned...</td>\n",
       "      <td>f</td>\n",
       "    </tr>\n",
       "    <tr>\n",
       "      <th>1</th>\n",
       "      <td>../input/adience-age-gender-prediction-aligned...</td>\n",
       "      <td>m</td>\n",
       "    </tr>\n",
       "    <tr>\n",
       "      <th>2</th>\n",
       "      <td>../input/adience-age-gender-prediction-aligned...</td>\n",
       "      <td>f</td>\n",
       "    </tr>\n",
       "    <tr>\n",
       "      <th>3</th>\n",
       "      <td>../input/adience-age-gender-prediction-aligned...</td>\n",
       "      <td>m</td>\n",
       "    </tr>\n",
       "    <tr>\n",
       "      <th>4</th>\n",
       "      <td>../input/adience-age-gender-prediction-aligned...</td>\n",
       "      <td>m</td>\n",
       "    </tr>\n",
       "  </tbody>\n",
       "</table>\n",
       "</div>"
      ],
      "text/plain": [
       "                                                path gender\n",
       "0  ../input/adience-age-gender-prediction-aligned...      f\n",
       "1  ../input/adience-age-gender-prediction-aligned...      m\n",
       "2  ../input/adience-age-gender-prediction-aligned...      f\n",
       "3  ../input/adience-age-gender-prediction-aligned...      m\n",
       "4  ../input/adience-age-gender-prediction-aligned...      m"
      ]
     },
     "execution_count": 3,
     "metadata": {},
     "output_type": "execute_result"
    }
   ],
   "source": [
    "data_folder = \"../input/adience-age-gender-prediction-aligned-faces/age-gender-data/\"\n",
    "img_folder = \"../input/adience-age-gender-prediction-aligned-faces/age-gender-data/aligned/\"\n",
    "\n",
    "fold0_df = pd.read_csv(f\"{data_folder}fold_{0}_data.txt\", sep=\"\\t\")\n",
    "fold1_df = pd.read_csv(f\"{data_folder}fold_{1}_data.txt\", sep=\"\\t\")\n",
    "fold2_df = pd.read_csv(f\"{data_folder}fold_{2}_data.txt\", sep=\"\\t\")\n",
    "fold3_df = pd.read_csv(f\"{data_folder}fold_{3}_data.txt\", sep=\"\\t\")\n",
    "fold4_df = pd.read_csv(f\"{data_folder}fold_{4}_data.txt\", sep=\"\\t\")\n",
    "\n",
    "# remove unknown genders\n",
    "fold0_df = filter_df(fold0_df)\n",
    "fold1_df = filter_df(fold1_df)\n",
    "fold2_df = filter_df(fold2_df)\n",
    "fold3_df = filter_df(fold3_df)\n",
    "fold4_df = filter_df(fold4_df)\n",
    "\n",
    "# create image file path for each image in dataset\n",
    "# create image_path, label dataframe for image generator\n",
    "fold0_df = flow_ready(create_path(fold0_df, img_folder))\n",
    "fold1_df = flow_ready(create_path(fold1_df, img_folder))\n",
    "fold2_df = flow_ready(create_path(fold2_df, img_folder))\n",
    "fold3_df = flow_ready(create_path(fold3_df, img_folder))\n",
    "fold4_df = flow_ready(create_path(fold4_df, img_folder))\n",
    "\n",
    "# initial train test set\n",
    "train_df = pd.concat([fold0_df, fold1_df, fold3_df, fold4_df])\n",
    "test_df = fold2_df\n",
    "\n",
    "train_df.head()"
   ]
  },
  {
   "cell_type": "markdown",
   "metadata": {
    "papermill": {
     "duration": 0.019415,
     "end_time": "2020-11-21T18:55:55.460295",
     "exception": false,
     "start_time": "2020-11-21T18:55:55.440880",
     "status": "completed"
    },
    "tags": []
   },
   "source": [
    "## Data Augmentation"
   ]
  },
  {
   "cell_type": "code",
   "execution_count": 4,
   "metadata": {
    "execution": {
     "iopub.execute_input": "2020-11-21T18:55:55.508907Z",
     "iopub.status.busy": "2020-11-21T18:55:55.508061Z",
     "iopub.status.idle": "2020-11-21T18:55:55.523728Z",
     "shell.execute_reply": "2020-11-21T18:55:55.524844Z"
    },
    "papermill": {
     "duration": 0.045348,
     "end_time": "2020-11-21T18:55:55.525019",
     "exception": false,
     "start_time": "2020-11-21T18:55:55.479671",
     "status": "completed"
    },
    "tags": []
   },
   "outputs": [],
   "source": [
    "class CutOutDataGenerator(ImageDataGenerator):\n",
    "    def __init__(self,\n",
    "                 cutout_size=None,\n",
    "                 n_squares=None,\n",
    "                 **kwargs):\n",
    "        '''\n",
    "        Custom image data generator for cutout regularization.\n",
    "        Behaves like ImageDataGenerator, but allows color augmentation.\n",
    "        '''\n",
    "        super().__init__(\n",
    "            preprocessing_function=self.augment_cutout,\n",
    "            **kwargs)\n",
    "\n",
    "        self.cutout_size = cutout_size\n",
    "        self.n_squares = n_squares\n",
    "    \n",
    "    def augment_cutout(self, image):\n",
    "        '''Takes an input image and returns a cutout version of it'''\n",
    "        h, w, channels = image.shape\n",
    "        new_image = image\n",
    "        for _ in range(self.n_squares):\n",
    "            y = tf.random.uniform([1], minval=0, maxval=h, dtype=tf.int32).numpy()[0]\n",
    "            x = tf.random.uniform([1], minval=0, maxval=w, dtype=tf.int32).numpy()[0]\n",
    "            y1 = tf.clip_by_value(y - self.cutout_size // 2, 0, h).numpy()\n",
    "            y2 = tf.clip_by_value(y + self.cutout_size // 2, 0, h).numpy()\n",
    "            x1 = tf.clip_by_value(x - self.cutout_size // 2, 0, w).numpy()\n",
    "            x2 = tf.clip_by_value(x + self.cutout_size // 2, 0, w).numpy()\n",
    "            new_image[y1:y2,x1:x2,:] = 0\n",
    "        return new_image"
   ]
  },
  {
   "cell_type": "code",
   "execution_count": 5,
   "metadata": {
    "execution": {
     "iopub.execute_input": "2020-11-21T18:55:55.572704Z",
     "iopub.status.busy": "2020-11-21T18:55:55.571682Z",
     "iopub.status.idle": "2020-11-21T18:55:55.574523Z",
     "shell.execute_reply": "2020-11-21T18:55:55.573551Z"
    },
    "papermill": {
     "duration": 0.029677,
     "end_time": "2020-11-21T18:55:55.574656",
     "exception": false,
     "start_time": "2020-11-21T18:55:55.544979",
     "status": "completed"
    },
    "tags": []
   },
   "outputs": [],
   "source": [
    "# based on pre-trained base\n",
    "image_size = (218, 178)\n",
    "batch_size = 32"
   ]
  },
  {
   "cell_type": "code",
   "execution_count": 6,
   "metadata": {
    "execution": {
     "iopub.execute_input": "2020-11-21T18:55:55.622656Z",
     "iopub.status.busy": "2020-11-21T18:55:55.621538Z",
     "iopub.status.idle": "2020-11-21T18:55:55.624373Z",
     "shell.execute_reply": "2020-11-21T18:55:55.623491Z"
    },
    "papermill": {
     "duration": 0.031086,
     "end_time": "2020-11-21T18:55:55.624571",
     "exception": false,
     "start_time": "2020-11-21T18:55:55.593485",
     "status": "completed"
    },
    "tags": []
   },
   "outputs": [],
   "source": [
    "train_datagen = CutOutDataGenerator(rotation_range = 6,\n",
    "                                   width_shift_range = 0.2,\n",
    "                                   height_shift_range = 0.2,\n",
    "                                   rescale = 1./255.,\n",
    "                                   horizontal_flip = True,\n",
    "                                   cutout_size=20, n_squares=2)\n",
    "\n",
    "val_datagen = ImageDataGenerator(rescale = 1./255.)"
   ]
  },
  {
   "cell_type": "code",
   "execution_count": 7,
   "metadata": {
    "execution": {
     "iopub.execute_input": "2020-11-21T18:55:55.672815Z",
     "iopub.status.busy": "2020-11-21T18:55:55.671673Z",
     "iopub.status.idle": "2020-11-21T18:56:00.745934Z",
     "shell.execute_reply": "2020-11-21T18:56:00.745002Z"
    },
    "papermill": {
     "duration": 5.101926,
     "end_time": "2020-11-21T18:56:00.746049",
     "exception": false,
     "start_time": "2020-11-21T18:55:55.644123",
     "status": "completed"
    },
    "tags": []
   },
   "outputs": [
    {
     "name": "stdout",
     "output_type": "stream",
     "text": [
      "Found 14355 validated image filenames belonging to 2 classes.\n",
      "Found 3137 validated image filenames belonging to 2 classes.\n"
     ]
    }
   ],
   "source": [
    "train_generator = train_datagen.flow_from_dataframe(dataframe=train_df,\n",
    "                                            x_col=train_df.columns[0],\n",
    "                                            y_col=train_df.columns[1],\n",
    "                                            batch_size=batch_size,\n",
    "                                            seed=42,\n",
    "                                            shuffle=True,\n",
    "                                            class_mode=\"categorical\",\n",
    "                                            target_size=image_size,\n",
    "                                            color_mode='rgb')\n",
    "\n",
    "val_generator = val_datagen.flow_from_dataframe(dataframe=test_df,\n",
    "                                            x_col=test_df.columns[0],\n",
    "                                            y_col=test_df.columns[1],\n",
    "                                            batch_size=batch_size,\n",
    "                                            seed=42,\n",
    "                                            shuffle=True,\n",
    "                                            class_mode=\"categorical\",\n",
    "                                            target_size=image_size,\n",
    "                                            color_mode='rgb')"
   ]
  },
  {
   "cell_type": "code",
   "execution_count": 8,
   "metadata": {
    "execution": {
     "iopub.execute_input": "2020-11-21T18:56:00.776669Z",
     "iopub.status.busy": "2020-11-21T18:56:00.776055Z",
     "iopub.status.idle": "2020-11-21T18:56:07.471106Z",
     "shell.execute_reply": "2020-11-21T18:56:07.470566Z"
    },
    "papermill": {
     "duration": 6.712008,
     "end_time": "2020-11-21T18:56:07.471217",
     "exception": false,
     "start_time": "2020-11-21T18:56:00.759209",
     "status": "completed"
    },
    "tags": []
   },
   "outputs": [],
   "source": [
    "inceptionv3_celeba = \"../input/image-recognition-gender-detection-inceptionv3/weights.best.inc.male.hdf5\"\n",
    "pretrained_model = load_model(inceptionv3_celeba)"
   ]
  },
  {
   "cell_type": "markdown",
   "metadata": {
    "papermill": {
     "duration": 0.012869,
     "end_time": "2020-11-21T18:56:07.497760",
     "exception": false,
     "start_time": "2020-11-21T18:56:07.484891",
     "status": "completed"
    },
    "tags": []
   },
   "source": [
    "## Callbacks"
   ]
  },
  {
   "cell_type": "code",
   "execution_count": 9,
   "metadata": {
    "execution": {
     "iopub.execute_input": "2020-11-21T18:56:07.532246Z",
     "iopub.status.busy": "2020-11-21T18:56:07.531652Z",
     "iopub.status.idle": "2020-11-21T18:56:07.536118Z",
     "shell.execute_reply": "2020-11-21T18:56:07.535268Z"
    },
    "papermill": {
     "duration": 0.025241,
     "end_time": "2020-11-21T18:56:07.536241",
     "exception": false,
     "start_time": "2020-11-21T18:56:07.511000",
     "status": "completed"
    },
    "tags": []
   },
   "outputs": [],
   "source": [
    "checkpoint = ModelCheckpoint('cutout_model_fold2.h5',\n",
    "                             monitor='val_accuracy', \n",
    "                             verbose=1, \n",
    "                             save_best_only=True, \n",
    "                             mode='max')\n",
    "\n",
    "def step_decay(epoch):\n",
    "    if epoch < 10:\n",
    "        lrate = 0.01\n",
    "    else:\n",
    "        initial_lrate = 0.005\n",
    "        drop = 0.5\n",
    "        epochs_drop = 10.0\n",
    "        lrate = initial_lrate * math.pow(drop, \n",
    "                math.floor((1+epoch)/epochs_drop))\n",
    "    return lrate\n",
    "  \n",
    "lrate = LearningRateScheduler(step_decay)\n",
    "callbacks_list= [checkpoint, lrate]"
   ]
  },
  {
   "cell_type": "code",
   "execution_count": 10,
   "metadata": {
    "execution": {
     "iopub.execute_input": "2020-11-21T18:56:07.567020Z",
     "iopub.status.busy": "2020-11-21T18:56:07.566443Z",
     "iopub.status.idle": "2020-11-21T18:56:07.570006Z",
     "shell.execute_reply": "2020-11-21T18:56:07.570689Z"
    },
    "papermill": {
     "duration": 0.021365,
     "end_time": "2020-11-21T18:56:07.570812",
     "exception": false,
     "start_time": "2020-11-21T18:56:07.549447",
     "status": "completed"
    },
    "tags": []
   },
   "outputs": [],
   "source": [
    "TRAIN_STEP_SIZE = train_generator.n//train_generator.batch_size\n",
    "VAL_STEP_SIZE = val_generator.n//val_generator.batch_size"
   ]
  },
  {
   "cell_type": "code",
   "execution_count": 11,
   "metadata": {
    "execution": {
     "iopub.execute_input": "2020-11-21T18:56:07.606030Z",
     "iopub.status.busy": "2020-11-21T18:56:07.604622Z",
     "iopub.status.idle": "2020-11-21T22:37:57.661251Z",
     "shell.execute_reply": "2020-11-21T22:37:57.662073Z"
    },
    "papermill": {
     "duration": 13310.07783,
     "end_time": "2020-11-21T22:37:57.662287",
     "exception": false,
     "start_time": "2020-11-21T18:56:07.584457",
     "status": "completed"
    },
    "tags": []
   },
   "outputs": [
    {
     "name": "stdout",
     "output_type": "stream",
     "text": [
      "Epoch 1/30\n",
      "448/448 [==============================] - ETA: 0s - loss: 0.2979 - accuracy: 0.8709\n",
      "Epoch 00001: val_accuracy improved from -inf to 0.74649, saving model to cutout_model_fold2.h5\n",
      "448/448 [==============================] - 450s 1s/step - loss: 0.2979 - accuracy: 0.8709 - val_loss: 0.7837 - val_accuracy: 0.7465\n",
      "Epoch 2/30\n",
      "448/448 [==============================] - ETA: 0s - loss: 0.1842 - accuracy: 0.9286\n",
      "Epoch 00002: val_accuracy improved from 0.74649 to 0.89509, saving model to cutout_model_fold2.h5\n",
      "448/448 [==============================] - 414s 923ms/step - loss: 0.1842 - accuracy: 0.9286 - val_loss: 0.2385 - val_accuracy: 0.8951\n",
      "Epoch 3/30\n",
      "448/448 [==============================] - ETA: 0s - loss: 0.1410 - accuracy: 0.9454\n",
      "Epoch 00003: val_accuracy did not improve from 0.89509\n",
      "448/448 [==============================] - 410s 915ms/step - loss: 0.1410 - accuracy: 0.9454 - val_loss: 0.2833 - val_accuracy: 0.8830\n",
      "Epoch 4/30\n",
      "448/448 [==============================] - ETA: 0s - loss: 0.1138 - accuracy: 0.9572\n",
      "Epoch 00004: val_accuracy did not improve from 0.89509\n",
      "448/448 [==============================] - 408s 911ms/step - loss: 0.1138 - accuracy: 0.9572 - val_loss: 0.2965 - val_accuracy: 0.8801\n",
      "Epoch 5/30\n",
      "448/448 [==============================] - ETA: 0s - loss: 0.0929 - accuracy: 0.9673\n",
      "Epoch 00005: val_accuracy improved from 0.89509 to 0.91008, saving model to cutout_model_fold2.h5\n",
      "448/448 [==============================] - 412s 921ms/step - loss: 0.0929 - accuracy: 0.9673 - val_loss: 0.2558 - val_accuracy: 0.9101\n",
      "Epoch 6/30\n",
      "448/448 [==============================] - ETA: 0s - loss: 0.0737 - accuracy: 0.9749\n",
      "Epoch 00006: val_accuracy did not improve from 0.91008\n",
      "448/448 [==============================] - 756s 2s/step - loss: 0.0737 - accuracy: 0.9749 - val_loss: 0.2655 - val_accuracy: 0.9011\n",
      "Epoch 7/30\n",
      "448/448 [==============================] - ETA: 0s - loss: 0.0746 - accuracy: 0.9735\n",
      "Epoch 00007: val_accuracy improved from 0.91008 to 0.92188, saving model to cutout_model_fold2.h5\n",
      "448/448 [==============================] - 482s 1s/step - loss: 0.0746 - accuracy: 0.9735 - val_loss: 0.2497 - val_accuracy: 0.9219\n",
      "Epoch 8/30\n",
      "448/448 [==============================] - ETA: 0s - loss: 0.0576 - accuracy: 0.9794\n",
      "Epoch 00008: val_accuracy did not improve from 0.92188\n",
      "448/448 [==============================] - 437s 975ms/step - loss: 0.0576 - accuracy: 0.9794 - val_loss: 0.2860 - val_accuracy: 0.9027\n",
      "Epoch 9/30\n",
      "448/448 [==============================] - ETA: 0s - loss: 0.0618 - accuracy: 0.9766\n",
      "Epoch 00009: val_accuracy improved from 0.92188 to 0.93144, saving model to cutout_model_fold2.h5\n",
      "448/448 [==============================] - 434s 970ms/step - loss: 0.0618 - accuracy: 0.9766 - val_loss: 0.2095 - val_accuracy: 0.9314\n",
      "Epoch 10/30\n",
      "448/448 [==============================] - ETA: 0s - loss: 0.0555 - accuracy: 0.9805\n",
      "Epoch 00010: val_accuracy did not improve from 0.93144\n",
      "448/448 [==============================] - 421s 940ms/step - loss: 0.0555 - accuracy: 0.9805 - val_loss: 0.3481 - val_accuracy: 0.9059\n",
      "Epoch 11/30\n",
      "448/448 [==============================] - ETA: 0s - loss: 0.0297 - accuracy: 0.9902\n",
      "Epoch 00011: val_accuracy did not improve from 0.93144\n",
      "448/448 [==============================] - 418s 933ms/step - loss: 0.0297 - accuracy: 0.9902 - val_loss: 0.2617 - val_accuracy: 0.9260\n",
      "Epoch 12/30\n",
      "448/448 [==============================] - ETA: 0s - loss: 0.0214 - accuracy: 0.9927\n",
      "Epoch 00012: val_accuracy did not improve from 0.93144\n",
      "448/448 [==============================] - 424s 946ms/step - loss: 0.0214 - accuracy: 0.9927 - val_loss: 0.2928 - val_accuracy: 0.9273\n",
      "Epoch 13/30\n",
      "448/448 [==============================] - ETA: 0s - loss: 0.0169 - accuracy: 0.9939\n",
      "Epoch 00013: val_accuracy did not improve from 0.93144\n",
      "448/448 [==============================] - 420s 937ms/step - loss: 0.0169 - accuracy: 0.9939 - val_loss: 0.2859 - val_accuracy: 0.9254\n",
      "Epoch 14/30\n",
      "448/448 [==============================] - ETA: 0s - loss: 0.0165 - accuracy: 0.9949\n",
      "Epoch 00014: val_accuracy did not improve from 0.93144\n",
      "448/448 [==============================] - 416s 928ms/step - loss: 0.0165 - accuracy: 0.9949 - val_loss: 0.3205 - val_accuracy: 0.9216\n",
      "Epoch 15/30\n",
      "448/448 [==============================] - ETA: 0s - loss: 0.0144 - accuracy: 0.9951\n",
      "Epoch 00015: val_accuracy did not improve from 0.93144\n",
      "448/448 [==============================] - 424s 945ms/step - loss: 0.0144 - accuracy: 0.9951 - val_loss: 0.3075 - val_accuracy: 0.9247\n",
      "Epoch 16/30\n",
      "448/448 [==============================] - ETA: 0s - loss: 0.0141 - accuracy: 0.9954\n",
      "Epoch 00016: val_accuracy did not improve from 0.93144\n",
      "448/448 [==============================] - 435s 972ms/step - loss: 0.0141 - accuracy: 0.9954 - val_loss: 0.3340 - val_accuracy: 0.9196\n",
      "Epoch 17/30\n",
      "448/448 [==============================] - ETA: 0s - loss: 0.0136 - accuracy: 0.9954\n",
      "Epoch 00017: val_accuracy did not improve from 0.93144\n",
      "448/448 [==============================] - 438s 977ms/step - loss: 0.0136 - accuracy: 0.9954 - val_loss: 0.3448 - val_accuracy: 0.9216\n",
      "Epoch 18/30\n",
      "448/448 [==============================] - ETA: 0s - loss: 0.0106 - accuracy: 0.9960\n",
      "Epoch 00018: val_accuracy did not improve from 0.93144\n",
      "448/448 [==============================] - 442s 987ms/step - loss: 0.0106 - accuracy: 0.9960 - val_loss: 0.3915 - val_accuracy: 0.9155\n",
      "Epoch 19/30\n",
      "448/448 [==============================] - ETA: 0s - loss: 0.0114 - accuracy: 0.9963\n",
      "Epoch 00019: val_accuracy did not improve from 0.93144\n",
      "448/448 [==============================] - 444s 992ms/step - loss: 0.0114 - accuracy: 0.9963 - val_loss: 0.3932 - val_accuracy: 0.9177\n",
      "Epoch 20/30\n",
      "448/448 [==============================] - ETA: 0s - loss: 0.0107 - accuracy: 0.9958\n",
      "Epoch 00020: val_accuracy did not improve from 0.93144\n",
      "448/448 [==============================] - 440s 982ms/step - loss: 0.0107 - accuracy: 0.9958 - val_loss: 0.3502 - val_accuracy: 0.9232\n",
      "Epoch 21/30\n",
      "448/448 [==============================] - ETA: 0s - loss: 0.0101 - accuracy: 0.9964\n",
      "Epoch 00021: val_accuracy did not improve from 0.93144\n",
      "448/448 [==============================] - 446s 995ms/step - loss: 0.0101 - accuracy: 0.9964 - val_loss: 0.3371 - val_accuracy: 0.9273\n",
      "Epoch 22/30\n",
      "448/448 [==============================] - ETA: 0s - loss: 0.0090 - accuracy: 0.9971\n",
      "Epoch 00022: val_accuracy did not improve from 0.93144\n",
      "448/448 [==============================] - 440s 982ms/step - loss: 0.0090 - accuracy: 0.9971 - val_loss: 0.3334 - val_accuracy: 0.9260\n",
      "Epoch 23/30\n",
      "448/448 [==============================] - ETA: 0s - loss: 0.0073 - accuracy: 0.9969\n",
      "Epoch 00023: val_accuracy did not improve from 0.93144\n",
      "448/448 [==============================] - 431s 962ms/step - loss: 0.0073 - accuracy: 0.9969 - val_loss: 0.3438 - val_accuracy: 0.9254\n",
      "Epoch 24/30\n",
      "448/448 [==============================] - ETA: 0s - loss: 0.0068 - accuracy: 0.9973\n",
      "Epoch 00024: val_accuracy did not improve from 0.93144\n",
      "448/448 [==============================] - 426s 950ms/step - loss: 0.0068 - accuracy: 0.9973 - val_loss: 0.3717 - val_accuracy: 0.9216\n",
      "Epoch 25/30\n",
      "448/448 [==============================] - ETA: 0s - loss: 0.0075 - accuracy: 0.9973\n",
      "Epoch 00025: val_accuracy did not improve from 0.93144\n",
      "448/448 [==============================] - 429s 958ms/step - loss: 0.0075 - accuracy: 0.9973 - val_loss: 0.3584 - val_accuracy: 0.9238\n",
      "Epoch 26/30\n",
      "448/448 [==============================] - ETA: 0s - loss: 0.0092 - accuracy: 0.9961\n",
      "Epoch 00026: val_accuracy did not improve from 0.93144\n",
      "448/448 [==============================] - 430s 959ms/step - loss: 0.0092 - accuracy: 0.9961 - val_loss: 0.3449 - val_accuracy: 0.9292\n",
      "Epoch 27/30\n",
      "448/448 [==============================] - ETA: 0s - loss: 0.0068 - accuracy: 0.9974\n",
      "Epoch 00027: val_accuracy did not improve from 0.93144\n",
      "448/448 [==============================] - 429s 958ms/step - loss: 0.0068 - accuracy: 0.9974 - val_loss: 0.3888 - val_accuracy: 0.9247\n",
      "Epoch 28/30\n",
      "448/448 [==============================] - ETA: 0s - loss: 0.0063 - accuracy: 0.9980\n",
      "Epoch 00028: val_accuracy did not improve from 0.93144\n",
      "448/448 [==============================] - 430s 960ms/step - loss: 0.0063 - accuracy: 0.9980 - val_loss: 0.3894 - val_accuracy: 0.9254\n",
      "Epoch 29/30\n",
      "448/448 [==============================] - ETA: 0s - loss: 0.0061 - accuracy: 0.9977\n",
      "Epoch 00029: val_accuracy did not improve from 0.93144\n",
      "448/448 [==============================] - 435s 970ms/step - loss: 0.0061 - accuracy: 0.9977 - val_loss: 0.3610 - val_accuracy: 0.9273\n",
      "Epoch 30/30\n",
      "448/448 [==============================] - ETA: 0s - loss: 0.0065 - accuracy: 0.9978\n",
      "Epoch 00030: val_accuracy did not improve from 0.93144\n",
      "448/448 [==============================] - 433s 967ms/step - loss: 0.0065 - accuracy: 0.9978 - val_loss: 0.3630 - val_accuracy: 0.9292\n"
     ]
    }
   ],
   "source": [
    "history = pretrained_model.fit(train_generator,\n",
    "          steps_per_epoch=TRAIN_STEP_SIZE,\n",
    "          epochs=30,\n",
    "          validation_data=val_generator,\n",
    "          validation_steps=VAL_STEP_SIZE,\n",
    "          callbacks=callbacks_list)"
   ]
  },
  {
   "cell_type": "code",
   "execution_count": 12,
   "metadata": {
    "execution": {
     "iopub.execute_input": "2020-11-21T22:38:08.215120Z",
     "iopub.status.busy": "2020-11-21T22:38:08.212922Z",
     "iopub.status.idle": "2020-11-21T22:38:08.215850Z",
     "shell.execute_reply": "2020-11-21T22:38:08.216379Z"
    },
    "papermill": {
     "duration": 5.492163,
     "end_time": "2020-11-21T22:38:08.216522",
     "exception": false,
     "start_time": "2020-11-21T22:38:02.724359",
     "status": "completed"
    },
    "tags": []
   },
   "outputs": [],
   "source": [
    "np.save(\"fold2_validation.npy\", history.history)"
   ]
  }
 ],
 "metadata": {
  "kernelspec": {
   "display_name": "Python 3",
   "language": "python",
   "name": "python3"
  },
  "language_info": {
   "codemirror_mode": {
    "name": "ipython",
    "version": 3
   },
   "file_extension": ".py",
   "mimetype": "text/x-python",
   "name": "python",
   "nbconvert_exporter": "python",
   "pygments_lexer": "ipython3",
   "version": "3.7.6"
  },
  "papermill": {
   "duration": 13349.41409,
   "end_time": "2020-11-21T22:38:14.605836",
   "environment_variables": {},
   "exception": null,
   "input_path": "__notebook__.ipynb",
   "output_path": "__notebook__.ipynb",
   "parameters": {},
   "start_time": "2020-11-21T18:55:45.191746",
   "version": "2.1.0"
  }
 },
 "nbformat": 4,
 "nbformat_minor": 4
}
