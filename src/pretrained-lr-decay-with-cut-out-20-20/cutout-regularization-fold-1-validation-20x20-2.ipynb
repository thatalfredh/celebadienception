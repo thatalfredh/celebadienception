{
 "cells": [
  {
   "cell_type": "code",
   "execution_count": 1,
   "metadata": {
    "_cell_guid": "b1076dfc-b9ad-4769-8c92-a6c4dae69d19",
    "_uuid": "8f2839f25d086af736a60e9eeb907d3b93b6e0e5",
    "execution": {
     "iopub.execute_input": "2020-11-21T18:56:30.808432Z",
     "iopub.status.busy": "2020-11-21T18:56:30.807466Z",
     "iopub.status.idle": "2020-11-21T18:56:35.968767Z",
     "shell.execute_reply": "2020-11-21T18:56:35.967682Z"
    },
    "papermill": {
     "duration": 5.183746,
     "end_time": "2020-11-21T18:56:35.968911",
     "exception": false,
     "start_time": "2020-11-21T18:56:30.785165",
     "status": "completed"
    },
    "tags": []
   },
   "outputs": [],
   "source": [
    "import pandas as pd\n",
    "import numpy as np   \n",
    "import matplotlib.pyplot as plt\n",
    "plt.style.use('ggplot')\n",
    "from sklearn.metrics import f1_score\n",
    "\n",
    "import keras, math\n",
    "import tensorflow as tf\n",
    "from keras_preprocessing.image import ImageDataGenerator\n",
    "from keras.applications.inception_v3 import InceptionV3, preprocess_input\n",
    "from keras.models import Sequential, Model, load_model\n",
    "from keras.layers import Dropout, Flatten, Dense, GlobalAveragePooling2D\n",
    "from keras.optimizers import SGD\n",
    "from keras.callbacks import ModelCheckpoint, LearningRateScheduler"
   ]
  },
  {
   "cell_type": "markdown",
   "metadata": {
    "papermill": {
     "duration": 0.011785,
     "end_time": "2020-11-21T18:56:35.992821",
     "exception": false,
     "start_time": "2020-11-21T18:56:35.981036",
     "status": "completed"
    },
    "tags": []
   },
   "source": [
    "## Preprocessing Functions for Adience Dataset"
   ]
  },
  {
   "cell_type": "code",
   "execution_count": 2,
   "metadata": {
    "_cell_guid": "79c7e3d0-c299-4dcb-8224-4455121ee9b0",
    "_uuid": "d629ff2d2480ee46fbb7e2d37f6b5fab8052498a",
    "execution": {
     "iopub.execute_input": "2020-11-21T18:56:36.030469Z",
     "iopub.status.busy": "2020-11-21T18:56:36.028515Z",
     "iopub.status.idle": "2020-11-21T18:56:36.031409Z",
     "shell.execute_reply": "2020-11-21T18:56:36.031970Z"
    },
    "papermill": {
     "duration": 0.027068,
     "end_time": "2020-11-21T18:56:36.032108",
     "exception": false,
     "start_time": "2020-11-21T18:56:36.005040",
     "status": "completed"
    },
    "tags": []
   },
   "outputs": [],
   "source": [
    "def create_path(df, basepath):\n",
    "    \"\"\"\n",
    "    this function creates column of image file path for each image\n",
    "    \"\"\"\n",
    "    df['path'] = df.apply(lambda x: f\"{basepath}{x['user_id']}/landmark_aligned_face.{x['face_id']}.{x['original_image']}\", axis=1)\n",
    "    return df\n",
    "\n",
    "def filter_df(df):\n",
    "    \"\"\"\n",
    "    this function removes images with unknown gender from the dataset\n",
    "    \"\"\"\n",
    "    df['valid'] = df['gender'].apply(lambda x: int(x in ['f', 'm']))\n",
    "    df = df[df['valid'] == 1]\n",
    "    return df.reset_index(drop=True)\n",
    "\n",
    "def flow_ready(df):\n",
    "    \"\"\"\n",
    "    this function will make a dataframe ready for flow with cols: [image_path, category]\n",
    "    \"\"\"\n",
    "    df = pd.concat([df['path'],df['gender']],axis=1)\n",
    "    return df"
   ]
  },
  {
   "cell_type": "markdown",
   "metadata": {
    "papermill": {
     "duration": 0.012243,
     "end_time": "2020-11-21T18:56:36.056857",
     "exception": false,
     "start_time": "2020-11-21T18:56:36.044614",
     "status": "completed"
    },
    "tags": []
   },
   "source": [
    "## Loading Dataset"
   ]
  },
  {
   "cell_type": "code",
   "execution_count": 3,
   "metadata": {
    "execution": {
     "iopub.execute_input": "2020-11-21T18:56:36.097281Z",
     "iopub.status.busy": "2020-11-21T18:56:36.096062Z",
     "iopub.status.idle": "2020-11-21T18:56:36.916673Z",
     "shell.execute_reply": "2020-11-21T18:56:36.917516Z"
    },
    "papermill": {
     "duration": 0.848841,
     "end_time": "2020-11-21T18:56:36.917699",
     "exception": false,
     "start_time": "2020-11-21T18:56:36.068858",
     "status": "completed"
    },
    "tags": []
   },
   "outputs": [
    {
     "data": {
      "text/html": [
       "<div>\n",
       "<style scoped>\n",
       "    .dataframe tbody tr th:only-of-type {\n",
       "        vertical-align: middle;\n",
       "    }\n",
       "\n",
       "    .dataframe tbody tr th {\n",
       "        vertical-align: top;\n",
       "    }\n",
       "\n",
       "    .dataframe thead th {\n",
       "        text-align: right;\n",
       "    }\n",
       "</style>\n",
       "<table border=\"1\" class=\"dataframe\">\n",
       "  <thead>\n",
       "    <tr style=\"text-align: right;\">\n",
       "      <th></th>\n",
       "      <th>path</th>\n",
       "      <th>gender</th>\n",
       "    </tr>\n",
       "  </thead>\n",
       "  <tbody>\n",
       "    <tr>\n",
       "      <th>0</th>\n",
       "      <td>../input/adience-age-gender-prediction-aligned...</td>\n",
       "      <td>f</td>\n",
       "    </tr>\n",
       "    <tr>\n",
       "      <th>1</th>\n",
       "      <td>../input/adience-age-gender-prediction-aligned...</td>\n",
       "      <td>m</td>\n",
       "    </tr>\n",
       "    <tr>\n",
       "      <th>2</th>\n",
       "      <td>../input/adience-age-gender-prediction-aligned...</td>\n",
       "      <td>f</td>\n",
       "    </tr>\n",
       "    <tr>\n",
       "      <th>3</th>\n",
       "      <td>../input/adience-age-gender-prediction-aligned...</td>\n",
       "      <td>m</td>\n",
       "    </tr>\n",
       "    <tr>\n",
       "      <th>4</th>\n",
       "      <td>../input/adience-age-gender-prediction-aligned...</td>\n",
       "      <td>m</td>\n",
       "    </tr>\n",
       "  </tbody>\n",
       "</table>\n",
       "</div>"
      ],
      "text/plain": [
       "                                                path gender\n",
       "0  ../input/adience-age-gender-prediction-aligned...      f\n",
       "1  ../input/adience-age-gender-prediction-aligned...      m\n",
       "2  ../input/adience-age-gender-prediction-aligned...      f\n",
       "3  ../input/adience-age-gender-prediction-aligned...      m\n",
       "4  ../input/adience-age-gender-prediction-aligned...      m"
      ]
     },
     "execution_count": 3,
     "metadata": {},
     "output_type": "execute_result"
    }
   ],
   "source": [
    "data_folder = \"../input/adience-age-gender-prediction-aligned-faces/age-gender-data/\"\n",
    "img_folder = \"../input/adience-age-gender-prediction-aligned-faces/age-gender-data/aligned/\"\n",
    "\n",
    "fold0_df = pd.read_csv(f\"{data_folder}fold_{0}_data.txt\", sep=\"\\t\")\n",
    "fold1_df = pd.read_csv(f\"{data_folder}fold_{1}_data.txt\", sep=\"\\t\")\n",
    "fold2_df = pd.read_csv(f\"{data_folder}fold_{2}_data.txt\", sep=\"\\t\")\n",
    "fold3_df = pd.read_csv(f\"{data_folder}fold_{3}_data.txt\", sep=\"\\t\")\n",
    "fold4_df = pd.read_csv(f\"{data_folder}fold_{4}_data.txt\", sep=\"\\t\")\n",
    "\n",
    "# remove unknown genders\n",
    "fold0_df = filter_df(fold0_df)\n",
    "fold1_df = filter_df(fold1_df)\n",
    "fold2_df = filter_df(fold2_df)\n",
    "fold3_df = filter_df(fold3_df)\n",
    "fold4_df = filter_df(fold4_df)\n",
    "\n",
    "# create image file path for each image in dataset\n",
    "# create image_path, label dataframe for image generator\n",
    "fold0_df = flow_ready(create_path(fold0_df, img_folder))\n",
    "fold1_df = flow_ready(create_path(fold1_df, img_folder))\n",
    "fold2_df = flow_ready(create_path(fold2_df, img_folder))\n",
    "fold3_df = flow_ready(create_path(fold3_df, img_folder))\n",
    "fold4_df = flow_ready(create_path(fold4_df, img_folder))\n",
    "\n",
    "# initial train test set\n",
    "train_df = pd.concat([fold0_df, fold2_df, fold3_df, fold4_df])\n",
    "test_df = fold1_df\n",
    "\n",
    "train_df.head()"
   ]
  },
  {
   "cell_type": "markdown",
   "metadata": {
    "papermill": {
     "duration": 0.021911,
     "end_time": "2020-11-21T18:56:36.956957",
     "exception": false,
     "start_time": "2020-11-21T18:56:36.935046",
     "status": "completed"
    },
    "tags": []
   },
   "source": [
    "## Data Augmentation"
   ]
  },
  {
   "cell_type": "code",
   "execution_count": 4,
   "metadata": {
    "execution": {
     "iopub.execute_input": "2020-11-21T18:56:37.011808Z",
     "iopub.status.busy": "2020-11-21T18:56:37.007914Z",
     "iopub.status.idle": "2020-11-21T18:56:37.022613Z",
     "shell.execute_reply": "2020-11-21T18:56:37.023761Z"
    },
    "papermill": {
     "duration": 0.04722,
     "end_time": "2020-11-21T18:56:37.023929",
     "exception": false,
     "start_time": "2020-11-21T18:56:36.976709",
     "status": "completed"
    },
    "tags": []
   },
   "outputs": [],
   "source": [
    "class CutOutDataGenerator(ImageDataGenerator):\n",
    "    def __init__(self,\n",
    "                 cutout_size=None,\n",
    "                 n_squares=None,\n",
    "                 **kwargs):\n",
    "        '''\n",
    "        Custom image data generator for cutout regularization.\n",
    "        Behaves like ImageDataGenerator, but allows color augmentation.\n",
    "        '''\n",
    "        super().__init__(\n",
    "            preprocessing_function=self.augment_cutout,\n",
    "            **kwargs)\n",
    "\n",
    "        self.cutout_size = cutout_size\n",
    "        self.n_squares = n_squares\n",
    "    \n",
    "    def augment_cutout(self, image):\n",
    "        '''Takes an input image and returns a cutout version of it'''\n",
    "        h, w, channels = image.shape\n",
    "        new_image = image\n",
    "        for _ in range(self.n_squares):\n",
    "            y = tf.random.uniform([1], minval=0, maxval=h, dtype=tf.int32).numpy()[0]\n",
    "            x = tf.random.uniform([1], minval=0, maxval=w, dtype=tf.int32).numpy()[0]\n",
    "            y1 = tf.clip_by_value(y - self.cutout_size // 2, 0, h).numpy()\n",
    "            y2 = tf.clip_by_value(y + self.cutout_size // 2, 0, h).numpy()\n",
    "            x1 = tf.clip_by_value(x - self.cutout_size // 2, 0, w).numpy()\n",
    "            x2 = tf.clip_by_value(x + self.cutout_size // 2, 0, w).numpy()\n",
    "            new_image[y1:y2,x1:x2,:] = 0\n",
    "        return new_image"
   ]
  },
  {
   "cell_type": "code",
   "execution_count": 5,
   "metadata": {
    "execution": {
     "iopub.execute_input": "2020-11-21T18:56:37.065960Z",
     "iopub.status.busy": "2020-11-21T18:56:37.065078Z",
     "iopub.status.idle": "2020-11-21T18:56:37.067359Z",
     "shell.execute_reply": "2020-11-21T18:56:37.066710Z"
    },
    "papermill": {
     "duration": 0.026041,
     "end_time": "2020-11-21T18:56:37.067495",
     "exception": false,
     "start_time": "2020-11-21T18:56:37.041454",
     "status": "completed"
    },
    "tags": []
   },
   "outputs": [],
   "source": [
    "# based on pre-trained base\n",
    "image_size = (218, 178)\n",
    "batch_size = 32"
   ]
  },
  {
   "cell_type": "code",
   "execution_count": 6,
   "metadata": {
    "execution": {
     "iopub.execute_input": "2020-11-21T18:56:37.108173Z",
     "iopub.status.busy": "2020-11-21T18:56:37.107347Z",
     "iopub.status.idle": "2020-11-21T18:56:37.111029Z",
     "shell.execute_reply": "2020-11-21T18:56:37.111723Z"
    },
    "papermill": {
     "duration": 0.02818,
     "end_time": "2020-11-21T18:56:37.111905",
     "exception": false,
     "start_time": "2020-11-21T18:56:37.083725",
     "status": "completed"
    },
    "tags": []
   },
   "outputs": [],
   "source": [
    "train_datagen = CutOutDataGenerator(rotation_range = 6,\n",
    "                                   width_shift_range = 0.2,\n",
    "                                   height_shift_range = 0.2,\n",
    "                                   rescale = 1./255.,\n",
    "                                   horizontal_flip = True,\n",
    "                                   cutout_size=20, n_squares=2)\n",
    "\n",
    "val_datagen = ImageDataGenerator(rescale = 1./255.)"
   ]
  },
  {
   "cell_type": "code",
   "execution_count": 7,
   "metadata": {
    "execution": {
     "iopub.execute_input": "2020-11-21T18:56:37.157304Z",
     "iopub.status.busy": "2020-11-21T18:56:37.156446Z",
     "iopub.status.idle": "2020-11-21T18:56:41.615322Z",
     "shell.execute_reply": "2020-11-21T18:56:41.616501Z"
    },
    "papermill": {
     "duration": 4.486906,
     "end_time": "2020-11-21T18:56:41.616695",
     "exception": false,
     "start_time": "2020-11-21T18:56:37.129789",
     "status": "completed"
    },
    "tags": []
   },
   "outputs": [
    {
     "name": "stdout",
     "output_type": "stream",
     "text": [
      "Found 13883 validated image filenames belonging to 2 classes.\n",
      "Found 3609 validated image filenames belonging to 2 classes.\n"
     ]
    }
   ],
   "source": [
    "train_generator = train_datagen.flow_from_dataframe(dataframe=train_df,\n",
    "                                            x_col=train_df.columns[0],\n",
    "                                            y_col=train_df.columns[1],\n",
    "                                            batch_size=batch_size,\n",
    "                                            seed=42,\n",
    "                                            shuffle=True,\n",
    "                                            class_mode=\"categorical\",\n",
    "                                            target_size=image_size,\n",
    "                                            color_mode='rgb')\n",
    "\n",
    "val_generator = val_datagen.flow_from_dataframe(dataframe=test_df,\n",
    "                                            x_col=test_df.columns[0],\n",
    "                                            y_col=test_df.columns[1],\n",
    "                                            batch_size=batch_size,\n",
    "                                            seed=42,\n",
    "                                            shuffle=True,\n",
    "                                            class_mode=\"categorical\",\n",
    "                                            target_size=image_size,\n",
    "                                            color_mode='rgb')"
   ]
  },
  {
   "cell_type": "code",
   "execution_count": 8,
   "metadata": {
    "execution": {
     "iopub.execute_input": "2020-11-21T18:56:41.666672Z",
     "iopub.status.busy": "2020-11-21T18:56:41.664738Z",
     "iopub.status.idle": "2020-11-21T18:56:48.321877Z",
     "shell.execute_reply": "2020-11-21T18:56:48.321275Z"
    },
    "papermill": {
     "duration": 6.68433,
     "end_time": "2020-11-21T18:56:48.321998",
     "exception": false,
     "start_time": "2020-11-21T18:56:41.637668",
     "status": "completed"
    },
    "tags": []
   },
   "outputs": [],
   "source": [
    "inceptionv3_celeba = \"../input/image-recognition-gender-detection-inceptionv3/weights.best.inc.male.hdf5\"\n",
    "pretrained_model = load_model(inceptionv3_celeba)"
   ]
  },
  {
   "cell_type": "markdown",
   "metadata": {
    "papermill": {
     "duration": 0.014251,
     "end_time": "2020-11-21T18:56:48.350530",
     "exception": false,
     "start_time": "2020-11-21T18:56:48.336279",
     "status": "completed"
    },
    "tags": []
   },
   "source": [
    "## Callbacks"
   ]
  },
  {
   "cell_type": "code",
   "execution_count": 9,
   "metadata": {
    "execution": {
     "iopub.execute_input": "2020-11-21T18:56:48.388597Z",
     "iopub.status.busy": "2020-11-21T18:56:48.386616Z",
     "iopub.status.idle": "2020-11-21T18:56:48.389289Z",
     "shell.execute_reply": "2020-11-21T18:56:48.389815Z"
    },
    "papermill": {
     "duration": 0.025644,
     "end_time": "2020-11-21T18:56:48.389937",
     "exception": false,
     "start_time": "2020-11-21T18:56:48.364293",
     "status": "completed"
    },
    "tags": []
   },
   "outputs": [],
   "source": [
    "checkpoint = ModelCheckpoint('cutout_model_fold1.h5',\n",
    "                             monitor='val_accuracy', \n",
    "                             verbose=1, \n",
    "                             save_best_only=True, \n",
    "                             mode='max')\n",
    "\n",
    "def step_decay(epoch):\n",
    "    if epoch < 10:\n",
    "        lrate = 0.01\n",
    "    else:\n",
    "        initial_lrate = 0.005\n",
    "        drop = 0.5\n",
    "        epochs_drop = 10.0\n",
    "        lrate = initial_lrate * math.pow(drop, \n",
    "                math.floor((1+epoch)/epochs_drop))\n",
    "    return lrate\n",
    "  \n",
    "lrate = LearningRateScheduler(step_decay)\n",
    "callbacks_list= [checkpoint, lrate]"
   ]
  },
  {
   "cell_type": "code",
   "execution_count": 10,
   "metadata": {
    "execution": {
     "iopub.execute_input": "2020-11-21T18:56:48.424214Z",
     "iopub.status.busy": "2020-11-21T18:56:48.422143Z",
     "iopub.status.idle": "2020-11-21T18:56:48.424960Z",
     "shell.execute_reply": "2020-11-21T18:56:48.425496Z"
    },
    "papermill": {
     "duration": 0.021668,
     "end_time": "2020-11-21T18:56:48.425610",
     "exception": false,
     "start_time": "2020-11-21T18:56:48.403942",
     "status": "completed"
    },
    "tags": []
   },
   "outputs": [],
   "source": [
    "TRAIN_STEP_SIZE = train_generator.n//train_generator.batch_size\n",
    "VAL_STEP_SIZE = val_generator.n//val_generator.batch_size"
   ]
  },
  {
   "cell_type": "code",
   "execution_count": 11,
   "metadata": {
    "execution": {
     "iopub.execute_input": "2020-11-21T18:56:48.462583Z",
     "iopub.status.busy": "2020-11-21T18:56:48.461632Z",
     "iopub.status.idle": "2020-11-21T22:50:15.747432Z",
     "shell.execute_reply": "2020-11-21T22:50:15.748268Z"
    },
    "papermill": {
     "duration": 14007.309016,
     "end_time": "2020-11-21T22:50:15.748540",
     "exception": false,
     "start_time": "2020-11-21T18:56:48.439524",
     "status": "completed"
    },
    "tags": []
   },
   "outputs": [
    {
     "name": "stdout",
     "output_type": "stream",
     "text": [
      "Epoch 1/30\n",
      "433/433 [==============================] - ETA: 0s - loss: 0.2947 - accuracy: 0.8738\n",
      "Epoch 00001: val_accuracy improved from -inf to 0.86970, saving model to cutout_model_fold1.h5\n",
      "433/433 [==============================] - 466s 1s/step - loss: 0.2947 - accuracy: 0.8738 - val_loss: 0.3374 - val_accuracy: 0.8697\n",
      "Epoch 2/30\n",
      "433/433 [==============================] - ETA: 0s - loss: 0.1713 - accuracy: 0.9343\n",
      "Epoch 00002: val_accuracy improved from 0.86970 to 0.90988, saving model to cutout_model_fold1.h5\n",
      "433/433 [==============================] - 438s 1s/step - loss: 0.1713 - accuracy: 0.9343 - val_loss: 0.2147 - val_accuracy: 0.9099\n",
      "Epoch 3/30\n",
      "433/433 [==============================] - ETA: 0s - loss: 0.1351 - accuracy: 0.9505\n",
      "Epoch 00003: val_accuracy did not improve from 0.90988\n",
      "433/433 [==============================] - 435s 1s/step - loss: 0.1351 - accuracy: 0.9505 - val_loss: 0.7543 - val_accuracy: 0.7849\n",
      "Epoch 4/30\n",
      "433/433 [==============================] - ETA: 0s - loss: 0.1123 - accuracy: 0.9596\n",
      "Epoch 00004: val_accuracy improved from 0.90988 to 0.91071, saving model to cutout_model_fold1.h5\n",
      "433/433 [==============================] - 441s 1s/step - loss: 0.1123 - accuracy: 0.9596 - val_loss: 0.2409 - val_accuracy: 0.9107\n",
      "Epoch 5/30\n",
      "433/433 [==============================] - ETA: 0s - loss: 0.0899 - accuracy: 0.9664\n",
      "Epoch 00005: val_accuracy did not improve from 0.91071\n",
      "433/433 [==============================] - 455s 1s/step - loss: 0.0899 - accuracy: 0.9664 - val_loss: 0.3134 - val_accuracy: 0.8979\n",
      "Epoch 6/30\n",
      "433/433 [==============================] - ETA: 0s - loss: 0.0847 - accuracy: 0.9701\n",
      "Epoch 00006: val_accuracy did not improve from 0.91071\n",
      "433/433 [==============================] - 802s 2s/step - loss: 0.0847 - accuracy: 0.9701 - val_loss: 0.3013 - val_accuracy: 0.9071\n",
      "Epoch 7/30\n",
      "433/433 [==============================] - ETA: 0s - loss: 0.0667 - accuracy: 0.9747\n",
      "Epoch 00007: val_accuracy did not improve from 0.91071\n",
      "433/433 [==============================] - 472s 1s/step - loss: 0.0667 - accuracy: 0.9747 - val_loss: 0.3281 - val_accuracy: 0.8892\n",
      "Epoch 8/30\n",
      "433/433 [==============================] - ETA: 0s - loss: 0.0671 - accuracy: 0.9766\n",
      "Epoch 00008: val_accuracy did not improve from 0.91071\n",
      "433/433 [==============================] - 455s 1s/step - loss: 0.0671 - accuracy: 0.9766 - val_loss: 0.2956 - val_accuracy: 0.9107\n",
      "Epoch 9/30\n",
      "433/433 [==============================] - ETA: 0s - loss: 0.0562 - accuracy: 0.9797\n",
      "Epoch 00009: val_accuracy did not improve from 0.91071\n",
      "433/433 [==============================] - 450s 1s/step - loss: 0.0562 - accuracy: 0.9797 - val_loss: 0.4340 - val_accuracy: 0.8862\n",
      "Epoch 10/30\n",
      "433/433 [==============================] - ETA: 0s - loss: 0.0568 - accuracy: 0.9807\n",
      "Epoch 00010: val_accuracy did not improve from 0.91071\n",
      "433/433 [==============================] - 450s 1s/step - loss: 0.0568 - accuracy: 0.9807 - val_loss: 0.3339 - val_accuracy: 0.9023\n",
      "Epoch 11/30\n",
      "433/433 [==============================] - ETA: 0s - loss: 0.0348 - accuracy: 0.9883\n",
      "Epoch 00011: val_accuracy improved from 0.91071 to 0.91211, saving model to cutout_model_fold1.h5\n",
      "433/433 [==============================] - 449s 1s/step - loss: 0.0348 - accuracy: 0.9883 - val_loss: 0.3396 - val_accuracy: 0.9121\n",
      "Epoch 12/30\n",
      "433/433 [==============================] - ETA: 0s - loss: 0.0256 - accuracy: 0.9910\n",
      "Epoch 00012: val_accuracy improved from 0.91211 to 0.91323, saving model to cutout_model_fold1.h5\n",
      "433/433 [==============================] - 450s 1s/step - loss: 0.0256 - accuracy: 0.9910 - val_loss: 0.3536 - val_accuracy: 0.9132\n",
      "Epoch 13/30\n",
      "433/433 [==============================] - ETA: 0s - loss: 0.0212 - accuracy: 0.9933\n",
      "Epoch 00013: val_accuracy improved from 0.91323 to 0.91602, saving model to cutout_model_fold1.h5\n",
      "433/433 [==============================] - 444s 1s/step - loss: 0.0212 - accuracy: 0.9933 - val_loss: 0.3946 - val_accuracy: 0.9160\n",
      "Epoch 14/30\n",
      "433/433 [==============================] - ETA: 0s - loss: 0.0188 - accuracy: 0.9931\n",
      "Epoch 00014: val_accuracy improved from 0.91602 to 0.92327, saving model to cutout_model_fold1.h5\n",
      "433/433 [==============================] - 449s 1s/step - loss: 0.0188 - accuracy: 0.9931 - val_loss: 0.3502 - val_accuracy: 0.9233\n",
      "Epoch 15/30\n",
      "433/433 [==============================] - ETA: 0s - loss: 0.0188 - accuracy: 0.9939\n",
      "Epoch 00015: val_accuracy did not improve from 0.92327\n",
      "433/433 [==============================] - 442s 1s/step - loss: 0.0188 - accuracy: 0.9939 - val_loss: 0.3974 - val_accuracy: 0.9138\n",
      "Epoch 16/30\n",
      "433/433 [==============================] - ETA: 0s - loss: 0.0156 - accuracy: 0.9939\n",
      "Epoch 00016: val_accuracy did not improve from 0.92327\n",
      "433/433 [==============================] - 456s 1s/step - loss: 0.0156 - accuracy: 0.9939 - val_loss: 0.3592 - val_accuracy: 0.9157\n",
      "Epoch 17/30\n",
      "433/433 [==============================] - ETA: 0s - loss: 0.0149 - accuracy: 0.9947\n",
      "Epoch 00017: val_accuracy did not improve from 0.92327\n",
      "433/433 [==============================] - 456s 1s/step - loss: 0.0149 - accuracy: 0.9947 - val_loss: 0.4126 - val_accuracy: 0.9113\n",
      "Epoch 18/30\n",
      "433/433 [==============================] - ETA: 0s - loss: 0.0140 - accuracy: 0.9949\n",
      "Epoch 00018: val_accuracy did not improve from 0.92327\n",
      "433/433 [==============================] - 455s 1s/step - loss: 0.0140 - accuracy: 0.9949 - val_loss: 0.3966 - val_accuracy: 0.9191\n",
      "Epoch 19/30\n",
      "433/433 [==============================] - ETA: 0s - loss: 0.0113 - accuracy: 0.9958\n",
      "Epoch 00019: val_accuracy did not improve from 0.92327\n",
      "433/433 [==============================] - 462s 1s/step - loss: 0.0113 - accuracy: 0.9958 - val_loss: 0.4189 - val_accuracy: 0.9180\n",
      "Epoch 20/30\n",
      "433/433 [==============================] - ETA: 0s - loss: 0.0098 - accuracy: 0.9966\n",
      "Epoch 00020: val_accuracy did not improve from 0.92327\n",
      "433/433 [==============================] - 457s 1s/step - loss: 0.0098 - accuracy: 0.9966 - val_loss: 0.4105 - val_accuracy: 0.9194\n",
      "Epoch 21/30\n",
      "433/433 [==============================] - ETA: 0s - loss: 0.0086 - accuracy: 0.9973\n",
      "Epoch 00021: val_accuracy did not improve from 0.92327\n",
      "433/433 [==============================] - 459s 1s/step - loss: 0.0086 - accuracy: 0.9973 - val_loss: 0.4223 - val_accuracy: 0.9155\n",
      "Epoch 22/30\n",
      "433/433 [==============================] - ETA: 0s - loss: 0.0086 - accuracy: 0.9968\n",
      "Epoch 00022: val_accuracy did not improve from 0.92327\n",
      "433/433 [==============================] - 461s 1s/step - loss: 0.0086 - accuracy: 0.9968 - val_loss: 0.4305 - val_accuracy: 0.9180\n",
      "Epoch 23/30\n",
      "433/433 [==============================] - ETA: 0s - loss: 0.0088 - accuracy: 0.9973\n",
      "Epoch 00023: val_accuracy did not improve from 0.92327\n",
      "433/433 [==============================] - 460s 1s/step - loss: 0.0088 - accuracy: 0.9973 - val_loss: 0.4573 - val_accuracy: 0.9116\n",
      "Epoch 24/30\n",
      "433/433 [==============================] - ETA: 0s - loss: 0.0080 - accuracy: 0.9969\n",
      "Epoch 00024: val_accuracy did not improve from 0.92327\n",
      "433/433 [==============================] - 455s 1s/step - loss: 0.0080 - accuracy: 0.9969 - val_loss: 0.4202 - val_accuracy: 0.9155\n",
      "Epoch 25/30\n",
      "433/433 [==============================] - ETA: 0s - loss: 0.0073 - accuracy: 0.9970\n",
      "Epoch 00025: val_accuracy did not improve from 0.92327\n",
      "433/433 [==============================] - 455s 1s/step - loss: 0.0073 - accuracy: 0.9970 - val_loss: 0.4207 - val_accuracy: 0.9199\n",
      "Epoch 26/30\n",
      "433/433 [==============================] - ETA: 0s - loss: 0.0067 - accuracy: 0.9973\n",
      "Epoch 00026: val_accuracy did not improve from 0.92327\n",
      "433/433 [==============================] - 454s 1s/step - loss: 0.0067 - accuracy: 0.9973 - val_loss: 0.4110 - val_accuracy: 0.9210\n",
      "Epoch 27/30\n",
      "433/433 [==============================] - ETA: 0s - loss: 0.0077 - accuracy: 0.9970\n",
      "Epoch 00027: val_accuracy did not improve from 0.92327\n",
      "433/433 [==============================] - 452s 1s/step - loss: 0.0077 - accuracy: 0.9970 - val_loss: 0.4090 - val_accuracy: 0.9219\n",
      "Epoch 28/30\n",
      "433/433 [==============================] - ETA: 0s - loss: 0.0057 - accuracy: 0.9978\n",
      "Epoch 00028: val_accuracy did not improve from 0.92327\n",
      "433/433 [==============================] - 457s 1s/step - loss: 0.0057 - accuracy: 0.9978 - val_loss: 0.4398 - val_accuracy: 0.9188\n",
      "Epoch 29/30\n",
      "433/433 [==============================] - ETA: 0s - loss: 0.0061 - accuracy: 0.9975\n",
      "Epoch 00029: val_accuracy did not improve from 0.92327\n",
      "433/433 [==============================] - 452s 1s/step - loss: 0.0061 - accuracy: 0.9975 - val_loss: 0.4695 - val_accuracy: 0.9182\n",
      "Epoch 30/30\n",
      "433/433 [==============================] - ETA: 0s - loss: 0.0068 - accuracy: 0.9972\n",
      "Epoch 00030: val_accuracy did not improve from 0.92327\n",
      "433/433 [==============================] - 454s 1s/step - loss: 0.0068 - accuracy: 0.9972 - val_loss: 0.4664 - val_accuracy: 0.9169\n"
     ]
    }
   ],
   "source": [
    "history = pretrained_model.fit(train_generator,\n",
    "          steps_per_epoch=TRAIN_STEP_SIZE,\n",
    "          epochs=30,\n",
    "          validation_data=val_generator,\n",
    "          validation_steps=VAL_STEP_SIZE,\n",
    "          callbacks=callbacks_list)"
   ]
  },
  {
   "cell_type": "code",
   "execution_count": 12,
   "metadata": {
    "execution": {
     "iopub.execute_input": "2020-11-21T22:50:26.324242Z",
     "iopub.status.busy": "2020-11-21T22:50:26.322238Z",
     "iopub.status.idle": "2020-11-21T22:50:26.324944Z",
     "shell.execute_reply": "2020-11-21T22:50:26.325420Z"
    },
    "papermill": {
     "duration": 5.349521,
     "end_time": "2020-11-21T22:50:26.325554",
     "exception": false,
     "start_time": "2020-11-21T22:50:20.976033",
     "status": "completed"
    },
    "tags": []
   },
   "outputs": [],
   "source": [
    "np.save(\"fold1_validation.npy\", history.history)"
   ]
  }
 ],
 "metadata": {
  "kernelspec": {
   "display_name": "Python 3",
   "language": "python",
   "name": "python3"
  },
  "language_info": {
   "codemirror_mode": {
    "name": "ipython",
    "version": 3
   },
   "file_extension": ".py",
   "mimetype": "text/x-python",
   "name": "python",
   "nbconvert_exporter": "python",
   "pygments_lexer": "ipython3",
   "version": "3.7.6"
  },
  "papermill": {
   "duration": 14046.878443,
   "end_time": "2020-11-21T22:50:33.420094",
   "environment_variables": {},
   "exception": null,
   "input_path": "__notebook__.ipynb",
   "output_path": "__notebook__.ipynb",
   "parameters": {},
   "start_time": "2020-11-21T18:56:26.541651",
   "version": "2.1.0"
  }
 },
 "nbformat": 4,
 "nbformat_minor": 4
}
