{
 "cells": [
  {
   "cell_type": "code",
   "execution_count": 1,
   "metadata": {
    "colab": {
     "base_uri": "https://localhost:8080/"
    },
    "executionInfo": {
     "elapsed": 33047,
     "status": "ok",
     "timestamp": 1605691901418,
     "user": {
      "displayName": "Alfred Huang",
      "photoUrl": "https://lh3.googleusercontent.com/a-/AOh14GhYxw8HnY0xd4HJjkAPB2nEIZ2Qj8hOM096K1PW=s64",
      "userId": "17912179080638798466"
     },
     "user_tz": -480
    },
    "id": "Vm867s1Rrd4D",
    "outputId": "61b9cb29-1414-4a4b-ef9f-db4e53812501"
   },
   "outputs": [
    {
     "name": "stdout",
     "output_type": "stream",
     "text": [
      "Mounted at /content/gdrive/\n"
     ]
    }
   ],
   "source": [
    "from google.colab import drive\n",
    "drive.mount('/content/gdrive/')"
   ]
  },
  {
   "cell_type": "markdown",
   "metadata": {
    "id": "wuL_79Jtro3t"
   },
   "source": [
    "### Import Libraries"
   ]
  },
  {
   "cell_type": "code",
   "execution_count": 3,
   "metadata": {
    "executionInfo": {
     "elapsed": 4066,
     "status": "ok",
     "timestamp": 1605691920233,
     "user": {
      "displayName": "Alfred Huang",
      "photoUrl": "https://lh3.googleusercontent.com/a-/AOh14GhYxw8HnY0xd4HJjkAPB2nEIZ2Qj8hOM096K1PW=s64",
      "userId": "17912179080638798466"
     },
     "user_tz": -480
    },
    "id": "X8unaSebroHU"
   },
   "outputs": [],
   "source": [
    "import pandas as pd\n",
    "import numpy as np  \n",
    "import matplotlib.pyplot as plt\n",
    "plt.style.use('ggplot')\n",
    "from sklearn.metrics import f1_score\n",
    "\n",
    "import cv2\n",
    "import keras\n",
    "from keras.applications.inception_v3 import InceptionV3, preprocess_input\n",
    "from keras.models import Sequential, Model, load_model\n",
    "from keras.layers import Dropout, Flatten, Dense, GlobalAveragePooling2D\n",
    "from keras.optimizers import SGD\n",
    "from keras.callbacks import ModelCheckpoint\n",
    "from keras_preprocessing.image import ImageDataGenerator\n",
    "from keras.utils import np_utils"
   ]
  },
  {
   "cell_type": "markdown",
   "metadata": {
    "id": "sDx95n-lsqSC"
   },
   "source": [
    "### Dataset\n",
    "\n",
    "The recommended partitioning of images into training, validation, testing of the data set is:\n",
    "\n",
    "- 1-162770 are training\n",
    "- 162771-182637 are validation\n",
    "- 182638-202599 are testing\n",
    "\n",
    "The partition is in file list_eval_partition.csv\n",
    "\n",
    "Subset of dataset will be used due to time constraint:\n",
    "\n",
    "- Training 20000 images\n",
    "- Validation 5000 images\n",
    "- Test 5000 Images"
   ]
  },
  {
   "cell_type": "code",
   "execution_count": null,
   "metadata": {
    "id": "Rodp8i92sr-O"
   },
   "outputs": [],
   "source": [
    "data_folder = '/content/gdrive/My Drive/Colab Notebooks/celeba-dataset/'\n",
    "img_folder = '/content/gdrive/My Drive/Colab Notebooks/img_align_celeba/img_align_celeba/'\n",
    "\n",
    "TRAINING_SAMPLES = 20000\n",
    "VALIDATION_SAMPLES = 2000\n",
    "TEST_SAMPLES = 2000\n",
    "IMG_WIDTH = 178\n",
    "IMG_HEIGHT = 218\n",
    "BATCH_SIZE = 16\n",
    "NUM_EPOCHS = 20"
   ]
  },
  {
   "cell_type": "code",
   "execution_count": null,
   "metadata": {
    "id": "xOInzyECtsVE"
   },
   "outputs": [],
   "source": [
    "# recommended dataset partition by authors\n",
    "df_partition = pd.read_csv(f\"{data_folder}list_eval_partition.csv\")\n",
    "df_partition.head()"
   ]
  },
  {
   "cell_type": "code",
   "execution_count": null,
   "metadata": {
    "id": "PR5qkF8utsdZ"
   },
   "outputs": [],
   "source": [
    "# display counter by partition\n",
    "df_partition['partition'].value_counts().sort_index()"
   ]
  },
  {
   "cell_type": "code",
   "execution_count": null,
   "metadata": {
    "id": "ZGzBcMyCtsir"
   },
   "outputs": [],
   "source": [
    "# join the partition on specified column\n",
    "df_partition.set_index('image_id', inplace=True)\n",
    "df_par_attr = df_partition.join(df_attr['Male'], how='inner')\n",
    "df_par_attr.head()"
   ]
  },
  {
   "cell_type": "markdown",
   "metadata": {
    "id": "9Y-DxO-GuLLI"
   },
   "source": [
    "### Generate Partitions"
   ]
  },
  {
   "cell_type": "code",
   "execution_count": null,
   "metadata": {
    "id": "bOaZhhbSuOkY"
   },
   "outputs": [],
   "source": [
    "def load_reshape_img(fname):\n",
    "    img = load_img(fname)\n",
    "    x = img_to_array(img)/255.\n",
    "    x = x.reshape((1,) + x.shape)\n",
    "    return x\n",
    "\n",
    "def generate_df(partition, attr, num_samples):\n",
    "    \"\"\"\n",
    "    this function generates recommended partition for train, validation and test for CelebA dataset\n",
    "    \"\"\"\n",
    "\n",
    "    df_ = df_par_attr[(df_par_attr['partition'] == partition) \n",
    "                           & (df_par_attr[attr] == 0)].sample(int(num_samples/2))\n",
    "    df_ = pd.concat([df_,\n",
    "                      df_par_attr[(df_par_attr['partition'] == partition) \n",
    "                                  & (df_par_attr[attr] == 1)].sample(int(num_samples/2))])\n",
    "\n",
    "    # train - validation\n",
    "    if partition != 2:\n",
    "        x_ = np.array([load_reshape_img(images_folder + fname) for fname in df_.index])\n",
    "        x_ = x_.reshape(x_.shape[0], 218, 178, 3)\n",
    "        y_ = np_utils.to_categorical(df_[attr],2)\n",
    "        \n",
    "    # test\n",
    "    else:\n",
    "        x_ = []\n",
    "        y_ = []\n",
    "\n",
    "        for index, target in df_.iterrows():\n",
    "            im = cv2.imread(images_folder + index)\n",
    "            im = cv2.resize(cv2.cvtColor(im, cv2.COLOR_BGR2RGB), (IMG_WIDTH, IMG_HEIGHT)).astype(np.float32) / 255.0\n",
    "            im = np.expand_dims(im, axis =0)\n",
    "            x_.append(im)\n",
    "            y_.append(target[attr])\n",
    "\n",
    "    return x_, y_"
   ]
  },
  {
   "cell_type": "markdown",
   "metadata": {
    "id": "3U2zgAnFudFY"
   },
   "source": [
    "### Data Augmentation as part of pre-training"
   ]
  },
  {
   "cell_type": "code",
   "execution_count": null,
   "metadata": {
    "id": "DSku-sbaucLL"
   },
   "outputs": [],
   "source": [
    "# Generate image generator for data augmentation\n",
    "datagen =  ImageDataGenerator(\n",
    "  #preprocessing_function=preprocess_input,\n",
    "  rotation_range=30,\n",
    "  width_shift_range=0.2,\n",
    "  height_shift_range=0.2,\n",
    "  shear_range=0.2,\n",
    "  zoom_range=0.2,\n",
    "  horizontal_flip=True\n",
    ")\n",
    "\n",
    "# load one image and reshape\n",
    "img = load_img(EXAMPLE_PIC)\n",
    "x = img_to_array(img)/255.\n",
    "x = x.reshape((1,) + x.shape)\n",
    "\n",
    "# plot 10 augmented images of the loaded iamge\n",
    "plt.figure(figsize=(20,10))\n",
    "plt.suptitle('Data Augmentation', fontsize=28)\n",
    "\n",
    "i = 0\n",
    "for batch in datagen.flow(x, batch_size=1):\n",
    "    plt.subplot(3, 5, i+1)\n",
    "    plt.grid(False)\n",
    "    plt.imshow( batch.reshape(218, 178, 3))\n",
    "    \n",
    "    if i == 9:\n",
    "        break\n",
    "    i += 1\n",
    "    \n",
    "plt.show()"
   ]
  },
  {
   "cell_type": "code",
   "execution_count": null,
   "metadata": {
    "id": "KioaJ5Jfumeh"
   },
   "outputs": [],
   "source": [
    "# train data\n",
    "x_train, y_train = generate_df(0, 'Male', TRAINING_SAMPLES)\n",
    "\n",
    "train_datagen =  ImageDataGenerator(preprocessing_function=preprocess_input,\n",
    "                                    rotation_range=30,\n",
    "                                    width_shift_range=0.2,\n",
    "                                    height_shift_range=0.2,\n",
    "                                    shear_range=0.2,\n",
    "                                    zoom_range=0.2,\n",
    "                                    horizontal_flip=True)\n",
    "\n",
    "train_datagen.fit(x_train)\n",
    "train_generator = train_datagen.flow(x_train, y_train, batch_size=BATCH_SIZE,)"
   ]
  },
  {
   "cell_type": "code",
   "execution_count": null,
   "metadata": {
    "id": "NSnAea63uowd"
   },
   "outputs": [],
   "source": [
    "# validation data\n",
    "x_valid, y_valid = generate_df(1, 'Male', VALIDATION_SAMPLES)"
   ]
  },
  {
   "cell_type": "markdown",
   "metadata": {
    "id": "YMkL2_kJutlE"
   },
   "source": [
    "### Network Initialization"
   ]
  },
  {
   "cell_type": "code",
   "execution_count": null,
   "metadata": {
    "id": "Nd-tF1wHustp"
   },
   "outputs": [],
   "source": [
    "# InceptionV3 with imagenet weights\n",
    "inceptionv3 = InceptionV3(weights='/content/gdrive/My Drive/Colab Notebooks/pretrained_inceptionv3_celeba/inception_v3_weights_tf_dim_ordering_tf_kernels_notop.h5',\n",
    "                          include_top=False,\n",
    "                          input_shape=(IMG_HEIGHT, IMG_WIDTH, 3))\n",
    "\n",
    "print(\"number of layers:\", len(inc_model.layers))\n",
    "\n",
    "# Replacement for top layer classifier\n",
    "x = inceptionv3.output\n",
    "x = GlobalAveragePooling2D()(x)\n",
    "x = Dense(1024, activation=\"relu\")(x)\n",
    "x = Dropout(0.5)(x)\n",
    "x = Dense(512, activation=\"relu\")(x)\n",
    "predictions = Dense(2, activation=\"softmax\")(x)\n",
    "\n",
    "# Network for pretraining\n",
    "model = Model(inputs=inceptionv3.input, outputs=predictions)\n",
    "\n",
    "# Freezing low-level layers (general features)\n",
    "for layer in model.layers[:52]:\n",
    "    layer.trainable = False\n",
    "\n",
    "model.compile(optimizer=SGD(lr=0.0001, momentum=0.9),\n",
    "              loss='categorical_crossentropy',\n",
    "              metrics=['accuracy'])"
   ]
  },
  {
   "cell_type": "markdown",
   "metadata": {
    "id": "Ih439wdyvCMy"
   },
   "source": [
    "### Callbacks"
   ]
  },
  {
   "cell_type": "code",
   "execution_count": null,
   "metadata": {
    "id": "RSRixqBWu6Qj"
   },
   "outputs": [],
   "source": [
    "checkpoint = ModelCheckpoint('/content/gdrive/My Drive/Colab Notebooks/pretrained_inceptionv3_celeba.hdf5', \n",
    "                             monitor='val_accuracy', \n",
    "                             verbose=1, \n",
    "                             save_best_only=True, \n",
    "                             mode='max')\n",
    "\n",
    "callbacks_list = [checkpoint]"
   ]
  },
  {
   "cell_type": "markdown",
   "metadata": {
    "id": "CyWC0imOvFAM"
   },
   "source": [
    "### Pretraining using CelebA dataset"
   ]
  },
  {
   "cell_type": "code",
   "execution_count": null,
   "metadata": {
    "id": "yxyLZVc9vICv"
   },
   "outputs": [],
   "source": [
    "history = model.fit(train_generator,\n",
    "                  validation_data = (x_valid, y_valid),\n",
    "                  steps_per_epoch= TRAINING_SAMPLES/BATCH_SIZE,\n",
    "                  epochs= NUM_EPOCHS,\n",
    "                  callbacks=callbacks_list,\n",
    "                  verbose=1)"
   ]
  },
  {
   "cell_type": "markdown",
   "metadata": {
    "id": "z7ptbfiyyndn"
   },
   "source": [
    "### Accuracy & Loss Plots"
   ]
  },
  {
   "cell_type": "code",
   "execution_count": null,
   "metadata": {
    "id": "imeL2J7svRHF"
   },
   "outputs": [],
   "source": [
    "# Loss vs Epochs\n",
    "plt.figure(figsize=(12, 6))\n",
    "plt.plot(history.history['loss'], label = 'train')\n",
    "plt.plot(history.history['val_loss'], label = 'valid')\n",
    "plt.legend()\n",
    "plt.title('Loss')\n",
    "plt.show();"
   ]
  },
  {
   "cell_type": "code",
   "execution_count": null,
   "metadata": {
    "id": "D4m8O6IZvS6A"
   },
   "outputs": [],
   "source": [
    "# Accuracy vs Epochs\n",
    "plt.figure(figsize=(12, 6))\n",
    "plt.plot(history.history['accuracy'], label = 'train')\n",
    "plt.plot(history.history['val_accuracy'], label = 'valid')\n",
    "plt.legend()\n",
    "plt.title('Accuracy')\n",
    "plt.show();"
   ]
  },
  {
   "cell_type": "markdown",
   "metadata": {
    "id": "LUmpm-iUvUWv"
   },
   "source": [
    "### Evaluation"
   ]
  },
  {
   "cell_type": "code",
   "execution_count": null,
   "metadata": {
    "id": "OuODbaNVvXjj"
   },
   "outputs": [],
   "source": [
    "#load the best model\n",
    "model.load_weights('/content/gdrive/My Drive/Colab Notebooks/pretrained_inceptionv3_celeba.hdf5')"
   ]
  },
  {
   "cell_type": "code",
   "execution_count": null,
   "metadata": {
    "id": "B-8Dg_e8vfRw"
   },
   "outputs": [],
   "source": [
    "# test data\n",
    "x_test, y_test = generate_df(2, 'Male', TEST_SAMPLES)\n",
    "\n",
    "# prediction\n",
    "model_predictions = [np.argmax(model.predict(feature)) for feature in x_test]\n",
    "\n",
    "# report test accuracy\n",
    "test_accuracy = 100 * np.sum(np.array(model_predictions)==y_test) / len(model_predictions)\n",
    "print(f\"Test accuracy: {test_accuracy:.4f}\")\n",
    "print('f1_score:', f1_score(y_test, model_predictions))"
   ]
  }
 ],
 "metadata": {
  "colab": {
   "authorship_tag": "ABX9TyNJpeLkBJkyTd4x3ElU+T+u",
   "name": "celebA-pretrain.ipynb",
   "provenance": []
  },
  "kernelspec": {
   "display_name": "Python 3",
   "language": "python",
   "name": "python3"
  },
  "language_info": {
   "codemirror_mode": {
    "name": "ipython",
    "version": 3
   },
   "file_extension": ".py",
   "mimetype": "text/x-python",
   "name": "python",
   "nbconvert_exporter": "python",
   "pygments_lexer": "ipython3",
   "version": "3.9.5"
  }
 },
 "nbformat": 4,
 "nbformat_minor": 4
}
